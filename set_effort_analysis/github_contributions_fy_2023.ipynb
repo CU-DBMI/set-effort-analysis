{
 "cells": [
  {
   "cell_type": "markdown",
   "id": "395bad83-ccd4-4691-a03d-37d968593a8c",
   "metadata": {},
   "source": [
    "# DBMI SET GitHub Contributions - Fiscal Year 2023\n",
    "\n",
    "Note: please set environment variables SET_EFFORT_GH_USER with your GitHub username and SET_EFFORT_GH_TOKEN with your GitHub token in order to use this notebook."
   ]
  },
  {
   "cell_type": "code",
   "execution_count": 1,
   "id": "3082aa74-182c-41c8-90ea-9b9a0109b979",
   "metadata": {
    "tags": []
   },
   "outputs": [],
   "source": [
    "import json\n",
    "import os\n",
    "from datetime import datetime\n",
    "\n",
    "import requests"
   ]
  },
  {
   "cell_type": "code",
   "execution_count": 2,
   "id": "3eff0a9f-913e-4dc9-af45-afe2356ac271",
   "metadata": {},
   "outputs": [],
   "source": [
    "# Provide your GitHub username and personal access token for authentication\n",
    "username = os.environ.get(\"SET_EFFORT_GH_USER\")\n",
    "token = os.environ.get(\"SET_EFFORT_GH_TOKEN\")\n",
    "\n",
    "date_start = datetime.strptime(\"2022-07-01\", \"%Y-%m-%d\")\n",
    "date_end = datetime.strptime(\"2023-06-30\", \"%Y-%m-%d\")\n",
    "\n",
    "# specify set members as github usernames\n",
    "set_members = [\"vincerubinetti\", \"falquaddoomi\", \"d33bs\"]\n",
    "\n",
    "# Define github organization names\n",
    "orgs = [\n",
    "    \"cu-dbmi\",\n",
    "    \"cytomining\",\n",
    "    \"wayscience\",\n",
    "    \"JRaviLab\",\n",
    "    \"krishnanlab\",\n",
    "    \"greenelab\",\n",
    "    \"manubot\",\n",
    "    \"CCPM-TIS\",\n",
    "    \"monarch-initiative\",\n",
    "    \"blekhmanlab\",\n",
    "    \"tis-lab\",\n",
    "    \"hetio\",\n",
    "    \"biothings\",\n",
    "]\n",
    "\n",
    "# Create a re-usable session object with the user creds in-built\n",
    "gh_session = requests.Session()\n",
    "gh_session.auth = (username, token)"
   ]
  },
  {
   "cell_type": "code",
   "execution_count": 3,
   "id": "aa8c6f7f-0f2b-4931-a09f-d969a8e2860b",
   "metadata": {
    "tags": []
   },
   "outputs": [],
   "source": [
    "def within_time_range(\n",
    "    date_to_check: datetime,\n",
    "    date_start: datetime = date_start,\n",
    "    date_end: datetime = date_end,\n",
    ") -> bool:\n",
    "    \"\"\"\n",
    "    Checks whether given date falls within range of date_start and date_end\n",
    "    \"\"\"\n",
    "\n",
    "    return date_start <= date_to_check <= date_end"
   ]
  },
  {
   "cell_type": "code",
   "execution_count": 4,
   "id": "bffeb601-ecc6-44fb-b4e2-45497e34de44",
   "metadata": {
    "tags": []
   },
   "outputs": [],
   "source": [
    "org_repos = []\n",
    "\n",
    "for org in orgs:\n",
    "    # fetch the list of repositories in the organizations, appending each\n",
    "    org_repos += json.loads(\n",
    "        gh_session.get(f\"https://api.github.com/orgs/{org}/repos\").text\n",
    "    )"
   ]
  },
  {
   "cell_type": "code",
   "execution_count": 5,
   "id": "d6ff4dc1-360d-49bb-854a-83386e88637b",
   "metadata": {
    "tags": []
   },
   "outputs": [],
   "source": [
    "# set parameters for gathering data\n",
    "params = {\n",
    "    # get issues with all states\n",
    "    \"state\": \"all\",\n",
    "    # get only the first page of 400 results\n",
    "    \"page\": \"1\",\n",
    "    \"per_page\": 400,\n",
    "    # sort order as update datetime descending (most recent first)\n",
    "    \"sort\": \"updated\",\n",
    "    \"direction\": \"desc\",\n",
    "}\n",
    "# use GitHub API v3\n",
    "headers = {\"Accept\": \"application/vnd.github.v3+json\"}"
   ]
  },
  {
   "cell_type": "code",
   "execution_count": 6,
   "id": "178bf89a-5d62-4a52-a4d7-6ee7fff44354",
   "metadata": {},
   "outputs": [
    {
     "name": "stdout",
     "output_type": "stream",
     "text": [
      "Repos contributed to count: 38\n",
      "Repo opened issues: 40\n",
      "Repo closed issues: 19\n",
      "Repo opened pull requests: 1\n",
      "Repo closed pull requests: 76\n",
      "Repo pull request reviews: 222\n"
     ]
    }
   ],
   "source": [
    "# Initialize counters\n",
    "repo_contribution_count = 0\n",
    "total_open_prs = 0\n",
    "total_closed_prs = 0\n",
    "total_reviewed_prs = 0\n",
    "total_open_issues = 0\n",
    "total_closed_issues = 0\n",
    "\n",
    "touched_repos = []\n",
    "\n",
    "# Loop over the repositories and increment counters\n",
    "for repo in org_repos:\n",
    "    # Fetch the list of issues (including PRs) in the repository\n",
    "    issues = json.loads(\n",
    "        gh_session.get(\n",
    "            f\"https://api.github.com/repos/{repo['full_name']}/issues\",\n",
    "            headers=headers,\n",
    "            params=params,\n",
    "        ).text\n",
    "    )\n",
    "\n",
    "    # Loop over the issues and count the open and closed PRs\n",
    "    for issue in issues:\n",
    "        if within_time_range(\n",
    "            date_to_check=datetime.strptime(issue[\"updated_at\"], \"%Y-%m-%dT%H:%M:%SZ\")\n",
    "        ):\n",
    "            # pull request block\n",
    "            if \"pull_request\" in issue:\n",
    "                # for pull requests authored by set members\n",
    "                if issue[\"user\"][\"login\"] in set_members:\n",
    "                    if issue[\"state\"] == \"open\":\n",
    "                        total_open_prs += 1\n",
    "                    elif issue[\"state\"] == \"closed\":\n",
    "                        total_closed_prs += 1\n",
    "                    if repo[\"full_name\"] not in touched_repos:\n",
    "                        touched_repos.append(repo[\"full_name\"])\n",
    "\n",
    "                # pull request review block\n",
    "                for review in json.loads(\n",
    "                    gh_session.get(\n",
    "                        f\"{issue['pull_request']['url']}/reviews\",\n",
    "                        headers=headers,\n",
    "                        params=params,\n",
    "                    ).text\n",
    "                ):\n",
    "                    if (\n",
    "                        # if the reviewer is one of the set members\n",
    "                        review[\"user\"][\"login\"] in set_members\n",
    "                        # if the reviewer is not the issue author\n",
    "                        # (don't count comments on PR submitted by same set member)\n",
    "                        and issue[\"user\"][\"login\"] != review[\"user\"][\"login\"]\n",
    "                        and within_time_range(\n",
    "                            date_to_check=datetime.strptime(\n",
    "                                review[\"submitted_at\"], \"%Y-%m-%dT%H:%M:%SZ\"\n",
    "                            )\n",
    "                        )\n",
    "                    ):\n",
    "                        total_reviewed_prs += 1\n",
    "                        if repo[\"full_name\"] not in touched_repos:\n",
    "                            touched_repos.append(repo[\"full_name\"])\n",
    "\n",
    "            # non pull-request issue block\n",
    "            elif issue[\"user\"][\"login\"] in set_members:\n",
    "                if issue[\"state\"] == \"open\":\n",
    "                    total_open_issues += 1\n",
    "                elif issue[\"state\"] == \"closed\":\n",
    "                    total_closed_issues += 1\n",
    "\n",
    "                if repo[\"full_name\"] not in touched_repos:\n",
    "                    touched_repos.append(repo[\"full_name\"])\n",
    "\n",
    "\n",
    "# Print the totals\n",
    "print(f\"Repos contributed to count: {len(touched_repos)}\")\n",
    "print(f\"Repo opened issues: {total_open_issues}\")\n",
    "print(f\"Repo closed issues: {total_closed_issues}\")\n",
    "print(f\"Repo opened pull requests: {total_open_prs}\")\n",
    "print(f\"Repo closed pull requests: {total_closed_prs}\")\n",
    "print(f\"Repo pull request reviews: {total_reviewed_prs}\")"
   ]
  }
 ],
 "metadata": {
  "kernelspec": {
   "display_name": "Python 3 (ipykernel)",
   "language": "python",
   "name": "python3"
  },
  "language_info": {
   "codemirror_mode": {
    "name": "ipython",
    "version": 3
   },
   "file_extension": ".py",
   "mimetype": "text/x-python",
   "name": "python",
   "nbconvert_exporter": "python",
   "pygments_lexer": "ipython3",
   "version": "3.9.12"
  }
 },
 "nbformat": 4,
 "nbformat_minor": 5
}
