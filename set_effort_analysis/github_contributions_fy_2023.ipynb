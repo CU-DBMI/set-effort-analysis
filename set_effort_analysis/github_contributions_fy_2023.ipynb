{
 "cells": [
  {
   "cell_type": "markdown",
   "id": "395bad83-ccd4-4691-a03d-37d968593a8c",
   "metadata": {},
   "source": [
    "# DBMI SET GitHub Contributions - Fiscal Year 2023\n",
    "\n",
    "Note: please set environment variable SET_EFFORT_GH_TOKEN with your GitHub token in order to use this notebook."
   ]
  },
  {
   "cell_type": "code",
   "execution_count": 1,
   "id": "3082aa74-182c-41c8-90ea-9b9a0109b979",
   "metadata": {
    "tags": []
   },
   "outputs": [],
   "source": [
    "import json\n",
    "import os\n",
    "import time\n",
    "from datetime import datetime\n",
    "from typing import Optional\n",
    "\n",
    "import requests\n",
    "from github import Auth, Github"
   ]
  },
  {
   "cell_type": "code",
   "execution_count": 2,
   "id": "3eff0a9f-913e-4dc9-af45-afe2356ac271",
   "metadata": {},
   "outputs": [],
   "source": [
    "# set github authorization and client\n",
    "g = Github(auth=Auth.Token(os.environ.get(\"SET_EFFORT_GH_TOKEN\")), per_page=100)\n",
    "\n",
    "date_start = datetime.strptime(\"2022-07-01\", \"%Y-%m-%d\")\n",
    "date_end = datetime.strptime(\"2023-06-30\", \"%Y-%m-%d\")\n",
    "\n",
    "# specify set members as github usernames\n",
    "set_members = [\"vincerubinetti\", \"falquaddoomi\", \"d33bs\"]\n",
    "\n",
    "# Define github organization names\n",
    "orgs = [\n",
    "    \"cu-dbmi\",\n",
    "    \"cytomining\",\n",
    "    \"wayscience\",\n",
    "    \"JRaviLab\",\n",
    "    \"krishnanlab\",\n",
    "    \"greenelab\",\n",
    "    \"manubot\",\n",
    "    \"CCPM-TIS\",\n",
    "    \"monarch-initiative\",\n",
    "    \"blekhmanlab\",\n",
    "    \"tis-lab\",\n",
    "    \"hetio\",\n",
    "    \"biothings\",\n",
    "]"
   ]
  },
  {
   "cell_type": "code",
   "execution_count": 3,
   "id": "aa8c6f7f-0f2b-4931-a09f-d969a8e2860b",
   "metadata": {
    "tags": []
   },
   "outputs": [],
   "source": [
    "def within_time_range(\n",
    "    date_to_check: Optional[datetime],\n",
    "    date_start: datetime = date_start,\n",
    "    date_end: datetime = date_end,\n",
    ") -> bool:\n",
    "    \"\"\"\n",
    "    Checks whether given date falls within range of date_start and date_end\n",
    "    \"\"\"\n",
    "\n",
    "    # if date_to_check is None, return false\n",
    "    if not date_to_check:\n",
    "        return False\n",
    "\n",
    "    return date_start <= date_to_check <= date_end"
   ]
  },
  {
   "cell_type": "code",
   "execution_count": 4,
   "id": "bffeb601-ecc6-44fb-b4e2-45497e34de44",
   "metadata": {
    "tags": []
   },
   "outputs": [
    {
     "name": "stdout",
     "output_type": "stream",
     "text": [
      "782\n"
     ]
    }
   ],
   "source": [
    "# gather organization repos\n",
    "org_repos = [\n",
    "    repo for org_name in orgs for repo in g.get_organization(org_name).get_repos()\n",
    "]\n",
    "\n",
    "print(len(org_repos))"
   ]
  },
  {
   "cell_type": "code",
   "execution_count": 5,
   "id": "178bf89a-5d62-4a52-a4d7-6ee7fff44354",
   "metadata": {},
   "outputs": [],
   "source": [
    "# Initialize counters\n",
    "repo_contribution_count = 0\n",
    "total_open_prs = 0\n",
    "total_closed_prs = 0\n",
    "total_reviewed_prs = 0\n",
    "total_open_issues = 0\n",
    "total_closed_issues = 0\n",
    "\n",
    "touched_repos = []\n",
    "\n",
    "# Loop over the repositories and increment counters\n",
    "for repo in org_repos:\n",
    "    # add arbitrary sleep to avoid rate limit exceptions\n",
    "    time.sleep(1)\n",
    "    # pull request block\n",
    "    # Loop over list of pulls in the repository\n",
    "    for pull in repo.get_pulls(state=\"all\"):\n",
    "        if (\n",
    "            within_time_range(date_to_check=pull.created_at)\n",
    "            or within_time_range(date_to_check=pull.closed_at)\n",
    "            or within_time_range(date_to_check=pull.updated_at)\n",
    "        ):\n",
    "            # for pull requests authored by set members\n",
    "            if pull.user.login in set_members:\n",
    "                if pull.state == \"open\":\n",
    "                    total_open_prs += 1\n",
    "                elif pull.state == \"closed\":\n",
    "                    total_closed_prs += 1\n",
    "                if repo.full_name not in touched_repos:\n",
    "                    touched_repos.append(repo.full_name)\n",
    "\n",
    "            # pull request review block\n",
    "            for review in pull.get_reviews():\n",
    "                if (\n",
    "                    # if the reviewer is one of the set members\n",
    "                    review.user.login in set_members\n",
    "                    # if the reviewer is not the issue author\n",
    "                    # (don't count comments on PR submitted by same set member)\n",
    "                    and pull.user.login != review.user.login\n",
    "                    and within_time_range(date_to_check=review.submitted_at)\n",
    "                ):\n",
    "                    total_reviewed_prs += 1\n",
    "                    if repo.full_name not in touched_repos:\n",
    "                        touched_repos.append(repo.full_name)\n",
    "    \n",
    "    # add arbitrary sleep to avoid rate limit exceptions\n",
    "    time.sleep(1)\n",
    "    \n",
    "    # Loop over list of issues in the repository\n",
    "    for issue in repo.get_issues(state=\"all\", since=date_start):\n",
    "        if (\n",
    "            within_time_range(date_to_check=issue.created_at)\n",
    "            or within_time_range(date_to_check=issue.closed_at)\n",
    "            or within_time_range(date_to_check=issue.updated_at)\n",
    "        ):\n",
    "            # non pull-request issue block\n",
    "            if issue.user.login in set_members:\n",
    "                if issue.state == \"open\":\n",
    "                    total_open_issues += 1\n",
    "                elif issue.state == \"closed\":\n",
    "                    total_closed_issues += 1\n",
    "\n",
    "                if repo.full_name not in touched_repos:\n",
    "                    touched_repos.append(repo.full_name)"
   ]
  },
  {
   "cell_type": "code",
   "execution_count": 7,
   "id": "aeb3e43e-cf91-40f9-96ab-5d4e215a278b",
   "metadata": {
    "tags": []
   },
   "outputs": [
    {
     "name": "stdout",
     "output_type": "stream",
     "text": [
      "Repo opened issues: 73\n",
      "Repo closed issues: 311\n",
      "Repo opened pull requests: 2\n",
      "Repo closed pull requests: 186\n",
      "\n",
      "Repos contributed to count: 66\n",
      "Total number of issues: 384\n",
      "Total pull requests: 188\n",
      "Total pull request reviews: 400\n"
     ]
    }
   ],
   "source": [
    "# Print the numbers\n",
    "print(f\"Repo opened issues: {total_open_issues}\")\n",
    "print(f\"Repo closed issues: {total_closed_issues}\")\n",
    "print(f\"Repo opened pull requests: {total_open_prs}\")\n",
    "print(f\"Repo closed pull requests: {total_closed_prs}\", end=\"\\n\\n\")\n",
    "\n",
    "print(f\"Repos contributed to count: {len(touched_repos)}\")\n",
    "print(f\"Total number of issues: {total_open_issues + total_closed_issues}\")\n",
    "print(f\"Total pull requests: {total_open_prs + total_closed_prs}\")\n",
    "print(f\"Total pull request reviews: {total_reviewed_prs}\")"
   ]
  }
 ],
 "metadata": {
  "kernelspec": {
   "display_name": "Python 3 (ipykernel)",
   "language": "python",
   "name": "python3"
  },
  "language_info": {
   "codemirror_mode": {
    "name": "ipython",
    "version": 3
   },
   "file_extension": ".py",
   "mimetype": "text/x-python",
   "name": "python",
   "nbconvert_exporter": "python",
   "pygments_lexer": "ipython3",
   "version": "3.9.12"
  }
 },
 "nbformat": 4,
 "nbformat_minor": 5
}
