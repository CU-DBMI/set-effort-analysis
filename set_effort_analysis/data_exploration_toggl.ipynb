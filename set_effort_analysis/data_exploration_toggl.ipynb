{
 "cells": [
  {
   "cell_type": "markdown",
   "id": "66efaf66-6e56-4bdc-8610-ca6a360cad58",
   "metadata": {
    "tags": []
   },
   "source": [
    "# DBMI SET Effort Analysis - Data Exploration - Toggl.com"
   ]
  },
  {
   "cell_type": "code",
   "execution_count": null,
   "id": "9cdd1b0b-e37f-4c10-a2e1-77b96cd424c4",
   "metadata": {
    "tags": []
   },
   "outputs": [],
   "source": [
    "import os\n",
    "import pathlib\n",
    "import zipfile\n",
    "from datetime import datetime, timedelta\n",
    "\n",
    "import duckdb\n",
    "import pandas as pd\n",
    "from toggl.TogglPy import Toggl"
   ]
  },
  {
   "cell_type": "code",
   "execution_count": null,
   "id": "ed7fcc40-4824-4fb8-8de5-be63f89ebbc3",
   "metadata": {
    "tags": []
   },
   "outputs": [],
   "source": [
    "# pull data from dvc remote\n",
    "!dvc pull"
   ]
  },
  {
   "cell_type": "code",
   "execution_count": null,
   "id": "d04d1a04-dada-4457-9743-3e5c7d5ada04",
   "metadata": {
    "tags": []
   },
   "outputs": [],
   "source": [
    "# setting some paths for later reference\n",
    "toggl_data_dir = \"../data/toggl.com/\"\n",
    "toggl_dir_path = pathlib.Path(toggl_data_dir).mkdir(exist_ok=True)"
   ]
  },
  {
   "cell_type": "code",
   "execution_count": null,
   "id": "5aa10fac-6494-4c87-8f12-0a72ba7be06b",
   "metadata": {},
   "outputs": [],
   "source": [
    "# gather the api token from environment\n",
    "api_token = os.environ[\"TOGGL_API_TOKEN\"]\n",
    "\n",
    "# form the toggl client\n",
    "toggl = Toggl()\n",
    "toggl.setAPIKey(api_token)"
   ]
  },
  {
   "cell_type": "code",
   "execution_count": null,
   "id": "60eda76a-3769-4788-8331-93608b10b8ae",
   "metadata": {
    "tags": []
   },
   "outputs": [],
   "source": [
    "def get_flattened_summary_data(toggl: Toggl, date: str) -> dict:\n",
    "    \"\"\"\n",
    "    Find and return data structure which includes flattened\n",
    "    summary stats from toggl workday based on date str provided\n",
    "    \"\"\"\n",
    "\n",
    "    # gather a workspace for making report requests\n",
    "    workspaces = toggl.getWorkspaces()\n",
    "    default_workspace_id = workspaces[0][\"id\"]\n",
    "\n",
    "    # specify that we want reports from this week\n",
    "    req_data = {\n",
    "        \"workspace_id\": default_workspace_id,\n",
    "        \"since\": date,\n",
    "        \"until\": date,\n",
    "    }\n",
    "\n",
    "    # gather the report data\n",
    "    report_data = toggl.getSummaryReport(req_data)\n",
    "\n",
    "    return report_data"
   ]
  },
  {
   "cell_type": "code",
   "execution_count": null,
   "id": "f2157e00-e913-4c6c-9a61-5ee29b0d5629",
   "metadata": {
    "tags": []
   },
   "outputs": [],
   "source": [
    "# gather the last 3 days of work as flattened report data\n",
    "for num in range(1, 4):\n",
    "    date = (datetime.now() - timedelta(num)).strftime(\"%Y-%m-%d\")\n",
    "    print(date)\n",
    "    data = get_flattened_summary_data(toggl, date)"
   ]
  },
  {
   "cell_type": "code",
   "execution_count": null,
   "id": "d474d0de-4f20-4889-8456-cf29f76097d0",
   "metadata": {
    "tags": []
   },
   "outputs": [],
   "source": [
    "data\n",
    "pd.json_normalize(data, record_path=[\"data\"]).explode(\"items\")"
   ]
  },
  {
   "cell_type": "code",
   "execution_count": null,
   "id": "f1225663-db30-4988-b2ff-711580442adf",
   "metadata": {
    "tags": []
   },
   "outputs": [],
   "source": [
    "# export for potential later use\n",
    "acct_project_tasks.to_parquet(\n",
    "    \"../data/monday.com/datadbmi-set-monday-acct-project-tasks.parquet\"\n",
    ")"
   ]
  },
  {
   "cell_type": "code",
   "execution_count": null,
   "id": "1a3adb8c-8257-4abd-a39d-7f0765080770",
   "metadata": {},
   "outputs": [],
   "source": [
    "!dvc add ../data/monday.com/datadbmi-set-monday-acct-project-tasks.parquet\n",
    "!git add ../data/monday.com/datadbmi-set-monday-acct-project-tasks.parquet.dvc\n",
    "!dvc push"
   ]
  }
 ],
 "metadata": {
  "kernelspec": {
   "display_name": "Python 3 (ipykernel)",
   "language": "python",
   "name": "python3"
  },
  "language_info": {
   "codemirror_mode": {
    "name": "ipython",
    "version": 3
   },
   "file_extension": ".py",
   "mimetype": "text/x-python",
   "name": "python",
   "nbconvert_exporter": "python",
   "pygments_lexer": "ipython3",
   "version": "3.9.12"
  }
 },
 "nbformat": 4,
 "nbformat_minor": 5
}
