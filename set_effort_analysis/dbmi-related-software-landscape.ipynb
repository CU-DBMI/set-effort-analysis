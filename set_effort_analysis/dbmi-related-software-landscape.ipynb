{
 "cells": [
  {
   "cell_type": "markdown",
   "id": "cc345272-c4db-48c4-a97d-49fc7c5c6689",
   "metadata": {
    "tags": []
   },
   "source": [
    "# DBMI Related Software Landscape Analysis\n",
    "\n",
    "This notebook explores the existing software landscape of DBMI or DBMI related software projects (including collaborations and general CU Anschutz ecosystem).\n",
    "\n",
    "## Setup\n",
    "\n",
    "Set an environment variable named `LANDSCAPE_ANALYSIS_GH_TOKEN` to a [GitHub access token](https://docs.github.com/en/authentication/keeping-your-account-and-data-secure/managing-your-personal-access-tokens). E.g.: `export LANDSCAPE_ANALYSIS_GH_TOKEN=token_here`"
   ]
  },
  {
   "cell_type": "code",
   "execution_count": 13,
   "id": "aa4b4f3a-543e-4be5-a7f6-90fca76fec1e",
   "metadata": {
    "tags": []
   },
   "outputs": [],
   "source": [
    "import json\n",
    "import os\n",
    "import pathlib\n",
    "import statistics\n",
    "import subprocess\n",
    "from datetime import datetime, timedelta\n",
    "from typing import Dict, Optional, Union\n",
    "\n",
    "import awkward as ak\n",
    "import duckdb\n",
    "import github\n",
    "import numpy as np\n",
    "import pandas as pd\n",
    "import plotly.colors as pc\n",
    "import plotly.express as px\n",
    "import plotly.graph_objects as go\n",
    "import plotly.io as pio\n",
    "import pytz\n",
    "import requests\n",
    "from box import Box\n",
    "from github import Auth, Github, Repository\n",
    "\n",
    "# set predefined path for data\n",
    "data_dir = \"../data\"\n",
    "\n",
    "# set github authorization and client\n",
    "github_client = Github(\n",
    "    auth=Auth.Token(os.environ.get(\"LANDSCAPE_ANALYSIS_GH_TOKEN\")), per_page=100\n",
    ")\n",
    "\n",
    "# set plotly default theme\n",
    "pio.templates.default = \"simple_white\"\n",
    "\n",
    "# define a color sequence to use\n",
    "color_seq = pc.qualitative.Dark2"
   ]
  },
  {
   "cell_type": "code",
   "execution_count": 2,
   "id": "89262308-3688-48c4-8c5e-03f754afb530",
   "metadata": {
    "tags": []
   },
   "outputs": [
    {
     "data": {
      "text/plain": [
       "36"
      ]
     },
     "execution_count": 2,
     "metadata": {},
     "output_type": "execute_result"
    }
   ],
   "source": [
    "# gather org data\n",
    "org_names = Box.from_yaml(\n",
    "    filename=f\"{data_dir}/software-landscape/github-orgs.yaml\"\n",
    ").organizations\n",
    "\n",
    "# show how many orgs we need to gather data from\n",
    "len(org_names)"
   ]
  },
  {
   "cell_type": "code",
   "execution_count": 3,
   "id": "c4766e46-563c-431c-81d9-91113eb4e30f",
   "metadata": {
    "tags": []
   },
   "outputs": [],
   "source": [
    "def get_github_org_or_user(\n",
    "    name: str,\n",
    ") -> Union[github.NamedUser.NamedUser, github.Organization.Organization]:\n",
    "    \"\"\"\n",
    "    Convenience function to gather pygithub orgs or users similarly\n",
    "    using only a name as a reference point to simplify data gathering.\n",
    "    \"\"\"\n",
    "\n",
    "    try:\n",
    "        # attempt to find github org\n",
    "        return github_client.get_organization(name)\n",
    "    except github.UnknownObjectException:\n",
    "        # if we failed to find the org, try as a user instead\n",
    "        return github_client.get_user(name)\n",
    "\n",
    "\n",
    "def safe_get_readme(repo: github.Repository.Repository) -> Optional[str]:\n",
    "    \"\"\"\n",
    "    Safely retrieve GitHub repo readme data as a string,\n",
    "    returning a None where no readme is found.\n",
    "    \"\"\"\n",
    "\n",
    "    try:\n",
    "        repo.get_readme().content\n",
    "    except github.UnknownObjectException:\n",
    "        return None\n",
    "\n",
    "\n",
    "def safe_detect_license(repo: github.Repository.Repository) -> Optional[str]:\n",
    "    \"\"\"\n",
    "    Safely retrieve detect the license type ID,\n",
    "    returning a None where no readme is found\n",
    "    \"\"\"\n",
    "\n",
    "    try:\n",
    "        return repo.get_license().license.spdx_id\n",
    "    except:\n",
    "        return None\n",
    "\n",
    "\n",
    "def get_github_repo_sbom(full_name: str) -> Optional[Dict[str, str]]:\n",
    "    \"\"\"\n",
    "    Gathers GitHub Software Bill of Materials (SBOM) data\n",
    "    given a full_name (org/repo_name).\n",
    "\n",
    "    See here for more information:\n",
    "    https://docs.github.com/en/rest/dependency-graph/sboms\n",
    "    \"\"\"\n",
    "\n",
    "    try:\n",
    "        response = requests.get(\n",
    "            f\"https://api.github.com/repos/{full_name}/dependency-graph/sbom\",\n",
    "            headers={\n",
    "                \"Accept\": \"application/vnd.github+json\",\n",
    "                \"Authorization\": f\"Bearer {os.environ.get('LANDSCAPE_ANALYSIS_GH_TOKEN')}\",\n",
    "                \"X-GitHub-Api-Version\": \"2022-11-28\",\n",
    "            },\n",
    "            timeout=10,\n",
    "        )\n",
    "        response.raise_for_status()  # Raise an exception for HTTP errors\n",
    "\n",
    "        # return the result json\n",
    "        return response.json()\n",
    "\n",
    "    except requests.exceptions.RequestException as err:\n",
    "        print(\"Experienced SBOM error: \", err)\n",
    "        return None"
   ]
  },
  {
   "cell_type": "code",
   "execution_count": 4,
   "id": "9b02b733-3075-460e-b3e0-aa0f6bfa042f",
   "metadata": {
    "tags": []
   },
   "outputs": [
    {
     "name": "stderr",
     "output_type": "stream",
     "text": [
      "Request GET /repos/brentp/primer failed with 403: Forbidden\n",
      "Setting next backoff to 282.146736s\n"
     ]
    },
    {
     "data": {
      "text/html": [
       "<pre>[{&#x27;GitHub Org Name&#x27;: &#x27;thewileylab&#x27;, &#x27;Repo Name&#x27;: &#x27;ReviewR&#x27;, ...},\n",
       " {&#x27;GitHub Org Name&#x27;: &#x27;thewileylab&#x27;, &#x27;Repo Name&#x27;: &#x27;Presentations&#x27;, ...},\n",
       " {&#x27;GitHub Org Name&#x27;: &#x27;thewileylab&#x27;, &#x27;Repo Name&#x27;: ..., ...},\n",
       " {&#x27;GitHub Org Name&#x27;: &#x27;thewileylab&#x27;, &#x27;Repo Name&#x27;: &#x27;googleGroupR&#x27;, ...},\n",
       " {&#x27;GitHub Org Name&#x27;: &#x27;thewileylab&#x27;, &#x27;Repo Name&#x27;: &#x27;shinyREDCap&#x27;, ...},\n",
       " {&#x27;GitHub Org Name&#x27;: &#x27;thewileylab&#x27;, &#x27;Repo Name&#x27;: &#x27;shinyBigQuery&#x27;, ...},\n",
       " {&#x27;GitHub Org Name&#x27;: &#x27;thewileylab&#x27;, &#x27;Repo Name&#x27;: &#x27;shinyPostgreSQL&#x27;, ...},\n",
       " {&#x27;GitHub Org Name&#x27;: &#x27;thewileylab&#x27;, &#x27;Repo Name&#x27;: &#x27;EuReka&#x27;, ...},\n",
       " {&#x27;GitHub Org Name&#x27;: &#x27;thewileylab&#x27;, &#x27;Repo Name&#x27;: &#x27;synPUF&#x27;, ...},\n",
       " {&#x27;GitHub Org Name&#x27;: &#x27;thewileylab&#x27;, &#x27;Repo Name&#x27;: &#x27;mimic-omop&#x27;, ...},\n",
       " ...,\n",
       " {&#x27;GitHub Org Name&#x27;: &#x27;blekhmanlab&#x27;, &#x27;Repo Name&#x27;: &#x27;biorxiv_countries&#x27;, ...},\n",
       " {&#x27;GitHub Org Name&#x27;: &#x27;blekhmanlab&#x27;, &#x27;Repo Name&#x27;: &#x27;rxivist_spider_biorxiv&#x27;, ...},\n",
       " {&#x27;GitHub Org Name&#x27;: &#x27;blekhmanlab&#x27;, &#x27;Repo Name&#x27;: ..., ...},\n",
       " {&#x27;GitHub Org Name&#x27;: &#x27;blekhmanlab&#x27;, &#x27;Repo Name&#x27;: ..., ...},\n",
       " {&#x27;GitHub Org Name&#x27;: &#x27;blekhmanlab&#x27;, &#x27;Repo Name&#x27;: &#x27;biomehorizon&#x27;, ...},\n",
       " {&#x27;GitHub Org Name&#x27;: &#x27;blekhmanlab&#x27;, &#x27;Repo Name&#x27;: &#x27;Primates&#x27;, ...},\n",
       " {&#x27;GitHub Org Name&#x27;: &#x27;blekhmanlab&#x27;, &#x27;Repo Name&#x27;: &#x27;compendium_website&#x27;, ...},\n",
       " {&#x27;GitHub Org Name&#x27;: &#x27;blekhmanlab&#x27;, &#x27;Repo Name&#x27;: &#x27;compendium_v1&#x27;, ...},\n",
       " {&#x27;GitHub Org Name&#x27;: &#x27;blekhmanlab&#x27;, &#x27;Repo Name&#x27;: &#x27;snakemake-template&#x27;, ...}]\n",
       "--------------------------------------------------------------------------------\n",
       "type: 1099 * {\n",
       "    &quot;GitHub Org Name&quot;: string,\n",
       "    &quot;Repo Name&quot;: string,\n",
       "    &quot;GitHub Repo Full Name&quot;: string,\n",
       "    &quot;GitHub Repository ID&quot;: int64,\n",
       "    &quot;Repository Size (KB)&quot;: int64,\n",
       "    &quot;GitHub Repo Archived&quot;: bool,\n",
       "    &quot;GitHub Repo Created Month&quot;: string,\n",
       "    &quot;GitHub Stars&quot;: int64,\n",
       "    &quot;GitHub Network Count&quot;: int64,\n",
       "    &quot;GitHub Forks&quot;: int64,\n",
       "    &quot;GitHub Subscribers&quot;: int64,\n",
       "    &quot;GitHub Open Issues&quot;: int64,\n",
       "    &quot;GitHub Contributors&quot;: int64,\n",
       "    &quot;GitHub License Type&quot;: ?string,\n",
       "    &quot;GitHub Topics&quot;: var * string,\n",
       "    &quot;GitHub Description&quot;: ?string,\n",
       "    &quot;GitHub Readme&quot;: ?unknown,\n",
       "    &quot;GitHub Detected Languages&quot;: {\n",
       "        R: ?int64,\n",
       "        Dockerfile: ?int64,\n",
       "        CSS: ?int64,\n",
       "        PLpgSQL: ?int64,\n",
       "        Shell: ?int64,\n",
       "        Makefile: ?int64,\n",
       "        SQLPL: ?int64,\n",
       "        MATLAB: ?int64,\n",
       "        C: ?int64,\n",
       "        M: ?int64,\n",
       "        Mercury: ?int64,\n",
       "        Python: ?int64,\n",
       "        &quot;Objective-C&quot;: ?int64,\n",
       "        TeX: ?int64,\n",
       "        &quot;C++&quot;: ?int64,\n",
       "        HTML: ?int64,\n",
       "        JavaScript: ?int64,\n",
       "        SCSS: ?int64,\n",
       "        Ruby: ?int64,\n",
       "        &quot;Ren&#x27;Py&quot;: ?int64,\n",
       "        &quot;Vim Script&quot;: ?int64,\n",
       "        &quot;Jupyter Notebook&quot;: ?int64,\n",
       "        Lua: ?int64,\n",
       "        Roff: ?int64,\n",
       "        Rebol: ?int64,\n",
       "        &quot;Vim Snippet&quot;: ?int64,\n",
       "        SAS: ?int64,\n",
       "        Stata: ?int64,\n",
       "        Awk: ?int64,\n",
       "        Batchfile: ?int64,\n",
       "        Assembly: ?int64,\n",
       "        Arduino: ?int64,\n",
       "        SourcePawn: ?int64,\n",
       "        XSLT: ?int64,\n",
       "        PHP: ?int64,\n",
       "        &quot;C#&quot;: ?int64,\n",
       "        Logos: ?int64,\n",
       "        Liquid: ?int64,\n",
       "        Fortran: ?int64,\n",
       "        TSQL: ?int64,\n",
       "        Jinja: ?int64,\n",
       "        Mathematica: ?int64,\n",
       "        Java: ?int64,\n",
       "        Perl: ?int64,\n",
       "        Nextflow: ?int64,\n",
       "        Nim: ?int64,\n",
       "        Julia: ?int64,\n",
       "        Go: ?int64,\n",
       "        CMake: ?int64,\n",
       "        Rust: ?int64,\n",
       "        Mako: ?int64,\n",
       "        Groff: ?int64,\n",
       "        Haxe: ?int64,\n",
       "        Starlark: ?int64,\n",
       "        PowerShell: ?int64,\n",
       "        WDL: ?int64,\n",
       "        Cython: ?int64,\n",
       "        Groovy: ?int64,\n",
       "        &quot;Cap&#x27;n Proto&quot;: ?int64,\n",
       "        Lex: ?int64,\n",
       "        &quot;DIGITAL Command Language&quot;: ?int64,\n",
       "        M4: ?int64,\n",
       "        Scilab: ?int64,\n",
       "        Zig: ?int64,\n",
       "        Prolog: ?int64,\n",
       "        LLVM: ?int64,\n",
       "        SystemVerilog: ?int64,\n",
       "        Gnuplot: ?int64,\n",
       "        TypeScript: ?int64,\n",
       "        D: ?int64,\n",
       "        Crystal: ?int64,\n",
       "        Clojure: ?int64,\n",
       "        AMPL: ?int64,\n",
       "        Cuda: ?int64,\n",
       "        HCL: ?int64,\n",
       "        Smarty: ?int64,\n",
       "        &quot;Web Ontology Language&quot;: ?int64,\n",
       "        Scala: ?int64,\n",
       "        Raku: ?int64,\n",
       "        PLSQL: ?int64,\n",
       "        &quot;Emacs Lisp&quot;: ?int64,\n",
       "        PostScript: ?int64,\n",
       "        CUE: ?int64,\n",
       "        &quot;Rich Text Format&quot;: ?int64,\n",
       "        Mermaid: ?int64,\n",
       "        ANTLR: ?int64,\n",
       "        Scheme: ?int64,\n",
       "        Vue: ?int64,\n",
       "        Gherkin: ?int64,\n",
       "        NASL: ?int64,\n",
       "        Procfile: ?int64\n",
       "    }\n",
       "}</pre>"
      ],
      "text/plain": [
       "<Array [{'GitHub Org Name': ..., ...}, ...] type='1099 * {\"GitHub Org Name\"...'>"
      ]
     },
     "execution_count": 4,
     "metadata": {},
     "output_type": "execute_result"
    }
   ],
   "source": [
    "# gather targeted data from GitHub\n",
    "github_metrics = [\n",
    "    {\n",
    "        \"GitHub Org Name\": org_name,\n",
    "        \"Repo Name\": repo.name,\n",
    "        \"GitHub Repo Full Name\": repo.full_name,\n",
    "        \"GitHub Repository ID\": repo.id,\n",
    "        \"Repository Size (KB)\": repo.size,\n",
    "        \"GitHub Repo Archived\": repo.archived,\n",
    "        \"GitHub Repo Created Month\": repo.created_at.strftime(\"%Y-%m-%d\"),\n",
    "        \"GitHub Stars\": repo.stargazers_count,\n",
    "        \"GitHub Network Count\": repo.network_count,\n",
    "        \"GitHub Forks\": repo.forks_count,\n",
    "        \"GitHub Subscribers\": repo.subscribers_count,\n",
    "        \"GitHub Open Issues\": repo.get_issues(state=\"open\").totalCount,\n",
    "        \"GitHub Contributors\": repo.get_contributors().totalCount,\n",
    "        \"GitHub License Type\": safe_detect_license(repo),\n",
    "        \"GitHub Topics\": repo.topics,\n",
    "        \"GitHub Description\": repo.description,\n",
    "        \"GitHub Readme\": safe_get_readme(repo),\n",
    "        \"GitHub Detected Languages\": repo.get_languages(),\n",
    "        \"GitHub Repo SBOM\": get_github_repo_sbom(repo.full_name),\n",
    "    }\n",
    "    # make a request for github org data with pygithub\n",
    "    for org_name, repo in [\n",
    "        (\n",
    "            org_name,\n",
    "            repo,\n",
    "        )\n",
    "        for org_name in org_names\n",
    "        for repo in get_github_org_or_user(org_name).get_repos()\n",
    "    ]\n",
    "]\n",
    "ak.Array(github_metrics)"
   ]
  },
  {
   "cell_type": "code",
   "execution_count": null,
   "id": "e10ee9ec-f45d-4df1-b8c5-a1303881062b",
   "metadata": {},
   "outputs": [],
   "source": [
    "# gather sbom data from GitHub\n",
    "github_metrics = [\n",
    "    dict({})\n",
    "    # make a request for github org data with pygithub\n",
    "    for existing_data, repo in [\n",
    "        (existing_data, github_client.get_repo(repo[\"GitHub Repo Full Name\"]))\n",
    "        for existing_data in github_metrics\n",
    "    ]\n",
    "]\n",
    "ak.Array(github_metrics)"
   ]
  },
  {
   "cell_type": "code",
   "execution_count": 5,
   "id": "9941b5ce-f395-44bb-95a0-a3725ec7105d",
   "metadata": {
    "tags": []
   },
   "outputs": [
    {
     "name": "stdout",
     "output_type": "stream",
     "text": [
      "<class 'pandas.core.frame.DataFrame'>\n",
      "RangeIndex: 1099 entries, 0 to 1098\n",
      "Data columns (total 18 columns):\n",
      " #   Column                     Non-Null Count  Dtype \n",
      "---  ------                     --------------  ----- \n",
      " 0   GitHub Org Name            1099 non-null   object\n",
      " 1   Repo Name                  1099 non-null   object\n",
      " 2   GitHub Repo Full Name      1099 non-null   object\n",
      " 3   GitHub Repository ID       1099 non-null   int64 \n",
      " 4   Repository Size (KB)       1099 non-null   int64 \n",
      " 5   GitHub Repo Archived       1099 non-null   bool  \n",
      " 6   GitHub Repo Created Month  1099 non-null   object\n",
      " 7   GitHub Stars               1099 non-null   int64 \n",
      " 8   GitHub Network Count       1099 non-null   int64 \n",
      " 9   GitHub Forks               1099 non-null   int64 \n",
      " 10  GitHub Subscribers         1099 non-null   int64 \n",
      " 11  GitHub Open Issues         1099 non-null   int64 \n",
      " 12  GitHub Contributors        1099 non-null   int64 \n",
      " 13  GitHub License Type        633 non-null    object\n",
      " 14  GitHub Topics              1099 non-null   object\n",
      " 15  GitHub Description         921 non-null    object\n",
      " 16  GitHub Readme              0 non-null      object\n",
      " 17  GitHub Detected Languages  1099 non-null   object\n",
      "dtypes: bool(1), int64(8), object(9)\n",
      "memory usage: 147.2+ KB\n"
     ]
    }
   ],
   "source": [
    "df_github_metrics = pd.DataFrame(github_metrics)\n",
    "df_github_metrics.info()"
   ]
  },
  {
   "cell_type": "code",
   "execution_count": 6,
   "id": "b59fc71d-d69c-45e4-8036-4845899fa5b9",
   "metadata": {
    "tags": []
   },
   "outputs": [
    {
     "name": "stdout",
     "output_type": "stream",
     "text": [
      "<class 'pandas.core.frame.DataFrame'>\n",
      "RangeIndex: 1099 entries, 0 to 1098\n",
      "Data columns (total 20 columns):\n",
      " #   Column                               Non-Null Count  Dtype \n",
      "---  ------                               --------------  ----- \n",
      " 0   GitHub Org Name                      1099 non-null   object\n",
      " 1   Repo Name                            1099 non-null   object\n",
      " 2   GitHub Repo Full Name                1099 non-null   object\n",
      " 3   GitHub Repository ID                 1099 non-null   int64 \n",
      " 4   Repository Size (KB)                 1099 non-null   int64 \n",
      " 5   GitHub Repo Archived                 1099 non-null   bool  \n",
      " 6   GitHub Repo Created Month            1099 non-null   object\n",
      " 7   GitHub Stars                         1099 non-null   int64 \n",
      " 8   GitHub Network Count                 1099 non-null   int64 \n",
      " 9   GitHub Forks                         1099 non-null   int64 \n",
      " 10  GitHub Subscribers                   1099 non-null   int64 \n",
      " 11  GitHub Open Issues                   1099 non-null   int64 \n",
      " 12  GitHub Contributors                  1099 non-null   int64 \n",
      " 13  GitHub License Type                  633 non-null    object\n",
      " 14  GitHub Topics                        1099 non-null   object\n",
      " 15  GitHub Description                   921 non-null    object\n",
      " 16  GitHub Readme                        0 non-null      object\n",
      " 17  GitHub Detected Languages            1099 non-null   object\n",
      " 18  Total lines of GitHub detected code  1099 non-null   int64 \n",
      " 19  Primary language                     975 non-null    object\n",
      "dtypes: bool(1), int64(9), object(10)\n",
      "memory usage: 164.3+ KB\n"
     ]
    }
   ],
   "source": [
    "# Function to find the top language for each row\n",
    "def find_top_language(languages):\n",
    "    if isinstance(languages, dict):\n",
    "        non_empty_languages = {\n",
    "            key: value for key, value in languages.items() if value is not None\n",
    "        }\n",
    "        if non_empty_languages:\n",
    "            return max(non_empty_languages, key=non_empty_languages.get)\n",
    "    return None\n",
    "\n",
    "\n",
    "# gather the number of lines of code\n",
    "df_github_metrics[\"Total lines of GitHub detected code\"] = (\n",
    "    df_github_metrics[\"GitHub Detected Languages\"]\n",
    "    .dropna()\n",
    "    .apply(lambda x: sum(value if value is not None else 0 for value in x.values()))\n",
    ")\n",
    "\n",
    "# Apply the function to the \"GitHub Detected Languages\" column and create a new column \"Primary programming language\"\n",
    "df_github_metrics[\"Primary language\"] = df_github_metrics[\n",
    "    \"GitHub Detected Languages\"\n",
    "].apply(find_top_language)\n",
    "df_github_metrics.info()"
   ]
  },
  {
   "cell_type": "code",
   "execution_count": 7,
   "id": "f6b25ee9-9ca6-47fb-a8c3-cacd2bb3a2cb",
   "metadata": {
    "tags": []
   },
   "outputs": [
    {
     "data": {
      "text/html": [
       "<div>\n",
       "<style scoped>\n",
       "    .dataframe tbody tr th:only-of-type {\n",
       "        vertical-align: middle;\n",
       "    }\n",
       "\n",
       "    .dataframe tbody tr th {\n",
       "        vertical-align: top;\n",
       "    }\n",
       "\n",
       "    .dataframe thead th {\n",
       "        text-align: right;\n",
       "    }\n",
       "</style>\n",
       "<table border=\"1\" class=\"dataframe\">\n",
       "  <thead>\n",
       "    <tr style=\"text-align: right;\">\n",
       "      <th></th>\n",
       "      <th>Primary language</th>\n",
       "      <th>Count</th>\n",
       "    </tr>\n",
       "  </thead>\n",
       "  <tbody>\n",
       "    <tr>\n",
       "      <th>29</th>\n",
       "      <td>Python</td>\n",
       "      <td>222</td>\n",
       "    </tr>\n",
       "    <tr>\n",
       "      <th>17</th>\n",
       "      <td>Jupyter Notebook</td>\n",
       "      <td>138</td>\n",
       "    </tr>\n",
       "    <tr>\n",
       "      <th>30</th>\n",
       "      <td>R</td>\n",
       "      <td>133</td>\n",
       "    </tr>\n",
       "    <tr>\n",
       "      <th>12</th>\n",
       "      <td>HTML</td>\n",
       "      <td>95</td>\n",
       "    </tr>\n",
       "    <tr>\n",
       "      <th>14</th>\n",
       "      <td>Java</td>\n",
       "      <td>47</td>\n",
       "    </tr>\n",
       "    <tr>\n",
       "      <th>1</th>\n",
       "      <td>C</td>\n",
       "      <td>46</td>\n",
       "    </tr>\n",
       "    <tr>\n",
       "      <th>9</th>\n",
       "      <td>Go</td>\n",
       "      <td>38</td>\n",
       "    </tr>\n",
       "    <tr>\n",
       "      <th>38</th>\n",
       "      <td>Shell</td>\n",
       "      <td>32</td>\n",
       "    </tr>\n",
       "    <tr>\n",
       "      <th>23</th>\n",
       "      <td>Nim</td>\n",
       "      <td>31</td>\n",
       "    </tr>\n",
       "    <tr>\n",
       "      <th>15</th>\n",
       "      <td>JavaScript</td>\n",
       "      <td>28</td>\n",
       "    </tr>\n",
       "    <tr>\n",
       "      <th>20</th>\n",
       "      <td>Makefile</td>\n",
       "      <td>20</td>\n",
       "    </tr>\n",
       "    <tr>\n",
       "      <th>19</th>\n",
       "      <td>MATLAB</td>\n",
       "      <td>18</td>\n",
       "    </tr>\n",
       "    <tr>\n",
       "      <th>34</th>\n",
       "      <td>Rust</td>\n",
       "      <td>16</td>\n",
       "    </tr>\n",
       "    <tr>\n",
       "      <th>41</th>\n",
       "      <td>TeX</td>\n",
       "      <td>12</td>\n",
       "    </tr>\n",
       "    <tr>\n",
       "      <th>2</th>\n",
       "      <td>C++</td>\n",
       "      <td>12</td>\n",
       "    </tr>\n",
       "    <tr>\n",
       "      <th>3</th>\n",
       "      <td>CSS</td>\n",
       "      <td>10</td>\n",
       "    </tr>\n",
       "    <tr>\n",
       "      <th>7</th>\n",
       "      <td>Dockerfile</td>\n",
       "      <td>9</td>\n",
       "    </tr>\n",
       "    <tr>\n",
       "      <th>5</th>\n",
       "      <td>Clojure</td>\n",
       "      <td>7</td>\n",
       "    </tr>\n",
       "    <tr>\n",
       "      <th>42</th>\n",
       "      <td>TypeScript</td>\n",
       "      <td>6</td>\n",
       "    </tr>\n",
       "    <tr>\n",
       "      <th>45</th>\n",
       "      <td>Web Ontology Language</td>\n",
       "      <td>5</td>\n",
       "    </tr>\n",
       "    <tr>\n",
       "      <th>11</th>\n",
       "      <td>HCL</td>\n",
       "      <td>4</td>\n",
       "    </tr>\n",
       "    <tr>\n",
       "      <th>36</th>\n",
       "      <td>SCSS</td>\n",
       "      <td>4</td>\n",
       "    </tr>\n",
       "    <tr>\n",
       "      <th>35</th>\n",
       "      <td>SAS</td>\n",
       "      <td>4</td>\n",
       "    </tr>\n",
       "    <tr>\n",
       "      <th>44</th>\n",
       "      <td>Vue</td>\n",
       "      <td>4</td>\n",
       "    </tr>\n",
       "    <tr>\n",
       "      <th>46</th>\n",
       "      <td>Zig</td>\n",
       "      <td>3</td>\n",
       "    </tr>\n",
       "    <tr>\n",
       "      <th>22</th>\n",
       "      <td>Nextflow</td>\n",
       "      <td>3</td>\n",
       "    </tr>\n",
       "    <tr>\n",
       "      <th>16</th>\n",
       "      <td>Jinja</td>\n",
       "      <td>2</td>\n",
       "    </tr>\n",
       "    <tr>\n",
       "      <th>4</th>\n",
       "      <td>CUE</td>\n",
       "      <td>2</td>\n",
       "    </tr>\n",
       "    <tr>\n",
       "      <th>28</th>\n",
       "      <td>Prolog</td>\n",
       "      <td>2</td>\n",
       "    </tr>\n",
       "    <tr>\n",
       "      <th>24</th>\n",
       "      <td>Objective-C</td>\n",
       "      <td>2</td>\n",
       "    </tr>\n",
       "    <tr>\n",
       "      <th>43</th>\n",
       "      <td>Vim Script</td>\n",
       "      <td>2</td>\n",
       "    </tr>\n",
       "    <tr>\n",
       "      <th>33</th>\n",
       "      <td>Ruby</td>\n",
       "      <td>2</td>\n",
       "    </tr>\n",
       "    <tr>\n",
       "      <th>37</th>\n",
       "      <td>Scala</td>\n",
       "      <td>2</td>\n",
       "    </tr>\n",
       "    <tr>\n",
       "      <th>39</th>\n",
       "      <td>Smarty</td>\n",
       "      <td>1</td>\n",
       "    </tr>\n",
       "    <tr>\n",
       "      <th>6</th>\n",
       "      <td>Cython</td>\n",
       "      <td>1</td>\n",
       "    </tr>\n",
       "    <tr>\n",
       "      <th>8</th>\n",
       "      <td>Fortran</td>\n",
       "      <td>1</td>\n",
       "    </tr>\n",
       "    <tr>\n",
       "      <th>10</th>\n",
       "      <td>Groovy</td>\n",
       "      <td>1</td>\n",
       "    </tr>\n",
       "    <tr>\n",
       "      <th>40</th>\n",
       "      <td>TSQL</td>\n",
       "      <td>1</td>\n",
       "    </tr>\n",
       "    <tr>\n",
       "      <th>25</th>\n",
       "      <td>PLpgSQL</td>\n",
       "      <td>1</td>\n",
       "    </tr>\n",
       "    <tr>\n",
       "      <th>13</th>\n",
       "      <td>Haxe</td>\n",
       "      <td>1</td>\n",
       "    </tr>\n",
       "    <tr>\n",
       "      <th>26</th>\n",
       "      <td>Perl</td>\n",
       "      <td>1</td>\n",
       "    </tr>\n",
       "    <tr>\n",
       "      <th>18</th>\n",
       "      <td>Lua</td>\n",
       "      <td>1</td>\n",
       "    </tr>\n",
       "    <tr>\n",
       "      <th>21</th>\n",
       "      <td>Mathematica</td>\n",
       "      <td>1</td>\n",
       "    </tr>\n",
       "    <tr>\n",
       "      <th>32</th>\n",
       "      <td>Roff</td>\n",
       "      <td>1</td>\n",
       "    </tr>\n",
       "    <tr>\n",
       "      <th>31</th>\n",
       "      <td>Ren'Py</td>\n",
       "      <td>1</td>\n",
       "    </tr>\n",
       "    <tr>\n",
       "      <th>27</th>\n",
       "      <td>PostScript</td>\n",
       "      <td>1</td>\n",
       "    </tr>\n",
       "    <tr>\n",
       "      <th>0</th>\n",
       "      <td>AMPL</td>\n",
       "      <td>1</td>\n",
       "    </tr>\n",
       "  </tbody>\n",
       "</table>\n",
       "</div>"
      ],
      "text/plain": [
       "         Primary language  Count\n",
       "29                 Python    222\n",
       "17       Jupyter Notebook    138\n",
       "30                      R    133\n",
       "12                   HTML     95\n",
       "14                   Java     47\n",
       "1                       C     46\n",
       "9                      Go     38\n",
       "38                  Shell     32\n",
       "23                    Nim     31\n",
       "15             JavaScript     28\n",
       "20               Makefile     20\n",
       "19                 MATLAB     18\n",
       "34                   Rust     16\n",
       "41                    TeX     12\n",
       "2                     C++     12\n",
       "3                     CSS     10\n",
       "7              Dockerfile      9\n",
       "5                 Clojure      7\n",
       "42             TypeScript      6\n",
       "45  Web Ontology Language      5\n",
       "11                    HCL      4\n",
       "36                   SCSS      4\n",
       "35                    SAS      4\n",
       "44                    Vue      4\n",
       "46                    Zig      3\n",
       "22               Nextflow      3\n",
       "16                  Jinja      2\n",
       "4                     CUE      2\n",
       "28                 Prolog      2\n",
       "24            Objective-C      2\n",
       "43             Vim Script      2\n",
       "33                   Ruby      2\n",
       "37                  Scala      2\n",
       "39                 Smarty      1\n",
       "6                  Cython      1\n",
       "8                 Fortran      1\n",
       "10                 Groovy      1\n",
       "40                   TSQL      1\n",
       "25                PLpgSQL      1\n",
       "13                   Haxe      1\n",
       "26                   Perl      1\n",
       "18                    Lua      1\n",
       "21            Mathematica      1\n",
       "32                   Roff      1\n",
       "31                 Ren'Py      1\n",
       "27             PostScript      1\n",
       "0                    AMPL      1"
      ]
     },
     "execution_count": 7,
     "metadata": {},
     "output_type": "execute_result"
    }
   ],
   "source": [
    "# prep for creating an hbar chart for primary languages\n",
    "grouped_data = (\n",
    "    df_github_metrics.groupby([\"Primary language\"]).size().reset_index(name=\"Count\")\n",
    ")\n",
    "\n",
    "# Group by \"Primary programming language\" and calculate the sum of counts for each programming language\n",
    "programming_language_counts = (\n",
    "    grouped_data.groupby(\"Primary language\")[\"Count\"].sum().reset_index()\n",
    ")\n",
    "\n",
    "# Sort programming languages by the sum of counts in descending order\n",
    "programming_language_counts = programming_language_counts.sort_values(\n",
    "    by=\"Count\", ascending=False\n",
    ")\n",
    "programming_language_counts"
   ]
  },
  {
   "cell_type": "code",
   "execution_count": 19,
   "id": "bcdd1db5-6c55-41eb-bdc3-d4a02bcdf791",
   "metadata": {
    "tags": []
   },
   "outputs": [
    {
     "data": {
      "application/vnd.plotly.v1+json": {
       "config": {
        "plotlyServerURL": "https://plot.ly"
       },
       "data": [
        {
         "alignmentgroup": "True",
         "hovertemplate": "Count=%{text}<br>Primary language=%{y}<extra></extra>",
         "legendgroup": "",
         "marker": {
          "color": "rgb(27,158,119)",
          "pattern": {
           "shape": ""
          }
         },
         "name": "",
         "offsetgroup": "",
         "orientation": "h",
         "showlegend": false,
         "text": [
          1,
          1,
          1,
          1,
          1,
          1,
          1,
          1,
          1,
          1,
          1,
          1,
          1,
          1,
          2,
          2,
          2,
          2,
          2,
          2,
          2,
          3,
          3,
          4,
          4,
          4,
          4,
          5,
          6,
          7,
          9,
          10,
          12,
          12,
          16,
          18,
          20,
          28,
          31,
          32,
          38,
          46,
          47,
          95,
          133,
          138,
          222
         ],
         "textposition": "inside",
         "texttemplate": "%{text}",
         "type": "bar",
         "x": [
          1,
          1,
          1,
          1,
          1,
          1,
          1,
          1,
          1,
          1,
          1,
          1,
          1,
          1,
          2,
          2,
          2,
          2,
          2,
          2,
          2,
          3,
          3,
          4,
          4,
          4,
          4,
          5,
          6,
          7,
          9,
          10,
          12,
          12,
          16,
          18,
          20,
          28,
          31,
          32,
          38,
          46,
          47,
          95,
          133,
          138,
          222
         ],
         "xaxis": "x",
         "y": [
          "AMPL",
          "Lua",
          "PLpgSQL",
          "Perl",
          "PostScript",
          "Haxe",
          "Ren'Py",
          "Roff",
          "Groovy",
          "Cython",
          "Smarty",
          "TSQL",
          "Fortran",
          "Mathematica",
          "Ruby",
          "Prolog",
          "Scala",
          "CUE",
          "Jinja",
          "Vim Script",
          "Objective-C",
          "Nextflow",
          "Zig",
          "Vue",
          "SCSS",
          "HCL",
          "SAS",
          "Web Ontology Language",
          "TypeScript",
          "Clojure",
          "Dockerfile",
          "CSS",
          "TeX",
          "C++",
          "Rust",
          "MATLAB",
          "Makefile",
          "JavaScript",
          "Nim",
          "Shell",
          "Go",
          "C",
          "Java",
          "HTML",
          "R",
          "Jupyter Notebook",
          "Python"
         ],
         "yaxis": "y"
        }
       ],
       "layout": {
        "barmode": "relative",
        "height": 700,
        "legend": {
         "tracegroupgap": 0
        },
        "template": {
         "data": {
          "bar": [
           {
            "error_x": {
             "color": "rgb(36,36,36)"
            },
            "error_y": {
             "color": "rgb(36,36,36)"
            },
            "marker": {
             "line": {
              "color": "white",
              "width": 0.5
             },
             "pattern": {
              "fillmode": "overlay",
              "size": 10,
              "solidity": 0.2
             }
            },
            "type": "bar"
           }
          ],
          "barpolar": [
           {
            "marker": {
             "line": {
              "color": "white",
              "width": 0.5
             },
             "pattern": {
              "fillmode": "overlay",
              "size": 10,
              "solidity": 0.2
             }
            },
            "type": "barpolar"
           }
          ],
          "carpet": [
           {
            "aaxis": {
             "endlinecolor": "rgb(36,36,36)",
             "gridcolor": "white",
             "linecolor": "white",
             "minorgridcolor": "white",
             "startlinecolor": "rgb(36,36,36)"
            },
            "baxis": {
             "endlinecolor": "rgb(36,36,36)",
             "gridcolor": "white",
             "linecolor": "white",
             "minorgridcolor": "white",
             "startlinecolor": "rgb(36,36,36)"
            },
            "type": "carpet"
           }
          ],
          "choropleth": [
           {
            "colorbar": {
             "outlinewidth": 1,
             "tickcolor": "rgb(36,36,36)",
             "ticks": "outside"
            },
            "type": "choropleth"
           }
          ],
          "contour": [
           {
            "colorbar": {
             "outlinewidth": 1,
             "tickcolor": "rgb(36,36,36)",
             "ticks": "outside"
            },
            "colorscale": [
             [
              0,
              "#440154"
             ],
             [
              0.1111111111111111,
              "#482878"
             ],
             [
              0.2222222222222222,
              "#3e4989"
             ],
             [
              0.3333333333333333,
              "#31688e"
             ],
             [
              0.4444444444444444,
              "#26828e"
             ],
             [
              0.5555555555555556,
              "#1f9e89"
             ],
             [
              0.6666666666666666,
              "#35b779"
             ],
             [
              0.7777777777777778,
              "#6ece58"
             ],
             [
              0.8888888888888888,
              "#b5de2b"
             ],
             [
              1,
              "#fde725"
             ]
            ],
            "type": "contour"
           }
          ],
          "contourcarpet": [
           {
            "colorbar": {
             "outlinewidth": 1,
             "tickcolor": "rgb(36,36,36)",
             "ticks": "outside"
            },
            "type": "contourcarpet"
           }
          ],
          "heatmap": [
           {
            "colorbar": {
             "outlinewidth": 1,
             "tickcolor": "rgb(36,36,36)",
             "ticks": "outside"
            },
            "colorscale": [
             [
              0,
              "#440154"
             ],
             [
              0.1111111111111111,
              "#482878"
             ],
             [
              0.2222222222222222,
              "#3e4989"
             ],
             [
              0.3333333333333333,
              "#31688e"
             ],
             [
              0.4444444444444444,
              "#26828e"
             ],
             [
              0.5555555555555556,
              "#1f9e89"
             ],
             [
              0.6666666666666666,
              "#35b779"
             ],
             [
              0.7777777777777778,
              "#6ece58"
             ],
             [
              0.8888888888888888,
              "#b5de2b"
             ],
             [
              1,
              "#fde725"
             ]
            ],
            "type": "heatmap"
           }
          ],
          "heatmapgl": [
           {
            "colorbar": {
             "outlinewidth": 1,
             "tickcolor": "rgb(36,36,36)",
             "ticks": "outside"
            },
            "colorscale": [
             [
              0,
              "#440154"
             ],
             [
              0.1111111111111111,
              "#482878"
             ],
             [
              0.2222222222222222,
              "#3e4989"
             ],
             [
              0.3333333333333333,
              "#31688e"
             ],
             [
              0.4444444444444444,
              "#26828e"
             ],
             [
              0.5555555555555556,
              "#1f9e89"
             ],
             [
              0.6666666666666666,
              "#35b779"
             ],
             [
              0.7777777777777778,
              "#6ece58"
             ],
             [
              0.8888888888888888,
              "#b5de2b"
             ],
             [
              1,
              "#fde725"
             ]
            ],
            "type": "heatmapgl"
           }
          ],
          "histogram": [
           {
            "marker": {
             "line": {
              "color": "white",
              "width": 0.6
             }
            },
            "type": "histogram"
           }
          ],
          "histogram2d": [
           {
            "colorbar": {
             "outlinewidth": 1,
             "tickcolor": "rgb(36,36,36)",
             "ticks": "outside"
            },
            "colorscale": [
             [
              0,
              "#440154"
             ],
             [
              0.1111111111111111,
              "#482878"
             ],
             [
              0.2222222222222222,
              "#3e4989"
             ],
             [
              0.3333333333333333,
              "#31688e"
             ],
             [
              0.4444444444444444,
              "#26828e"
             ],
             [
              0.5555555555555556,
              "#1f9e89"
             ],
             [
              0.6666666666666666,
              "#35b779"
             ],
             [
              0.7777777777777778,
              "#6ece58"
             ],
             [
              0.8888888888888888,
              "#b5de2b"
             ],
             [
              1,
              "#fde725"
             ]
            ],
            "type": "histogram2d"
           }
          ],
          "histogram2dcontour": [
           {
            "colorbar": {
             "outlinewidth": 1,
             "tickcolor": "rgb(36,36,36)",
             "ticks": "outside"
            },
            "colorscale": [
             [
              0,
              "#440154"
             ],
             [
              0.1111111111111111,
              "#482878"
             ],
             [
              0.2222222222222222,
              "#3e4989"
             ],
             [
              0.3333333333333333,
              "#31688e"
             ],
             [
              0.4444444444444444,
              "#26828e"
             ],
             [
              0.5555555555555556,
              "#1f9e89"
             ],
             [
              0.6666666666666666,
              "#35b779"
             ],
             [
              0.7777777777777778,
              "#6ece58"
             ],
             [
              0.8888888888888888,
              "#b5de2b"
             ],
             [
              1,
              "#fde725"
             ]
            ],
            "type": "histogram2dcontour"
           }
          ],
          "mesh3d": [
           {
            "colorbar": {
             "outlinewidth": 1,
             "tickcolor": "rgb(36,36,36)",
             "ticks": "outside"
            },
            "type": "mesh3d"
           }
          ],
          "parcoords": [
           {
            "line": {
             "colorbar": {
              "outlinewidth": 1,
              "tickcolor": "rgb(36,36,36)",
              "ticks": "outside"
             }
            },
            "type": "parcoords"
           }
          ],
          "pie": [
           {
            "automargin": true,
            "type": "pie"
           }
          ],
          "scatter": [
           {
            "fillpattern": {
             "fillmode": "overlay",
             "size": 10,
             "solidity": 0.2
            },
            "type": "scatter"
           }
          ],
          "scatter3d": [
           {
            "line": {
             "colorbar": {
              "outlinewidth": 1,
              "tickcolor": "rgb(36,36,36)",
              "ticks": "outside"
             }
            },
            "marker": {
             "colorbar": {
              "outlinewidth": 1,
              "tickcolor": "rgb(36,36,36)",
              "ticks": "outside"
             }
            },
            "type": "scatter3d"
           }
          ],
          "scattercarpet": [
           {
            "marker": {
             "colorbar": {
              "outlinewidth": 1,
              "tickcolor": "rgb(36,36,36)",
              "ticks": "outside"
             }
            },
            "type": "scattercarpet"
           }
          ],
          "scattergeo": [
           {
            "marker": {
             "colorbar": {
              "outlinewidth": 1,
              "tickcolor": "rgb(36,36,36)",
              "ticks": "outside"
             }
            },
            "type": "scattergeo"
           }
          ],
          "scattergl": [
           {
            "marker": {
             "colorbar": {
              "outlinewidth": 1,
              "tickcolor": "rgb(36,36,36)",
              "ticks": "outside"
             }
            },
            "type": "scattergl"
           }
          ],
          "scattermapbox": [
           {
            "marker": {
             "colorbar": {
              "outlinewidth": 1,
              "tickcolor": "rgb(36,36,36)",
              "ticks": "outside"
             }
            },
            "type": "scattermapbox"
           }
          ],
          "scatterpolar": [
           {
            "marker": {
             "colorbar": {
              "outlinewidth": 1,
              "tickcolor": "rgb(36,36,36)",
              "ticks": "outside"
             }
            },
            "type": "scatterpolar"
           }
          ],
          "scatterpolargl": [
           {
            "marker": {
             "colorbar": {
              "outlinewidth": 1,
              "tickcolor": "rgb(36,36,36)",
              "ticks": "outside"
             }
            },
            "type": "scatterpolargl"
           }
          ],
          "scatterternary": [
           {
            "marker": {
             "colorbar": {
              "outlinewidth": 1,
              "tickcolor": "rgb(36,36,36)",
              "ticks": "outside"
             }
            },
            "type": "scatterternary"
           }
          ],
          "surface": [
           {
            "colorbar": {
             "outlinewidth": 1,
             "tickcolor": "rgb(36,36,36)",
             "ticks": "outside"
            },
            "colorscale": [
             [
              0,
              "#440154"
             ],
             [
              0.1111111111111111,
              "#482878"
             ],
             [
              0.2222222222222222,
              "#3e4989"
             ],
             [
              0.3333333333333333,
              "#31688e"
             ],
             [
              0.4444444444444444,
              "#26828e"
             ],
             [
              0.5555555555555556,
              "#1f9e89"
             ],
             [
              0.6666666666666666,
              "#35b779"
             ],
             [
              0.7777777777777778,
              "#6ece58"
             ],
             [
              0.8888888888888888,
              "#b5de2b"
             ],
             [
              1,
              "#fde725"
             ]
            ],
            "type": "surface"
           }
          ],
          "table": [
           {
            "cells": {
             "fill": {
              "color": "rgb(237,237,237)"
             },
             "line": {
              "color": "white"
             }
            },
            "header": {
             "fill": {
              "color": "rgb(217,217,217)"
             },
             "line": {
              "color": "white"
             }
            },
            "type": "table"
           }
          ]
         },
         "layout": {
          "annotationdefaults": {
           "arrowhead": 0,
           "arrowwidth": 1
          },
          "autotypenumbers": "strict",
          "coloraxis": {
           "colorbar": {
            "outlinewidth": 1,
            "tickcolor": "rgb(36,36,36)",
            "ticks": "outside"
           }
          },
          "colorscale": {
           "diverging": [
            [
             0,
             "rgb(103,0,31)"
            ],
            [
             0.1,
             "rgb(178,24,43)"
            ],
            [
             0.2,
             "rgb(214,96,77)"
            ],
            [
             0.3,
             "rgb(244,165,130)"
            ],
            [
             0.4,
             "rgb(253,219,199)"
            ],
            [
             0.5,
             "rgb(247,247,247)"
            ],
            [
             0.6,
             "rgb(209,229,240)"
            ],
            [
             0.7,
             "rgb(146,197,222)"
            ],
            [
             0.8,
             "rgb(67,147,195)"
            ],
            [
             0.9,
             "rgb(33,102,172)"
            ],
            [
             1,
             "rgb(5,48,97)"
            ]
           ],
           "sequential": [
            [
             0,
             "#440154"
            ],
            [
             0.1111111111111111,
             "#482878"
            ],
            [
             0.2222222222222222,
             "#3e4989"
            ],
            [
             0.3333333333333333,
             "#31688e"
            ],
            [
             0.4444444444444444,
             "#26828e"
            ],
            [
             0.5555555555555556,
             "#1f9e89"
            ],
            [
             0.6666666666666666,
             "#35b779"
            ],
            [
             0.7777777777777778,
             "#6ece58"
            ],
            [
             0.8888888888888888,
             "#b5de2b"
            ],
            [
             1,
             "#fde725"
            ]
           ],
           "sequentialminus": [
            [
             0,
             "#440154"
            ],
            [
             0.1111111111111111,
             "#482878"
            ],
            [
             0.2222222222222222,
             "#3e4989"
            ],
            [
             0.3333333333333333,
             "#31688e"
            ],
            [
             0.4444444444444444,
             "#26828e"
            ],
            [
             0.5555555555555556,
             "#1f9e89"
            ],
            [
             0.6666666666666666,
             "#35b779"
            ],
            [
             0.7777777777777778,
             "#6ece58"
            ],
            [
             0.8888888888888888,
             "#b5de2b"
            ],
            [
             1,
             "#fde725"
            ]
           ]
          },
          "colorway": [
           "#1F77B4",
           "#FF7F0E",
           "#2CA02C",
           "#D62728",
           "#9467BD",
           "#8C564B",
           "#E377C2",
           "#7F7F7F",
           "#BCBD22",
           "#17BECF"
          ],
          "font": {
           "color": "rgb(36,36,36)"
          },
          "geo": {
           "bgcolor": "white",
           "lakecolor": "white",
           "landcolor": "white",
           "showlakes": true,
           "showland": true,
           "subunitcolor": "white"
          },
          "hoverlabel": {
           "align": "left"
          },
          "hovermode": "closest",
          "mapbox": {
           "style": "light"
          },
          "paper_bgcolor": "white",
          "plot_bgcolor": "white",
          "polar": {
           "angularaxis": {
            "gridcolor": "rgb(232,232,232)",
            "linecolor": "rgb(36,36,36)",
            "showgrid": false,
            "showline": true,
            "ticks": "outside"
           },
           "bgcolor": "white",
           "radialaxis": {
            "gridcolor": "rgb(232,232,232)",
            "linecolor": "rgb(36,36,36)",
            "showgrid": false,
            "showline": true,
            "ticks": "outside"
           }
          },
          "scene": {
           "xaxis": {
            "backgroundcolor": "white",
            "gridcolor": "rgb(232,232,232)",
            "gridwidth": 2,
            "linecolor": "rgb(36,36,36)",
            "showbackground": true,
            "showgrid": false,
            "showline": true,
            "ticks": "outside",
            "zeroline": false,
            "zerolinecolor": "rgb(36,36,36)"
           },
           "yaxis": {
            "backgroundcolor": "white",
            "gridcolor": "rgb(232,232,232)",
            "gridwidth": 2,
            "linecolor": "rgb(36,36,36)",
            "showbackground": true,
            "showgrid": false,
            "showline": true,
            "ticks": "outside",
            "zeroline": false,
            "zerolinecolor": "rgb(36,36,36)"
           },
           "zaxis": {
            "backgroundcolor": "white",
            "gridcolor": "rgb(232,232,232)",
            "gridwidth": 2,
            "linecolor": "rgb(36,36,36)",
            "showbackground": true,
            "showgrid": false,
            "showline": true,
            "ticks": "outside",
            "zeroline": false,
            "zerolinecolor": "rgb(36,36,36)"
           }
          },
          "shapedefaults": {
           "fillcolor": "black",
           "line": {
            "width": 0
           },
           "opacity": 0.3
          },
          "ternary": {
           "aaxis": {
            "gridcolor": "rgb(232,232,232)",
            "linecolor": "rgb(36,36,36)",
            "showgrid": false,
            "showline": true,
            "ticks": "outside"
           },
           "baxis": {
            "gridcolor": "rgb(232,232,232)",
            "linecolor": "rgb(36,36,36)",
            "showgrid": false,
            "showline": true,
            "ticks": "outside"
           },
           "bgcolor": "white",
           "caxis": {
            "gridcolor": "rgb(232,232,232)",
            "linecolor": "rgb(36,36,36)",
            "showgrid": false,
            "showline": true,
            "ticks": "outside"
           }
          },
          "title": {
           "x": 0.05
          },
          "xaxis": {
           "automargin": true,
           "gridcolor": "rgb(232,232,232)",
           "linecolor": "rgb(36,36,36)",
           "showgrid": false,
           "showline": true,
           "ticks": "outside",
           "title": {
            "standoff": 15
           },
           "zeroline": false,
           "zerolinecolor": "rgb(36,36,36)"
          },
          "yaxis": {
           "automargin": true,
           "gridcolor": "rgb(232,232,232)",
           "linecolor": "rgb(36,36,36)",
           "showgrid": false,
           "showline": true,
           "ticks": "outside",
           "title": {
            "standoff": 15
           },
           "zeroline": false,
           "zerolinecolor": "rgb(36,36,36)"
          }
         }
        },
        "title": {
         "text": "Repository Primary Language Count"
        },
        "width": 1200,
        "xaxis": {
         "anchor": "y",
         "autorange": true,
         "domain": [
          0,
          1
         ],
         "range": [
          0,
          233.68421052631578
         ],
         "title": {
          "text": "Count"
         },
         "type": "linear"
        },
        "yaxis": {
         "anchor": "x",
         "autorange": true,
         "domain": [
          0,
          1
         ],
         "range": [
          -0.5,
          46.5
         ],
         "tickmode": "array",
         "ticktext": [
          "Python",
          "Jupyter Notebook",
          "R",
          "HTML",
          "Java",
          "C",
          "Go",
          "Shell",
          "Nim",
          "JavaScript",
          "Makefile",
          "MATLAB",
          "Rust",
          "TeX",
          "C++",
          "CSS",
          "Dockerfile",
          "Clojure",
          "TypeScript",
          "Web Ontology Language",
          "HCL",
          "SCSS",
          "SAS",
          "Vue",
          "Zig",
          "Nextflow",
          "Jinja",
          "CUE",
          "Prolog",
          "Objective-C",
          "Vim Script",
          "Ruby",
          "Scala",
          "Smarty",
          "Cython",
          "Fortran",
          "Groovy",
          "TSQL",
          "PLpgSQL",
          "Haxe",
          "Perl",
          "Lua",
          "Mathematica",
          "Roff",
          "Ren'Py",
          "PostScript",
          "AMPL"
         ],
         "tickvals": [
          "Python",
          "Jupyter Notebook",
          "R",
          "HTML",
          "Java",
          "C",
          "Go",
          "Shell",
          "Nim",
          "JavaScript",
          "Makefile",
          "MATLAB",
          "Rust",
          "TeX",
          "C++",
          "CSS",
          "Dockerfile",
          "Clojure",
          "TypeScript",
          "Web Ontology Language",
          "HCL",
          "SCSS",
          "SAS",
          "Vue",
          "Zig",
          "Nextflow",
          "Jinja",
          "CUE",
          "Prolog",
          "Objective-C",
          "Vim Script",
          "Ruby",
          "Scala",
          "Smarty",
          "Cython",
          "Fortran",
          "Groovy",
          "TSQL",
          "PLpgSQL",
          "Haxe",
          "Perl",
          "Lua",
          "Mathematica",
          "Roff",
          "Ren'Py",
          "PostScript",
          "AMPL"
         ],
         "title": {
          "text": "Primary language"
         },
         "type": "category"
        }
       }
      },
      "image/png": "[encoded data removed]",
      "text/html": [
       "<div>                            <div id=\"ba6a64f1-dcdf-4bb9-ab8e-c7504f715af7\" class=\"plotly-graph-div\" style=\"height:700px; width:1200px;\"></div>            <script type=\"text/javascript\">                require([\"plotly\"], function(Plotly) {                    window.PLOTLYENV=window.PLOTLYENV || {};                                    if (document.getElementById(\"ba6a64f1-dcdf-4bb9-ab8e-c7504f715af7\")) {                    Plotly.newPlot(                        \"ba6a64f1-dcdf-4bb9-ab8e-c7504f715af7\",                        [{\"alignmentgroup\":\"True\",\"hovertemplate\":\"Count=%{text}\\u003cbr\\u003ePrimary language=%{y}\\u003cextra\\u003e\\u003c\\u002fextra\\u003e\",\"legendgroup\":\"\",\"marker\":{\"color\":\"rgb(27,158,119)\",\"pattern\":{\"shape\":\"\"}},\"name\":\"\",\"offsetgroup\":\"\",\"orientation\":\"h\",\"showlegend\":false,\"text\":[1.0,1.0,1.0,1.0,1.0,1.0,1.0,1.0,1.0,1.0,1.0,1.0,1.0,1.0,2.0,2.0,2.0,2.0,2.0,2.0,2.0,3.0,3.0,4.0,4.0,4.0,4.0,5.0,6.0,7.0,9.0,10.0,12.0,12.0,16.0,18.0,20.0,28.0,31.0,32.0,38.0,46.0,47.0,95.0,133.0,138.0,222.0],\"textposition\":\"inside\",\"x\":[1,1,1,1,1,1,1,1,1,1,1,1,1,1,2,2,2,2,2,2,2,3,3,4,4,4,4,5,6,7,9,10,12,12,16,18,20,28,31,32,38,46,47,95,133,138,222],\"xaxis\":\"x\",\"y\":[\"AMPL\",\"Lua\",\"PLpgSQL\",\"Perl\",\"PostScript\",\"Haxe\",\"Ren'Py\",\"Roff\",\"Groovy\",\"Cython\",\"Smarty\",\"TSQL\",\"Fortran\",\"Mathematica\",\"Ruby\",\"Prolog\",\"Scala\",\"CUE\",\"Jinja\",\"Vim Script\",\"Objective-C\",\"Nextflow\",\"Zig\",\"Vue\",\"SCSS\",\"HCL\",\"SAS\",\"Web Ontology Language\",\"TypeScript\",\"Clojure\",\"Dockerfile\",\"CSS\",\"TeX\",\"C++\",\"Rust\",\"MATLAB\",\"Makefile\",\"JavaScript\",\"Nim\",\"Shell\",\"Go\",\"C\",\"Java\",\"HTML\",\"R\",\"Jupyter Notebook\",\"Python\"],\"yaxis\":\"y\",\"type\":\"bar\",\"texttemplate\":\"%{text}\"}],                        {\"template\":{\"data\":{\"histogram2dcontour\":[{\"type\":\"histogram2dcontour\",\"colorbar\":{\"outlinewidth\":1,\"tickcolor\":\"rgb(36,36,36)\",\"ticks\":\"outside\"},\"colorscale\":[[0.0,\"#440154\"],[0.1111111111111111,\"#482878\"],[0.2222222222222222,\"#3e4989\"],[0.3333333333333333,\"#31688e\"],[0.4444444444444444,\"#26828e\"],[0.5555555555555556,\"#1f9e89\"],[0.6666666666666666,\"#35b779\"],[0.7777777777777778,\"#6ece58\"],[0.8888888888888888,\"#b5de2b\"],[1.0,\"#fde725\"]]}],\"choropleth\":[{\"type\":\"choropleth\",\"colorbar\":{\"outlinewidth\":1,\"tickcolor\":\"rgb(36,36,36)\",\"ticks\":\"outside\"}}],\"histogram2d\":[{\"type\":\"histogram2d\",\"colorbar\":{\"outlinewidth\":1,\"tickcolor\":\"rgb(36,36,36)\",\"ticks\":\"outside\"},\"colorscale\":[[0.0,\"#440154\"],[0.1111111111111111,\"#482878\"],[0.2222222222222222,\"#3e4989\"],[0.3333333333333333,\"#31688e\"],[0.4444444444444444,\"#26828e\"],[0.5555555555555556,\"#1f9e89\"],[0.6666666666666666,\"#35b779\"],[0.7777777777777778,\"#6ece58\"],[0.8888888888888888,\"#b5de2b\"],[1.0,\"#fde725\"]]}],\"heatmap\":[{\"type\":\"heatmap\",\"colorbar\":{\"outlinewidth\":1,\"tickcolor\":\"rgb(36,36,36)\",\"ticks\":\"outside\"},\"colorscale\":[[0.0,\"#440154\"],[0.1111111111111111,\"#482878\"],[0.2222222222222222,\"#3e4989\"],[0.3333333333333333,\"#31688e\"],[0.4444444444444444,\"#26828e\"],[0.5555555555555556,\"#1f9e89\"],[0.6666666666666666,\"#35b779\"],[0.7777777777777778,\"#6ece58\"],[0.8888888888888888,\"#b5de2b\"],[1.0,\"#fde725\"]]}],\"heatmapgl\":[{\"type\":\"heatmapgl\",\"colorbar\":{\"outlinewidth\":1,\"tickcolor\":\"rgb(36,36,36)\",\"ticks\":\"outside\"},\"colorscale\":[[0.0,\"#440154\"],[0.1111111111111111,\"#482878\"],[0.2222222222222222,\"#3e4989\"],[0.3333333333333333,\"#31688e\"],[0.4444444444444444,\"#26828e\"],[0.5555555555555556,\"#1f9e89\"],[0.6666666666666666,\"#35b779\"],[0.7777777777777778,\"#6ece58\"],[0.8888888888888888,\"#b5de2b\"],[1.0,\"#fde725\"]]}],\"contourcarpet\":[{\"type\":\"contourcarpet\",\"colorbar\":{\"outlinewidth\":1,\"tickcolor\":\"rgb(36,36,36)\",\"ticks\":\"outside\"}}],\"contour\":[{\"type\":\"contour\",\"colorbar\":{\"outlinewidth\":1,\"tickcolor\":\"rgb(36,36,36)\",\"ticks\":\"outside\"},\"colorscale\":[[0.0,\"#440154\"],[0.1111111111111111,\"#482878\"],[0.2222222222222222,\"#3e4989\"],[0.3333333333333333,\"#31688e\"],[0.4444444444444444,\"#26828e\"],[0.5555555555555556,\"#1f9e89\"],[0.6666666666666666,\"#35b779\"],[0.7777777777777778,\"#6ece58\"],[0.8888888888888888,\"#b5de2b\"],[1.0,\"#fde725\"]]}],\"surface\":[{\"type\":\"surface\",\"colorbar\":{\"outlinewidth\":1,\"tickcolor\":\"rgb(36,36,36)\",\"ticks\":\"outside\"},\"colorscale\":[[0.0,\"#440154\"],[0.1111111111111111,\"#482878\"],[0.2222222222222222,\"#3e4989\"],[0.3333333333333333,\"#31688e\"],[0.4444444444444444,\"#26828e\"],[0.5555555555555556,\"#1f9e89\"],[0.6666666666666666,\"#35b779\"],[0.7777777777777778,\"#6ece58\"],[0.8888888888888888,\"#b5de2b\"],[1.0,\"#fde725\"]]}],\"mesh3d\":[{\"type\":\"mesh3d\",\"colorbar\":{\"outlinewidth\":1,\"tickcolor\":\"rgb(36,36,36)\",\"ticks\":\"outside\"}}],\"scatter\":[{\"fillpattern\":{\"fillmode\":\"overlay\",\"size\":10,\"solidity\":0.2},\"type\":\"scatter\"}],\"parcoords\":[{\"type\":\"parcoords\",\"line\":{\"colorbar\":{\"outlinewidth\":1,\"tickcolor\":\"rgb(36,36,36)\",\"ticks\":\"outside\"}}}],\"scatterpolargl\":[{\"type\":\"scatterpolargl\",\"marker\":{\"colorbar\":{\"outlinewidth\":1,\"tickcolor\":\"rgb(36,36,36)\",\"ticks\":\"outside\"}}}],\"bar\":[{\"error_x\":{\"color\":\"rgb(36,36,36)\"},\"error_y\":{\"color\":\"rgb(36,36,36)\"},\"marker\":{\"line\":{\"color\":\"white\",\"width\":0.5},\"pattern\":{\"fillmode\":\"overlay\",\"size\":10,\"solidity\":0.2}},\"type\":\"bar\"}],\"scattergeo\":[{\"type\":\"scattergeo\",\"marker\":{\"colorbar\":{\"outlinewidth\":1,\"tickcolor\":\"rgb(36,36,36)\",\"ticks\":\"outside\"}}}],\"scatterpolar\":[{\"type\":\"scatterpolar\",\"marker\":{\"colorbar\":{\"outlinewidth\":1,\"tickcolor\":\"rgb(36,36,36)\",\"ticks\":\"outside\"}}}],\"histogram\":[{\"marker\":{\"line\":{\"color\":\"white\",\"width\":0.6}},\"type\":\"histogram\"}],\"scattergl\":[{\"type\":\"scattergl\",\"marker\":{\"colorbar\":{\"outlinewidth\":1,\"tickcolor\":\"rgb(36,36,36)\",\"ticks\":\"outside\"}}}],\"scatter3d\":[{\"type\":\"scatter3d\",\"line\":{\"colorbar\":{\"outlinewidth\":1,\"tickcolor\":\"rgb(36,36,36)\",\"ticks\":\"outside\"}},\"marker\":{\"colorbar\":{\"outlinewidth\":1,\"tickcolor\":\"rgb(36,36,36)\",\"ticks\":\"outside\"}}}],\"scattermapbox\":[{\"type\":\"scattermapbox\",\"marker\":{\"colorbar\":{\"outlinewidth\":1,\"tickcolor\":\"rgb(36,36,36)\",\"ticks\":\"outside\"}}}],\"scatterternary\":[{\"type\":\"scatterternary\",\"marker\":{\"colorbar\":{\"outlinewidth\":1,\"tickcolor\":\"rgb(36,36,36)\",\"ticks\":\"outside\"}}}],\"scattercarpet\":[{\"type\":\"scattercarpet\",\"marker\":{\"colorbar\":{\"outlinewidth\":1,\"tickcolor\":\"rgb(36,36,36)\",\"ticks\":\"outside\"}}}],\"carpet\":[{\"aaxis\":{\"endlinecolor\":\"rgb(36,36,36)\",\"gridcolor\":\"white\",\"linecolor\":\"white\",\"minorgridcolor\":\"white\",\"startlinecolor\":\"rgb(36,36,36)\"},\"baxis\":{\"endlinecolor\":\"rgb(36,36,36)\",\"gridcolor\":\"white\",\"linecolor\":\"white\",\"minorgridcolor\":\"white\",\"startlinecolor\":\"rgb(36,36,36)\"},\"type\":\"carpet\"}],\"table\":[{\"cells\":{\"fill\":{\"color\":\"rgb(237,237,237)\"},\"line\":{\"color\":\"white\"}},\"header\":{\"fill\":{\"color\":\"rgb(217,217,217)\"},\"line\":{\"color\":\"white\"}},\"type\":\"table\"}],\"barpolar\":[{\"marker\":{\"line\":{\"color\":\"white\",\"width\":0.5},\"pattern\":{\"fillmode\":\"overlay\",\"size\":10,\"solidity\":0.2}},\"type\":\"barpolar\"}],\"pie\":[{\"automargin\":true,\"type\":\"pie\"}]},\"layout\":{\"autotypenumbers\":\"strict\",\"colorway\":[\"#1F77B4\",\"#FF7F0E\",\"#2CA02C\",\"#D62728\",\"#9467BD\",\"#8C564B\",\"#E377C2\",\"#7F7F7F\",\"#BCBD22\",\"#17BECF\"],\"font\":{\"color\":\"rgb(36,36,36)\"},\"hovermode\":\"closest\",\"hoverlabel\":{\"align\":\"left\"},\"paper_bgcolor\":\"white\",\"plot_bgcolor\":\"white\",\"polar\":{\"bgcolor\":\"white\",\"angularaxis\":{\"gridcolor\":\"rgb(232,232,232)\",\"linecolor\":\"rgb(36,36,36)\",\"showgrid\":false,\"showline\":true,\"ticks\":\"outside\"},\"radialaxis\":{\"gridcolor\":\"rgb(232,232,232)\",\"linecolor\":\"rgb(36,36,36)\",\"showgrid\":false,\"showline\":true,\"ticks\":\"outside\"}},\"ternary\":{\"bgcolor\":\"white\",\"aaxis\":{\"gridcolor\":\"rgb(232,232,232)\",\"linecolor\":\"rgb(36,36,36)\",\"showgrid\":false,\"showline\":true,\"ticks\":\"outside\"},\"baxis\":{\"gridcolor\":\"rgb(232,232,232)\",\"linecolor\":\"rgb(36,36,36)\",\"showgrid\":false,\"showline\":true,\"ticks\":\"outside\"},\"caxis\":{\"gridcolor\":\"rgb(232,232,232)\",\"linecolor\":\"rgb(36,36,36)\",\"showgrid\":false,\"showline\":true,\"ticks\":\"outside\"}},\"coloraxis\":{\"colorbar\":{\"outlinewidth\":1,\"tickcolor\":\"rgb(36,36,36)\",\"ticks\":\"outside\"}},\"colorscale\":{\"sequential\":[[0.0,\"#440154\"],[0.1111111111111111,\"#482878\"],[0.2222222222222222,\"#3e4989\"],[0.3333333333333333,\"#31688e\"],[0.4444444444444444,\"#26828e\"],[0.5555555555555556,\"#1f9e89\"],[0.6666666666666666,\"#35b779\"],[0.7777777777777778,\"#6ece58\"],[0.8888888888888888,\"#b5de2b\"],[1.0,\"#fde725\"]],\"sequentialminus\":[[0.0,\"#440154\"],[0.1111111111111111,\"#482878\"],[0.2222222222222222,\"#3e4989\"],[0.3333333333333333,\"#31688e\"],[0.4444444444444444,\"#26828e\"],[0.5555555555555556,\"#1f9e89\"],[0.6666666666666666,\"#35b779\"],[0.7777777777777778,\"#6ece58\"],[0.8888888888888888,\"#b5de2b\"],[1.0,\"#fde725\"]],\"diverging\":[[0.0,\"rgb(103,0,31)\"],[0.1,\"rgb(178,24,43)\"],[0.2,\"rgb(214,96,77)\"],[0.3,\"rgb(244,165,130)\"],[0.4,\"rgb(253,219,199)\"],[0.5,\"rgb(247,247,247)\"],[0.6,\"rgb(209,229,240)\"],[0.7,\"rgb(146,197,222)\"],[0.8,\"rgb(67,147,195)\"],[0.9,\"rgb(33,102,172)\"],[1.0,\"rgb(5,48,97)\"]]},\"xaxis\":{\"gridcolor\":\"rgb(232,232,232)\",\"linecolor\":\"rgb(36,36,36)\",\"showgrid\":false,\"showline\":true,\"ticks\":\"outside\",\"title\":{\"standoff\":15},\"zerolinecolor\":\"rgb(36,36,36)\",\"automargin\":true,\"zeroline\":false},\"yaxis\":{\"gridcolor\":\"rgb(232,232,232)\",\"linecolor\":\"rgb(36,36,36)\",\"showgrid\":false,\"showline\":true,\"ticks\":\"outside\",\"title\":{\"standoff\":15},\"zerolinecolor\":\"rgb(36,36,36)\",\"automargin\":true,\"zeroline\":false},\"scene\":{\"xaxis\":{\"backgroundcolor\":\"white\",\"gridcolor\":\"rgb(232,232,232)\",\"linecolor\":\"rgb(36,36,36)\",\"showbackground\":true,\"showgrid\":false,\"showline\":true,\"ticks\":\"outside\",\"zerolinecolor\":\"rgb(36,36,36)\",\"gridwidth\":2,\"zeroline\":false},\"yaxis\":{\"backgroundcolor\":\"white\",\"gridcolor\":\"rgb(232,232,232)\",\"linecolor\":\"rgb(36,36,36)\",\"showbackground\":true,\"showgrid\":false,\"showline\":true,\"ticks\":\"outside\",\"zerolinecolor\":\"rgb(36,36,36)\",\"gridwidth\":2,\"zeroline\":false},\"zaxis\":{\"backgroundcolor\":\"white\",\"gridcolor\":\"rgb(232,232,232)\",\"linecolor\":\"rgb(36,36,36)\",\"showbackground\":true,\"showgrid\":false,\"showline\":true,\"ticks\":\"outside\",\"zerolinecolor\":\"rgb(36,36,36)\",\"gridwidth\":2,\"zeroline\":false}},\"shapedefaults\":{\"fillcolor\":\"black\",\"line\":{\"width\":0},\"opacity\":0.3},\"annotationdefaults\":{\"arrowhead\":0,\"arrowwidth\":1},\"geo\":{\"bgcolor\":\"white\",\"landcolor\":\"white\",\"subunitcolor\":\"white\",\"showland\":true,\"showlakes\":true,\"lakecolor\":\"white\"},\"title\":{\"x\":0.05},\"mapbox\":{\"style\":\"light\"}}},\"xaxis\":{\"anchor\":\"y\",\"domain\":[0.0,1.0],\"title\":{\"text\":\"Count\"}},\"yaxis\":{\"anchor\":\"x\",\"domain\":[0.0,1.0],\"title\":{\"text\":\"Primary language\"},\"tickmode\":\"array\",\"tickvals\":[\"Python\",\"Jupyter Notebook\",\"R\",\"HTML\",\"Java\",\"C\",\"Go\",\"Shell\",\"Nim\",\"JavaScript\",\"Makefile\",\"MATLAB\",\"Rust\",\"TeX\",\"C++\",\"CSS\",\"Dockerfile\",\"Clojure\",\"TypeScript\",\"Web Ontology Language\",\"HCL\",\"SCSS\",\"SAS\",\"Vue\",\"Zig\",\"Nextflow\",\"Jinja\",\"CUE\",\"Prolog\",\"Objective-C\",\"Vim Script\",\"Ruby\",\"Scala\",\"Smarty\",\"Cython\",\"Fortran\",\"Groovy\",\"TSQL\",\"PLpgSQL\",\"Haxe\",\"Perl\",\"Lua\",\"Mathematica\",\"Roff\",\"Ren'Py\",\"PostScript\",\"AMPL\"],\"ticktext\":[\"Python\",\"Jupyter Notebook\",\"R\",\"HTML\",\"Java\",\"C\",\"Go\",\"Shell\",\"Nim\",\"JavaScript\",\"Makefile\",\"MATLAB\",\"Rust\",\"TeX\",\"C++\",\"CSS\",\"Dockerfile\",\"Clojure\",\"TypeScript\",\"Web Ontology Language\",\"HCL\",\"SCSS\",\"SAS\",\"Vue\",\"Zig\",\"Nextflow\",\"Jinja\",\"CUE\",\"Prolog\",\"Objective-C\",\"Vim Script\",\"Ruby\",\"Scala\",\"Smarty\",\"Cython\",\"Fortran\",\"Groovy\",\"TSQL\",\"PLpgSQL\",\"Haxe\",\"Perl\",\"Lua\",\"Mathematica\",\"Roff\",\"Ren'Py\",\"PostScript\",\"AMPL\"]},\"legend\":{\"tracegroupgap\":0},\"title\":{\"text\":\"Repository Primary Language Count\"},\"barmode\":\"relative\",\"height\":700,\"width\":1200},                        {\"responsive\": true}                    ).then(function(){\n",
       "                            \n",
       "var gd = document.getElementById('ba6a64f1-dcdf-4bb9-ab8e-c7504f715af7');\n",
       "var x = new MutationObserver(function (mutations, observer) {{\n",
       "        var display = window.getComputedStyle(gd).display;\n",
       "        if (!display || display === 'none') {{\n",
       "            console.log([gd, 'removed!']);\n",
       "            Plotly.purge(gd);\n",
       "            observer.disconnect();\n",
       "        }}\n",
       "}});\n",
       "\n",
       "// Listen for the removal of the full notebook cells\n",
       "var notebookContainer = gd.closest('#notebook-container');\n",
       "if (notebookContainer) {{\n",
       "    x.observe(notebookContainer, {childList: true});\n",
       "}}\n",
       "\n",
       "// Listen for the clearing of the current output cell\n",
       "var outputEl = gd.closest('.output');\n",
       "if (outputEl) {{\n",
       "    x.observe(outputEl, {childList: true});\n",
       "}}\n",
       "\n",
       "                        })                };                });            </script>        </div>"
      ]
     },
     "metadata": {},
     "output_type": "display_data"
    }
   ],
   "source": [
    "# Create a horizontal bar chart for primary language counts\n",
    "fig_languages = px.bar(\n",
    "    data_frame=grouped_data.sort_values(by=\"Count\"),\n",
    "    title=f\"Repository Primary Language Count\",\n",
    "    y=\"Primary language\",\n",
    "    x=\"Count\",\n",
    "    color_discrete_sequence=[color_seq[0]],\n",
    "    text=\"Count\",\n",
    "    orientation=\"h\",\n",
    "    width=1200,\n",
    "    height=700,\n",
    ")\n",
    "\n",
    "# Customize layout to display count labels properly\n",
    "fig_languages.update_traces(\n",
    "    texttemplate=\"%{text}\",\n",
    "    textposition=\"inside\",\n",
    ")\n",
    "fig_languages.update_layout(\n",
    "    # ensure all y axis labels appear\n",
    "    yaxis=dict(\n",
    "        tickmode=\"array\",\n",
    "        tickvals=programming_language_counts[\"Primary language\"].tolist(),\n",
    "        ticktext=programming_language_counts[\"Primary language\"].tolist(),\n",
    "    ),\n",
    ")\n",
    "\n",
    "fig_languages.write_image(\"images/software-landscape-primary-language-counts.png\")\n",
    "fig_languages.show()"
   ]
  },
  {
   "cell_type": "code",
   "execution_count": 10,
   "id": "cabce8d5-a6a0-42ca-a444-f8058578791f",
   "metadata": {
    "tags": []
   },
   "outputs": [
    {
     "data": {
      "text/html": [
       "<div>\n",
       "<style scoped>\n",
       "    .dataframe tbody tr th:only-of-type {\n",
       "        vertical-align: middle;\n",
       "    }\n",
       "\n",
       "    .dataframe tbody tr th {\n",
       "        vertical-align: top;\n",
       "    }\n",
       "\n",
       "    .dataframe thead th {\n",
       "        text-align: right;\n",
       "    }\n",
       "</style>\n",
       "<table border=\"1\" class=\"dataframe\">\n",
       "  <thead>\n",
       "    <tr style=\"text-align: right;\">\n",
       "      <th></th>\n",
       "      <th>language</th>\n",
       "      <th>line_count</th>\n",
       "    </tr>\n",
       "  </thead>\n",
       "  <tbody>\n",
       "    <tr>\n",
       "      <th>90</th>\n",
       "      <td>Procfile</td>\n",
       "      <td>59</td>\n",
       "    </tr>\n",
       "    <tr>\n",
       "      <th>10</th>\n",
       "      <td>Mercury</td>\n",
       "      <td>60</td>\n",
       "    </tr>\n",
       "    <tr>\n",
       "      <th>70</th>\n",
       "      <td>Crystal</td>\n",
       "      <td>227</td>\n",
       "    </tr>\n",
       "    <tr>\n",
       "      <th>58</th>\n",
       "      <td>Cap'n Proto</td>\n",
       "      <td>311</td>\n",
       "    </tr>\n",
       "    <tr>\n",
       "      <th>67</th>\n",
       "      <td>Gnuplot</td>\n",
       "      <td>353</td>\n",
       "    </tr>\n",
       "    <tr>\n",
       "      <th>...</th>\n",
       "      <td>...</td>\n",
       "      <td>...</td>\n",
       "    </tr>\n",
       "    <tr>\n",
       "      <th>11</th>\n",
       "      <td>Python</td>\n",
       "      <td>109551376</td>\n",
       "    </tr>\n",
       "    <tr>\n",
       "      <th>14</th>\n",
       "      <td>C++</td>\n",
       "      <td>121451215</td>\n",
       "    </tr>\n",
       "    <tr>\n",
       "      <th>76</th>\n",
       "      <td>Web Ontology Language</td>\n",
       "      <td>206909487</td>\n",
       "    </tr>\n",
       "    <tr>\n",
       "      <th>15</th>\n",
       "      <td>HTML</td>\n",
       "      <td>799925077</td>\n",
       "    </tr>\n",
       "    <tr>\n",
       "      <th>21</th>\n",
       "      <td>Jupyter Notebook</td>\n",
       "      <td>1878097410</td>\n",
       "    </tr>\n",
       "  </tbody>\n",
       "</table>\n",
       "<p>91 rows × 2 columns</p>\n",
       "</div>"
      ],
      "text/plain": [
       "                 language  line_count\n",
       "90               Procfile          59\n",
       "10                Mercury          60\n",
       "70                Crystal         227\n",
       "58            Cap'n Proto         311\n",
       "67                Gnuplot         353\n",
       "..                    ...         ...\n",
       "11                 Python   109551376\n",
       "14                    C++   121451215\n",
       "76  Web Ontology Language   206909487\n",
       "15                   HTML   799925077\n",
       "21       Jupyter Notebook  1878097410\n",
       "\n",
       "[91 rows x 2 columns]"
      ]
     },
     "execution_count": 10,
     "metadata": {},
     "output_type": "execute_result"
    }
   ],
   "source": [
    "# gather total lines of code for all repos by language\n",
    "total_language_line_counts = [\n",
    "    {\n",
    "        \"language\": language,\n",
    "        \"line_count\": ak.sum(\n",
    "            ak.Array(github_metrics)[\"GitHub Detected Languages\"][language]\n",
    "        ),\n",
    "    }\n",
    "    for language in ak.Array(github_metrics)[\"GitHub Detected Languages\"].fields\n",
    "]\n",
    "\n",
    "df_total_language_line_counts = pd.DataFrame.from_records(\n",
    "    total_language_line_counts\n",
    ").sort_values(by=\"line_count\")\n",
    "\n",
    "df_total_language_line_counts"
   ]
  },
  {
   "cell_type": "code",
   "execution_count": 12,
   "id": "f7a91d38-ae25-403f-9367-1e91702cdab9",
   "metadata": {
    "tags": []
   },
   "outputs": [
    {
     "data": {
      "application/vnd.plotly.v1+json": {
       "config": {
        "plotlyServerURL": "https://plot.ly"
       },
       "data": [
        {
         "alignmentgroup": "True",
         "hovertemplate": "line_count=%{text}<br>language=%{y}<extra></extra>",
         "legendgroup": "",
         "marker": {
          "color": "rgb(117,112,179)",
          "pattern": {
           "shape": ""
          }
         },
         "name": "",
         "offsetgroup": "",
         "orientation": "h",
         "showlegend": false,
         "text": [
          59,
          60,
          227,
          311,
          353,
          450,
          714,
          739,
          772,
          774,
          884,
          1021,
          1067,
          1122,
          1576,
          1613,
          2196,
          3433,
          3503,
          4407,
          4556,
          4713,
          5123,
          6046,
          6957,
          8950,
          10621,
          12832,
          13234,
          13618,
          14382,
          16942,
          18610,
          22886,
          26100,
          37820,
          40525,
          47821,
          49421,
          51292,
          51541,
          54670,
          54760,
          57435,
          62899,
          67834,
          68055,
          73940,
          78107,
          85334,
          112247,
          152407,
          181158,
          188523,
          190150,
          203344,
          205447,
          226058,
          294372,
          351484,
          449289,
          554421,
          806463,
          862274,
          932130,
          964754,
          1032738,
          1190583,
          1471854,
          1710648,
          2219263,
          3423976,
          3616513,
          4031817,
          4749431,
          4778296,
          5792990,
          5812572,
          7575632,
          9709910,
          10337111,
          13179418,
          15068358,
          17009232,
          23400332,
          103818431,
          109551376,
          121451215,
          206909487,
          799925077,
          1878097410
         ],
         "textposition": "inside",
         "texttemplate": "%{text}",
         "type": "bar",
         "x": [
          59,
          60,
          227,
          311,
          353,
          450,
          714,
          739,
          772,
          774,
          884,
          1021,
          1067,
          1122,
          1576,
          1613,
          2196,
          3433,
          3503,
          4407,
          4556,
          4713,
          5123,
          6046,
          6957,
          8950,
          10621,
          12832,
          13234,
          13618,
          14382,
          16942,
          18610,
          22886,
          26100,
          37820,
          40525,
          47821,
          49421,
          51292,
          51541,
          54670,
          54760,
          57435,
          62899,
          67834,
          68055,
          73940,
          78107,
          85334,
          112247,
          152407,
          181158,
          188523,
          190150,
          203344,
          205447,
          226058,
          294372,
          351484,
          449289,
          554421,
          806463,
          862274,
          932130,
          964754,
          1032738,
          1190583,
          1471854,
          1710648,
          2219263,
          3423976,
          3616513,
          4031817,
          4749431,
          4778296,
          5792990,
          5812572,
          7575632,
          9709910,
          10337111,
          13179418,
          15068358,
          17009232,
          23400332,
          103818431,
          109551376,
          121451215,
          206909487,
          799925077,
          1878097410
         ],
         "xaxis": "x",
         "y": [
          "Procfile",
          "Mercury",
          "Crystal",
          "Cap'n Proto",
          "Gnuplot",
          "D",
          "Mermaid",
          "Lex",
          "SQLPL",
          "Emacs Lisp",
          "Raku",
          "Julia",
          "Ren'Py",
          "NASL",
          "Mako",
          "Rebol",
          "Scheme",
          "SystemVerilog",
          "Liquid",
          "WDL",
          "Starlark",
          "Vim Snippet",
          "ANTLR",
          "Groff",
          "Scilab",
          "M4",
          "PowerShell",
          "LLVM",
          "DIGITAL Command Language",
          "M",
          "Logos",
          "C#",
          "Cuda",
          "PLSQL",
          "PostScript",
          "PHP",
          "SourcePawn",
          "Batchfile",
          "Jinja",
          "XSLT",
          "Rich Text Format",
          "HCL",
          "Awk",
          "Zig",
          "CUE",
          "Gherkin",
          "Haxe",
          "PLpgSQL",
          "Scala",
          "Stata",
          "Smarty",
          "Nextflow",
          "Arduino",
          "Lua",
          "Cython",
          "Dockerfile",
          "TSQL",
          "Groovy",
          "CMake",
          "Vim Script",
          "SCSS",
          "TypeScript",
          "Vue",
          "Fortran",
          "SAS",
          "Perl",
          "Roff",
          "Objective-C",
          "Makefile",
          "Mathematica",
          "MATLAB",
          "Assembly",
          "CSS",
          "Rust",
          "AMPL",
          "Prolog",
          "Ruby",
          "TeX",
          "Shell",
          "Clojure",
          "Nim",
          "Go",
          "JavaScript",
          "R",
          "Java",
          "C",
          "Python",
          "C++",
          "Web Ontology Language",
          "HTML",
          "Jupyter Notebook"
         ],
         "yaxis": "y"
        }
       ],
       "layout": {
        "barmode": "relative",
        "height": 1200,
        "legend": {
         "tracegroupgap": 0
        },
        "template": {
         "data": {
          "bar": [
           {
            "error_x": {
             "color": "rgb(36,36,36)"
            },
            "error_y": {
             "color": "rgb(36,36,36)"
            },
            "marker": {
             "line": {
              "color": "white",
              "width": 0.5
             },
             "pattern": {
              "fillmode": "overlay",
              "size": 10,
              "solidity": 0.2
             }
            },
            "type": "bar"
           }
          ],
          "barpolar": [
           {
            "marker": {
             "line": {
              "color": "white",
              "width": 0.5
             },
             "pattern": {
              "fillmode": "overlay",
              "size": 10,
              "solidity": 0.2
             }
            },
            "type": "barpolar"
           }
          ],
          "carpet": [
           {
            "aaxis": {
             "endlinecolor": "rgb(36,36,36)",
             "gridcolor": "white",
             "linecolor": "white",
             "minorgridcolor": "white",
             "startlinecolor": "rgb(36,36,36)"
            },
            "baxis": {
             "endlinecolor": "rgb(36,36,36)",
             "gridcolor": "white",
             "linecolor": "white",
             "minorgridcolor": "white",
             "startlinecolor": "rgb(36,36,36)"
            },
            "type": "carpet"
           }
          ],
          "choropleth": [
           {
            "colorbar": {
             "outlinewidth": 1,
             "tickcolor": "rgb(36,36,36)",
             "ticks": "outside"
            },
            "type": "choropleth"
           }
          ],
          "contour": [
           {
            "colorbar": {
             "outlinewidth": 1,
             "tickcolor": "rgb(36,36,36)",
             "ticks": "outside"
            },
            "colorscale": [
             [
              0,
              "#440154"
             ],
             [
              0.1111111111111111,
              "#482878"
             ],
             [
              0.2222222222222222,
              "#3e4989"
             ],
             [
              0.3333333333333333,
              "#31688e"
             ],
             [
              0.4444444444444444,
              "#26828e"
             ],
             [
              0.5555555555555556,
              "#1f9e89"
             ],
             [
              0.6666666666666666,
              "#35b779"
             ],
             [
              0.7777777777777778,
              "#6ece58"
             ],
             [
              0.8888888888888888,
              "#b5de2b"
             ],
             [
              1,
              "#fde725"
             ]
            ],
            "type": "contour"
           }
          ],
          "contourcarpet": [
           {
            "colorbar": {
             "outlinewidth": 1,
             "tickcolor": "rgb(36,36,36)",
             "ticks": "outside"
            },
            "type": "contourcarpet"
           }
          ],
          "heatmap": [
           {
            "colorbar": {
             "outlinewidth": 1,
             "tickcolor": "rgb(36,36,36)",
             "ticks": "outside"
            },
            "colorscale": [
             [
              0,
              "#440154"
             ],
             [
              0.1111111111111111,
              "#482878"
             ],
             [
              0.2222222222222222,
              "#3e4989"
             ],
             [
              0.3333333333333333,
              "#31688e"
             ],
             [
              0.4444444444444444,
              "#26828e"
             ],
             [
              0.5555555555555556,
              "#1f9e89"
             ],
             [
              0.6666666666666666,
              "#35b779"
             ],
             [
              0.7777777777777778,
              "#6ece58"
             ],
             [
              0.8888888888888888,
              "#b5de2b"
             ],
             [
              1,
              "#fde725"
             ]
            ],
            "type": "heatmap"
           }
          ],
          "heatmapgl": [
           {
            "colorbar": {
             "outlinewidth": 1,
             "tickcolor": "rgb(36,36,36)",
             "ticks": "outside"
            },
            "colorscale": [
             [
              0,
              "#440154"
             ],
             [
              0.1111111111111111,
              "#482878"
             ],
             [
              0.2222222222222222,
              "#3e4989"
             ],
             [
              0.3333333333333333,
              "#31688e"
             ],
             [
              0.4444444444444444,
              "#26828e"
             ],
             [
              0.5555555555555556,
              "#1f9e89"
             ],
             [
              0.6666666666666666,
              "#35b779"
             ],
             [
              0.7777777777777778,
              "#6ece58"
             ],
             [
              0.8888888888888888,
              "#b5de2b"
             ],
             [
              1,
              "#fde725"
             ]
            ],
            "type": "heatmapgl"
           }
          ],
          "histogram": [
           {
            "marker": {
             "line": {
              "color": "white",
              "width": 0.6
             }
            },
            "type": "histogram"
           }
          ],
          "histogram2d": [
           {
            "colorbar": {
             "outlinewidth": 1,
             "tickcolor": "rgb(36,36,36)",
             "ticks": "outside"
            },
            "colorscale": [
             [
              0,
              "#440154"
             ],
             [
              0.1111111111111111,
              "#482878"
             ],
             [
              0.2222222222222222,
              "#3e4989"
             ],
             [
              0.3333333333333333,
              "#31688e"
             ],
             [
              0.4444444444444444,
              "#26828e"
             ],
             [
              0.5555555555555556,
              "#1f9e89"
             ],
             [
              0.6666666666666666,
              "#35b779"
             ],
             [
              0.7777777777777778,
              "#6ece58"
             ],
             [
              0.8888888888888888,
              "#b5de2b"
             ],
             [
              1,
              "#fde725"
             ]
            ],
            "type": "histogram2d"
           }
          ],
          "histogram2dcontour": [
           {
            "colorbar": {
             "outlinewidth": 1,
             "tickcolor": "rgb(36,36,36)",
             "ticks": "outside"
            },
            "colorscale": [
             [
              0,
              "#440154"
             ],
             [
              0.1111111111111111,
              "#482878"
             ],
             [
              0.2222222222222222,
              "#3e4989"
             ],
             [
              0.3333333333333333,
              "#31688e"
             ],
             [
              0.4444444444444444,
              "#26828e"
             ],
             [
              0.5555555555555556,
              "#1f9e89"
             ],
             [
              0.6666666666666666,
              "#35b779"
             ],
             [
              0.7777777777777778,
              "#6ece58"
             ],
             [
              0.8888888888888888,
              "#b5de2b"
             ],
             [
              1,
              "#fde725"
             ]
            ],
            "type": "histogram2dcontour"
           }
          ],
          "mesh3d": [
           {
            "colorbar": {
             "outlinewidth": 1,
             "tickcolor": "rgb(36,36,36)",
             "ticks": "outside"
            },
            "type": "mesh3d"
           }
          ],
          "parcoords": [
           {
            "line": {
             "colorbar": {
              "outlinewidth": 1,
              "tickcolor": "rgb(36,36,36)",
              "ticks": "outside"
             }
            },
            "type": "parcoords"
           }
          ],
          "pie": [
           {
            "automargin": true,
            "type": "pie"
           }
          ],
          "scatter": [
           {
            "fillpattern": {
             "fillmode": "overlay",
             "size": 10,
             "solidity": 0.2
            },
            "type": "scatter"
           }
          ],
          "scatter3d": [
           {
            "line": {
             "colorbar": {
              "outlinewidth": 1,
              "tickcolor": "rgb(36,36,36)",
              "ticks": "outside"
             }
            },
            "marker": {
             "colorbar": {
              "outlinewidth": 1,
              "tickcolor": "rgb(36,36,36)",
              "ticks": "outside"
             }
            },
            "type": "scatter3d"
           }
          ],
          "scattercarpet": [
           {
            "marker": {
             "colorbar": {
              "outlinewidth": 1,
              "tickcolor": "rgb(36,36,36)",
              "ticks": "outside"
             }
            },
            "type": "scattercarpet"
           }
          ],
          "scattergeo": [
           {
            "marker": {
             "colorbar": {
              "outlinewidth": 1,
              "tickcolor": "rgb(36,36,36)",
              "ticks": "outside"
             }
            },
            "type": "scattergeo"
           }
          ],
          "scattergl": [
           {
            "marker": {
             "colorbar": {
              "outlinewidth": 1,
              "tickcolor": "rgb(36,36,36)",
              "ticks": "outside"
             }
            },
            "type": "scattergl"
           }
          ],
          "scattermapbox": [
           {
            "marker": {
             "colorbar": {
              "outlinewidth": 1,
              "tickcolor": "rgb(36,36,36)",
              "ticks": "outside"
             }
            },
            "type": "scattermapbox"
           }
          ],
          "scatterpolar": [
           {
            "marker": {
             "colorbar": {
              "outlinewidth": 1,
              "tickcolor": "rgb(36,36,36)",
              "ticks": "outside"
             }
            },
            "type": "scatterpolar"
           }
          ],
          "scatterpolargl": [
           {
            "marker": {
             "colorbar": {
              "outlinewidth": 1,
              "tickcolor": "rgb(36,36,36)",
              "ticks": "outside"
             }
            },
            "type": "scatterpolargl"
           }
          ],
          "scatterternary": [
           {
            "marker": {
             "colorbar": {
              "outlinewidth": 1,
              "tickcolor": "rgb(36,36,36)",
              "ticks": "outside"
             }
            },
            "type": "scatterternary"
           }
          ],
          "surface": [
           {
            "colorbar": {
             "outlinewidth": 1,
             "tickcolor": "rgb(36,36,36)",
             "ticks": "outside"
            },
            "colorscale": [
             [
              0,
              "#440154"
             ],
             [
              0.1111111111111111,
              "#482878"
             ],
             [
              0.2222222222222222,
              "#3e4989"
             ],
             [
              0.3333333333333333,
              "#31688e"
             ],
             [
              0.4444444444444444,
              "#26828e"
             ],
             [
              0.5555555555555556,
              "#1f9e89"
             ],
             [
              0.6666666666666666,
              "#35b779"
             ],
             [
              0.7777777777777778,
              "#6ece58"
             ],
             [
              0.8888888888888888,
              "#b5de2b"
             ],
             [
              1,
              "#fde725"
             ]
            ],
            "type": "surface"
           }
          ],
          "table": [
           {
            "cells": {
             "fill": {
              "color": "rgb(237,237,237)"
             },
             "line": {
              "color": "white"
             }
            },
            "header": {
             "fill": {
              "color": "rgb(217,217,217)"
             },
             "line": {
              "color": "white"
             }
            },
            "type": "table"
           }
          ]
         },
         "layout": {
          "annotationdefaults": {
           "arrowhead": 0,
           "arrowwidth": 1
          },
          "autotypenumbers": "strict",
          "coloraxis": {
           "colorbar": {
            "outlinewidth": 1,
            "tickcolor": "rgb(36,36,36)",
            "ticks": "outside"
           }
          },
          "colorscale": {
           "diverging": [
            [
             0,
             "rgb(103,0,31)"
            ],
            [
             0.1,
             "rgb(178,24,43)"
            ],
            [
             0.2,
             "rgb(214,96,77)"
            ],
            [
             0.3,
             "rgb(244,165,130)"
            ],
            [
             0.4,
             "rgb(253,219,199)"
            ],
            [
             0.5,
             "rgb(247,247,247)"
            ],
            [
             0.6,
             "rgb(209,229,240)"
            ],
            [
             0.7,
             "rgb(146,197,222)"
            ],
            [
             0.8,
             "rgb(67,147,195)"
            ],
            [
             0.9,
             "rgb(33,102,172)"
            ],
            [
             1,
             "rgb(5,48,97)"
            ]
           ],
           "sequential": [
            [
             0,
             "#440154"
            ],
            [
             0.1111111111111111,
             "#482878"
            ],
            [
             0.2222222222222222,
             "#3e4989"
            ],
            [
             0.3333333333333333,
             "#31688e"
            ],
            [
             0.4444444444444444,
             "#26828e"
            ],
            [
             0.5555555555555556,
             "#1f9e89"
            ],
            [
             0.6666666666666666,
             "#35b779"
            ],
            [
             0.7777777777777778,
             "#6ece58"
            ],
            [
             0.8888888888888888,
             "#b5de2b"
            ],
            [
             1,
             "#fde725"
            ]
           ],
           "sequentialminus": [
            [
             0,
             "#440154"
            ],
            [
             0.1111111111111111,
             "#482878"
            ],
            [
             0.2222222222222222,
             "#3e4989"
            ],
            [
             0.3333333333333333,
             "#31688e"
            ],
            [
             0.4444444444444444,
             "#26828e"
            ],
            [
             0.5555555555555556,
             "#1f9e89"
            ],
            [
             0.6666666666666666,
             "#35b779"
            ],
            [
             0.7777777777777778,
             "#6ece58"
            ],
            [
             0.8888888888888888,
             "#b5de2b"
            ],
            [
             1,
             "#fde725"
            ]
           ]
          },
          "colorway": [
           "#1F77B4",
           "#FF7F0E",
           "#2CA02C",
           "#D62728",
           "#9467BD",
           "#8C564B",
           "#E377C2",
           "#7F7F7F",
           "#BCBD22",
           "#17BECF"
          ],
          "font": {
           "color": "rgb(36,36,36)"
          },
          "geo": {
           "bgcolor": "white",
           "lakecolor": "white",
           "landcolor": "white",
           "showlakes": true,
           "showland": true,
           "subunitcolor": "white"
          },
          "hoverlabel": {
           "align": "left"
          },
          "hovermode": "closest",
          "mapbox": {
           "style": "light"
          },
          "paper_bgcolor": "white",
          "plot_bgcolor": "white",
          "polar": {
           "angularaxis": {
            "gridcolor": "rgb(232,232,232)",
            "linecolor": "rgb(36,36,36)",
            "showgrid": false,
            "showline": true,
            "ticks": "outside"
           },
           "bgcolor": "white",
           "radialaxis": {
            "gridcolor": "rgb(232,232,232)",
            "linecolor": "rgb(36,36,36)",
            "showgrid": false,
            "showline": true,
            "ticks": "outside"
           }
          },
          "scene": {
           "xaxis": {
            "backgroundcolor": "white",
            "gridcolor": "rgb(232,232,232)",
            "gridwidth": 2,
            "linecolor": "rgb(36,36,36)",
            "showbackground": true,
            "showgrid": false,
            "showline": true,
            "ticks": "outside",
            "zeroline": false,
            "zerolinecolor": "rgb(36,36,36)"
           },
           "yaxis": {
            "backgroundcolor": "white",
            "gridcolor": "rgb(232,232,232)",
            "gridwidth": 2,
            "linecolor": "rgb(36,36,36)",
            "showbackground": true,
            "showgrid": false,
            "showline": true,
            "ticks": "outside",
            "zeroline": false,
            "zerolinecolor": "rgb(36,36,36)"
           },
           "zaxis": {
            "backgroundcolor": "white",
            "gridcolor": "rgb(232,232,232)",
            "gridwidth": 2,
            "linecolor": "rgb(36,36,36)",
            "showbackground": true,
            "showgrid": false,
            "showline": true,
            "ticks": "outside",
            "zeroline": false,
            "zerolinecolor": "rgb(36,36,36)"
           }
          },
          "shapedefaults": {
           "fillcolor": "black",
           "line": {
            "width": 0
           },
           "opacity": 0.3
          },
          "ternary": {
           "aaxis": {
            "gridcolor": "rgb(232,232,232)",
            "linecolor": "rgb(36,36,36)",
            "showgrid": false,
            "showline": true,
            "ticks": "outside"
           },
           "baxis": {
            "gridcolor": "rgb(232,232,232)",
            "linecolor": "rgb(36,36,36)",
            "showgrid": false,
            "showline": true,
            "ticks": "outside"
           },
           "bgcolor": "white",
           "caxis": {
            "gridcolor": "rgb(232,232,232)",
            "linecolor": "rgb(36,36,36)",
            "showgrid": false,
            "showline": true,
            "ticks": "outside"
           }
          },
          "title": {
           "x": 0.05
          },
          "xaxis": {
           "automargin": true,
           "gridcolor": "rgb(232,232,232)",
           "linecolor": "rgb(36,36,36)",
           "showgrid": false,
           "showline": true,
           "ticks": "outside",
           "title": {
            "standoff": 15
           },
           "zeroline": false,
           "zerolinecolor": "rgb(36,36,36)"
          },
          "yaxis": {
           "automargin": true,
           "gridcolor": "rgb(232,232,232)",
           "linecolor": "rgb(36,36,36)",
           "showgrid": false,
           "showline": true,
           "ticks": "outside",
           "title": {
            "standoff": 15
           },
           "zeroline": false,
           "zerolinecolor": "rgb(36,36,36)"
          }
         }
        },
        "title": {
         "text": "Repository Language Line Counts Total"
        },
        "width": 1200,
        "xaxis": {
         "anchor": "y",
         "autorange": true,
         "domain": [
          0,
          1
         ],
         "range": [
          0,
          1976944642.1052632
         ],
         "title": {
          "text": "Lines of Code (Total)"
         },
         "type": "linear"
        },
        "yaxis": {
         "anchor": "x",
         "autorange": true,
         "domain": [
          0,
          1
         ],
         "range": [
          -0.5,
          90.5
         ],
         "tickmode": "array",
         "ticktext": [
          "Procfile",
          "Mercury",
          "Crystal",
          "Cap'n Proto",
          "Gnuplot",
          "D",
          "Mermaid",
          "Lex",
          "SQLPL",
          "Emacs Lisp",
          "Raku",
          "Julia",
          "Ren'Py",
          "NASL",
          "Mako",
          "Rebol",
          "Scheme",
          "SystemVerilog",
          "Liquid",
          "WDL",
          "Starlark",
          "Vim Snippet",
          "ANTLR",
          "Groff",
          "Scilab",
          "M4",
          "PowerShell",
          "LLVM",
          "DIGITAL Command Language",
          "M",
          "Logos",
          "C#",
          "Cuda",
          "PLSQL",
          "PostScript",
          "PHP",
          "SourcePawn",
          "Batchfile",
          "Jinja",
          "XSLT",
          "Rich Text Format",
          "HCL",
          "Awk",
          "Zig",
          "CUE",
          "Gherkin",
          "Haxe",
          "PLpgSQL",
          "Scala",
          "Stata",
          "Smarty",
          "Nextflow",
          "Arduino",
          "Lua",
          "Cython",
          "Dockerfile",
          "TSQL",
          "Groovy",
          "CMake",
          "Vim Script",
          "SCSS",
          "TypeScript",
          "Vue",
          "Fortran",
          "SAS",
          "Perl",
          "Roff",
          "Objective-C",
          "Makefile",
          "Mathematica",
          "MATLAB",
          "Assembly",
          "CSS",
          "Rust",
          "AMPL",
          "Prolog",
          "Ruby",
          "TeX",
          "Shell",
          "Clojure",
          "Nim",
          "Go",
          "JavaScript",
          "R",
          "Java",
          "C",
          "Python",
          "C++",
          "Web Ontology Language",
          "HTML",
          "Jupyter Notebook"
         ],
         "tickvals": [
          "Procfile",
          "Mercury",
          "Crystal",
          "Cap'n Proto",
          "Gnuplot",
          "D",
          "Mermaid",
          "Lex",
          "SQLPL",
          "Emacs Lisp",
          "Raku",
          "Julia",
          "Ren'Py",
          "NASL",
          "Mako",
          "Rebol",
          "Scheme",
          "SystemVerilog",
          "Liquid",
          "WDL",
          "Starlark",
          "Vim Snippet",
          "ANTLR",
          "Groff",
          "Scilab",
          "M4",
          "PowerShell",
          "LLVM",
          "DIGITAL Command Language",
          "M",
          "Logos",
          "C#",
          "Cuda",
          "PLSQL",
          "PostScript",
          "PHP",
          "SourcePawn",
          "Batchfile",
          "Jinja",
          "XSLT",
          "Rich Text Format",
          "HCL",
          "Awk",
          "Zig",
          "CUE",
          "Gherkin",
          "Haxe",
          "PLpgSQL",
          "Scala",
          "Stata",
          "Smarty",
          "Nextflow",
          "Arduino",
          "Lua",
          "Cython",
          "Dockerfile",
          "TSQL",
          "Groovy",
          "CMake",
          "Vim Script",
          "SCSS",
          "TypeScript",
          "Vue",
          "Fortran",
          "SAS",
          "Perl",
          "Roff",
          "Objective-C",
          "Makefile",
          "Mathematica",
          "MATLAB",
          "Assembly",
          "CSS",
          "Rust",
          "AMPL",
          "Prolog",
          "Ruby",
          "TeX",
          "Shell",
          "Clojure",
          "Nim",
          "Go",
          "JavaScript",
          "R",
          "Java",
          "C",
          "Python",
          "C++",
          "Web Ontology Language",
          "HTML",
          "Jupyter Notebook"
         ],
         "title": {
          "text": "Language"
         },
         "type": "category"
        }
       }
      },
      "image/png": "[encoded data removed]",
      "text/html": [
       "<div>                            <div id=\"66718b18-43f9-4771-b051-b91511efd8f0\" class=\"plotly-graph-div\" style=\"height:1200px; width:1200px;\"></div>            <script type=\"text/javascript\">                require([\"plotly\"], function(Plotly) {                    window.PLOTLYENV=window.PLOTLYENV || {};                                    if (document.getElementById(\"66718b18-43f9-4771-b051-b91511efd8f0\")) {                    Plotly.newPlot(                        \"66718b18-43f9-4771-b051-b91511efd8f0\",                        [{\"alignmentgroup\":\"True\",\"hovertemplate\":\"line_count=%{text}\\u003cbr\\u003elanguage=%{y}\\u003cextra\\u003e\\u003c\\u002fextra\\u003e\",\"legendgroup\":\"\",\"marker\":{\"color\":\"rgb(117,112,179)\",\"pattern\":{\"shape\":\"\"}},\"name\":\"\",\"offsetgroup\":\"\",\"orientation\":\"h\",\"showlegend\":false,\"text\":[59.0,60.0,227.0,311.0,353.0,450.0,714.0,739.0,772.0,774.0,884.0,1021.0,1067.0,1122.0,1576.0,1613.0,2196.0,3433.0,3503.0,4407.0,4556.0,4713.0,5123.0,6046.0,6957.0,8950.0,10621.0,12832.0,13234.0,13618.0,14382.0,16942.0,18610.0,22886.0,26100.0,37820.0,40525.0,47821.0,49421.0,51292.0,51541.0,54670.0,54760.0,57435.0,62899.0,67834.0,68055.0,73940.0,78107.0,85334.0,112247.0,152407.0,181158.0,188523.0,190150.0,203344.0,205447.0,226058.0,294372.0,351484.0,449289.0,554421.0,806463.0,862274.0,932130.0,964754.0,1032738.0,1190583.0,1471854.0,1710648.0,2219263.0,3423976.0,3616513.0,4031817.0,4749431.0,4778296.0,5792990.0,5812572.0,7575632.0,9709910.0,10337111.0,13179418.0,15068358.0,17009232.0,23400332.0,103818431.0,109551376.0,121451215.0,206909487.0,799925077.0,1878097410.0],\"textposition\":\"inside\",\"x\":[59,60,227,311,353,450,714,739,772,774,884,1021,1067,1122,1576,1613,2196,3433,3503,4407,4556,4713,5123,6046,6957,8950,10621,12832,13234,13618,14382,16942,18610,22886,26100,37820,40525,47821,49421,51292,51541,54670,54760,57435,62899,67834,68055,73940,78107,85334,112247,152407,181158,188523,190150,203344,205447,226058,294372,351484,449289,554421,806463,862274,932130,964754,1032738,1190583,1471854,1710648,2219263,3423976,3616513,4031817,4749431,4778296,5792990,5812572,7575632,9709910,10337111,13179418,15068358,17009232,23400332,103818431,109551376,121451215,206909487,799925077,1878097410],\"xaxis\":\"x\",\"y\":[\"Procfile\",\"Mercury\",\"Crystal\",\"Cap'n Proto\",\"Gnuplot\",\"D\",\"Mermaid\",\"Lex\",\"SQLPL\",\"Emacs Lisp\",\"Raku\",\"Julia\",\"Ren'Py\",\"NASL\",\"Mako\",\"Rebol\",\"Scheme\",\"SystemVerilog\",\"Liquid\",\"WDL\",\"Starlark\",\"Vim Snippet\",\"ANTLR\",\"Groff\",\"Scilab\",\"M4\",\"PowerShell\",\"LLVM\",\"DIGITAL Command Language\",\"M\",\"Logos\",\"C#\",\"Cuda\",\"PLSQL\",\"PostScript\",\"PHP\",\"SourcePawn\",\"Batchfile\",\"Jinja\",\"XSLT\",\"Rich Text Format\",\"HCL\",\"Awk\",\"Zig\",\"CUE\",\"Gherkin\",\"Haxe\",\"PLpgSQL\",\"Scala\",\"Stata\",\"Smarty\",\"Nextflow\",\"Arduino\",\"Lua\",\"Cython\",\"Dockerfile\",\"TSQL\",\"Groovy\",\"CMake\",\"Vim Script\",\"SCSS\",\"TypeScript\",\"Vue\",\"Fortran\",\"SAS\",\"Perl\",\"Roff\",\"Objective-C\",\"Makefile\",\"Mathematica\",\"MATLAB\",\"Assembly\",\"CSS\",\"Rust\",\"AMPL\",\"Prolog\",\"Ruby\",\"TeX\",\"Shell\",\"Clojure\",\"Nim\",\"Go\",\"JavaScript\",\"R\",\"Java\",\"C\",\"Python\",\"C++\",\"Web Ontology Language\",\"HTML\",\"Jupyter Notebook\"],\"yaxis\":\"y\",\"type\":\"bar\",\"texttemplate\":\"%{text}\"}],                        {\"template\":{\"data\":{\"histogram2dcontour\":[{\"type\":\"histogram2dcontour\",\"colorbar\":{\"outlinewidth\":1,\"tickcolor\":\"rgb(36,36,36)\",\"ticks\":\"outside\"},\"colorscale\":[[0.0,\"#440154\"],[0.1111111111111111,\"#482878\"],[0.2222222222222222,\"#3e4989\"],[0.3333333333333333,\"#31688e\"],[0.4444444444444444,\"#26828e\"],[0.5555555555555556,\"#1f9e89\"],[0.6666666666666666,\"#35b779\"],[0.7777777777777778,\"#6ece58\"],[0.8888888888888888,\"#b5de2b\"],[1.0,\"#fde725\"]]}],\"choropleth\":[{\"type\":\"choropleth\",\"colorbar\":{\"outlinewidth\":1,\"tickcolor\":\"rgb(36,36,36)\",\"ticks\":\"outside\"}}],\"histogram2d\":[{\"type\":\"histogram2d\",\"colorbar\":{\"outlinewidth\":1,\"tickcolor\":\"rgb(36,36,36)\",\"ticks\":\"outside\"},\"colorscale\":[[0.0,\"#440154\"],[0.1111111111111111,\"#482878\"],[0.2222222222222222,\"#3e4989\"],[0.3333333333333333,\"#31688e\"],[0.4444444444444444,\"#26828e\"],[0.5555555555555556,\"#1f9e89\"],[0.6666666666666666,\"#35b779\"],[0.7777777777777778,\"#6ece58\"],[0.8888888888888888,\"#b5de2b\"],[1.0,\"#fde725\"]]}],\"heatmap\":[{\"type\":\"heatmap\",\"colorbar\":{\"outlinewidth\":1,\"tickcolor\":\"rgb(36,36,36)\",\"ticks\":\"outside\"},\"colorscale\":[[0.0,\"#440154\"],[0.1111111111111111,\"#482878\"],[0.2222222222222222,\"#3e4989\"],[0.3333333333333333,\"#31688e\"],[0.4444444444444444,\"#26828e\"],[0.5555555555555556,\"#1f9e89\"],[0.6666666666666666,\"#35b779\"],[0.7777777777777778,\"#6ece58\"],[0.8888888888888888,\"#b5de2b\"],[1.0,\"#fde725\"]]}],\"heatmapgl\":[{\"type\":\"heatmapgl\",\"colorbar\":{\"outlinewidth\":1,\"tickcolor\":\"rgb(36,36,36)\",\"ticks\":\"outside\"},\"colorscale\":[[0.0,\"#440154\"],[0.1111111111111111,\"#482878\"],[0.2222222222222222,\"#3e4989\"],[0.3333333333333333,\"#31688e\"],[0.4444444444444444,\"#26828e\"],[0.5555555555555556,\"#1f9e89\"],[0.6666666666666666,\"#35b779\"],[0.7777777777777778,\"#6ece58\"],[0.8888888888888888,\"#b5de2b\"],[1.0,\"#fde725\"]]}],\"contourcarpet\":[{\"type\":\"contourcarpet\",\"colorbar\":{\"outlinewidth\":1,\"tickcolor\":\"rgb(36,36,36)\",\"ticks\":\"outside\"}}],\"contour\":[{\"type\":\"contour\",\"colorbar\":{\"outlinewidth\":1,\"tickcolor\":\"rgb(36,36,36)\",\"ticks\":\"outside\"},\"colorscale\":[[0.0,\"#440154\"],[0.1111111111111111,\"#482878\"],[0.2222222222222222,\"#3e4989\"],[0.3333333333333333,\"#31688e\"],[0.4444444444444444,\"#26828e\"],[0.5555555555555556,\"#1f9e89\"],[0.6666666666666666,\"#35b779\"],[0.7777777777777778,\"#6ece58\"],[0.8888888888888888,\"#b5de2b\"],[1.0,\"#fde725\"]]}],\"surface\":[{\"type\":\"surface\",\"colorbar\":{\"outlinewidth\":1,\"tickcolor\":\"rgb(36,36,36)\",\"ticks\":\"outside\"},\"colorscale\":[[0.0,\"#440154\"],[0.1111111111111111,\"#482878\"],[0.2222222222222222,\"#3e4989\"],[0.3333333333333333,\"#31688e\"],[0.4444444444444444,\"#26828e\"],[0.5555555555555556,\"#1f9e89\"],[0.6666666666666666,\"#35b779\"],[0.7777777777777778,\"#6ece58\"],[0.8888888888888888,\"#b5de2b\"],[1.0,\"#fde725\"]]}],\"mesh3d\":[{\"type\":\"mesh3d\",\"colorbar\":{\"outlinewidth\":1,\"tickcolor\":\"rgb(36,36,36)\",\"ticks\":\"outside\"}}],\"scatter\":[{\"fillpattern\":{\"fillmode\":\"overlay\",\"size\":10,\"solidity\":0.2},\"type\":\"scatter\"}],\"parcoords\":[{\"type\":\"parcoords\",\"line\":{\"colorbar\":{\"outlinewidth\":1,\"tickcolor\":\"rgb(36,36,36)\",\"ticks\":\"outside\"}}}],\"scatterpolargl\":[{\"type\":\"scatterpolargl\",\"marker\":{\"colorbar\":{\"outlinewidth\":1,\"tickcolor\":\"rgb(36,36,36)\",\"ticks\":\"outside\"}}}],\"bar\":[{\"error_x\":{\"color\":\"rgb(36,36,36)\"},\"error_y\":{\"color\":\"rgb(36,36,36)\"},\"marker\":{\"line\":{\"color\":\"white\",\"width\":0.5},\"pattern\":{\"fillmode\":\"overlay\",\"size\":10,\"solidity\":0.2}},\"type\":\"bar\"}],\"scattergeo\":[{\"type\":\"scattergeo\",\"marker\":{\"colorbar\":{\"outlinewidth\":1,\"tickcolor\":\"rgb(36,36,36)\",\"ticks\":\"outside\"}}}],\"scatterpolar\":[{\"type\":\"scatterpolar\",\"marker\":{\"colorbar\":{\"outlinewidth\":1,\"tickcolor\":\"rgb(36,36,36)\",\"ticks\":\"outside\"}}}],\"histogram\":[{\"marker\":{\"line\":{\"color\":\"white\",\"width\":0.6}},\"type\":\"histogram\"}],\"scattergl\":[{\"type\":\"scattergl\",\"marker\":{\"colorbar\":{\"outlinewidth\":1,\"tickcolor\":\"rgb(36,36,36)\",\"ticks\":\"outside\"}}}],\"scatter3d\":[{\"type\":\"scatter3d\",\"line\":{\"colorbar\":{\"outlinewidth\":1,\"tickcolor\":\"rgb(36,36,36)\",\"ticks\":\"outside\"}},\"marker\":{\"colorbar\":{\"outlinewidth\":1,\"tickcolor\":\"rgb(36,36,36)\",\"ticks\":\"outside\"}}}],\"scattermapbox\":[{\"type\":\"scattermapbox\",\"marker\":{\"colorbar\":{\"outlinewidth\":1,\"tickcolor\":\"rgb(36,36,36)\",\"ticks\":\"outside\"}}}],\"scatterternary\":[{\"type\":\"scatterternary\",\"marker\":{\"colorbar\":{\"outlinewidth\":1,\"tickcolor\":\"rgb(36,36,36)\",\"ticks\":\"outside\"}}}],\"scattercarpet\":[{\"type\":\"scattercarpet\",\"marker\":{\"colorbar\":{\"outlinewidth\":1,\"tickcolor\":\"rgb(36,36,36)\",\"ticks\":\"outside\"}}}],\"carpet\":[{\"aaxis\":{\"endlinecolor\":\"rgb(36,36,36)\",\"gridcolor\":\"white\",\"linecolor\":\"white\",\"minorgridcolor\":\"white\",\"startlinecolor\":\"rgb(36,36,36)\"},\"baxis\":{\"endlinecolor\":\"rgb(36,36,36)\",\"gridcolor\":\"white\",\"linecolor\":\"white\",\"minorgridcolor\":\"white\",\"startlinecolor\":\"rgb(36,36,36)\"},\"type\":\"carpet\"}],\"table\":[{\"cells\":{\"fill\":{\"color\":\"rgb(237,237,237)\"},\"line\":{\"color\":\"white\"}},\"header\":{\"fill\":{\"color\":\"rgb(217,217,217)\"},\"line\":{\"color\":\"white\"}},\"type\":\"table\"}],\"barpolar\":[{\"marker\":{\"line\":{\"color\":\"white\",\"width\":0.5},\"pattern\":{\"fillmode\":\"overlay\",\"size\":10,\"solidity\":0.2}},\"type\":\"barpolar\"}],\"pie\":[{\"automargin\":true,\"type\":\"pie\"}]},\"layout\":{\"autotypenumbers\":\"strict\",\"colorway\":[\"#1F77B4\",\"#FF7F0E\",\"#2CA02C\",\"#D62728\",\"#9467BD\",\"#8C564B\",\"#E377C2\",\"#7F7F7F\",\"#BCBD22\",\"#17BECF\"],\"font\":{\"color\":\"rgb(36,36,36)\"},\"hovermode\":\"closest\",\"hoverlabel\":{\"align\":\"left\"},\"paper_bgcolor\":\"white\",\"plot_bgcolor\":\"white\",\"polar\":{\"bgcolor\":\"white\",\"angularaxis\":{\"gridcolor\":\"rgb(232,232,232)\",\"linecolor\":\"rgb(36,36,36)\",\"showgrid\":false,\"showline\":true,\"ticks\":\"outside\"},\"radialaxis\":{\"gridcolor\":\"rgb(232,232,232)\",\"linecolor\":\"rgb(36,36,36)\",\"showgrid\":false,\"showline\":true,\"ticks\":\"outside\"}},\"ternary\":{\"bgcolor\":\"white\",\"aaxis\":{\"gridcolor\":\"rgb(232,232,232)\",\"linecolor\":\"rgb(36,36,36)\",\"showgrid\":false,\"showline\":true,\"ticks\":\"outside\"},\"baxis\":{\"gridcolor\":\"rgb(232,232,232)\",\"linecolor\":\"rgb(36,36,36)\",\"showgrid\":false,\"showline\":true,\"ticks\":\"outside\"},\"caxis\":{\"gridcolor\":\"rgb(232,232,232)\",\"linecolor\":\"rgb(36,36,36)\",\"showgrid\":false,\"showline\":true,\"ticks\":\"outside\"}},\"coloraxis\":{\"colorbar\":{\"outlinewidth\":1,\"tickcolor\":\"rgb(36,36,36)\",\"ticks\":\"outside\"}},\"colorscale\":{\"sequential\":[[0.0,\"#440154\"],[0.1111111111111111,\"#482878\"],[0.2222222222222222,\"#3e4989\"],[0.3333333333333333,\"#31688e\"],[0.4444444444444444,\"#26828e\"],[0.5555555555555556,\"#1f9e89\"],[0.6666666666666666,\"#35b779\"],[0.7777777777777778,\"#6ece58\"],[0.8888888888888888,\"#b5de2b\"],[1.0,\"#fde725\"]],\"sequentialminus\":[[0.0,\"#440154\"],[0.1111111111111111,\"#482878\"],[0.2222222222222222,\"#3e4989\"],[0.3333333333333333,\"#31688e\"],[0.4444444444444444,\"#26828e\"],[0.5555555555555556,\"#1f9e89\"],[0.6666666666666666,\"#35b779\"],[0.7777777777777778,\"#6ece58\"],[0.8888888888888888,\"#b5de2b\"],[1.0,\"#fde725\"]],\"diverging\":[[0.0,\"rgb(103,0,31)\"],[0.1,\"rgb(178,24,43)\"],[0.2,\"rgb(214,96,77)\"],[0.3,\"rgb(244,165,130)\"],[0.4,\"rgb(253,219,199)\"],[0.5,\"rgb(247,247,247)\"],[0.6,\"rgb(209,229,240)\"],[0.7,\"rgb(146,197,222)\"],[0.8,\"rgb(67,147,195)\"],[0.9,\"rgb(33,102,172)\"],[1.0,\"rgb(5,48,97)\"]]},\"xaxis\":{\"gridcolor\":\"rgb(232,232,232)\",\"linecolor\":\"rgb(36,36,36)\",\"showgrid\":false,\"showline\":true,\"ticks\":\"outside\",\"title\":{\"standoff\":15},\"zerolinecolor\":\"rgb(36,36,36)\",\"automargin\":true,\"zeroline\":false},\"yaxis\":{\"gridcolor\":\"rgb(232,232,232)\",\"linecolor\":\"rgb(36,36,36)\",\"showgrid\":false,\"showline\":true,\"ticks\":\"outside\",\"title\":{\"standoff\":15},\"zerolinecolor\":\"rgb(36,36,36)\",\"automargin\":true,\"zeroline\":false},\"scene\":{\"xaxis\":{\"backgroundcolor\":\"white\",\"gridcolor\":\"rgb(232,232,232)\",\"linecolor\":\"rgb(36,36,36)\",\"showbackground\":true,\"showgrid\":false,\"showline\":true,\"ticks\":\"outside\",\"zerolinecolor\":\"rgb(36,36,36)\",\"gridwidth\":2,\"zeroline\":false},\"yaxis\":{\"backgroundcolor\":\"white\",\"gridcolor\":\"rgb(232,232,232)\",\"linecolor\":\"rgb(36,36,36)\",\"showbackground\":true,\"showgrid\":false,\"showline\":true,\"ticks\":\"outside\",\"zerolinecolor\":\"rgb(36,36,36)\",\"gridwidth\":2,\"zeroline\":false},\"zaxis\":{\"backgroundcolor\":\"white\",\"gridcolor\":\"rgb(232,232,232)\",\"linecolor\":\"rgb(36,36,36)\",\"showbackground\":true,\"showgrid\":false,\"showline\":true,\"ticks\":\"outside\",\"zerolinecolor\":\"rgb(36,36,36)\",\"gridwidth\":2,\"zeroline\":false}},\"shapedefaults\":{\"fillcolor\":\"black\",\"line\":{\"width\":0},\"opacity\":0.3},\"annotationdefaults\":{\"arrowhead\":0,\"arrowwidth\":1},\"geo\":{\"bgcolor\":\"white\",\"landcolor\":\"white\",\"subunitcolor\":\"white\",\"showland\":true,\"showlakes\":true,\"lakecolor\":\"white\"},\"title\":{\"x\":0.05},\"mapbox\":{\"style\":\"light\"}}},\"xaxis\":{\"anchor\":\"y\",\"domain\":[0.0,1.0],\"title\":{\"text\":\"Lines of Code (Total)\"}},\"yaxis\":{\"anchor\":\"x\",\"domain\":[0.0,1.0],\"title\":{\"text\":\"Language\"},\"tickmode\":\"array\",\"tickvals\":[\"Procfile\",\"Mercury\",\"Crystal\",\"Cap'n Proto\",\"Gnuplot\",\"D\",\"Mermaid\",\"Lex\",\"SQLPL\",\"Emacs Lisp\",\"Raku\",\"Julia\",\"Ren'Py\",\"NASL\",\"Mako\",\"Rebol\",\"Scheme\",\"SystemVerilog\",\"Liquid\",\"WDL\",\"Starlark\",\"Vim Snippet\",\"ANTLR\",\"Groff\",\"Scilab\",\"M4\",\"PowerShell\",\"LLVM\",\"DIGITAL Command Language\",\"M\",\"Logos\",\"C#\",\"Cuda\",\"PLSQL\",\"PostScript\",\"PHP\",\"SourcePawn\",\"Batchfile\",\"Jinja\",\"XSLT\",\"Rich Text Format\",\"HCL\",\"Awk\",\"Zig\",\"CUE\",\"Gherkin\",\"Haxe\",\"PLpgSQL\",\"Scala\",\"Stata\",\"Smarty\",\"Nextflow\",\"Arduino\",\"Lua\",\"Cython\",\"Dockerfile\",\"TSQL\",\"Groovy\",\"CMake\",\"Vim Script\",\"SCSS\",\"TypeScript\",\"Vue\",\"Fortran\",\"SAS\",\"Perl\",\"Roff\",\"Objective-C\",\"Makefile\",\"Mathematica\",\"MATLAB\",\"Assembly\",\"CSS\",\"Rust\",\"AMPL\",\"Prolog\",\"Ruby\",\"TeX\",\"Shell\",\"Clojure\",\"Nim\",\"Go\",\"JavaScript\",\"R\",\"Java\",\"C\",\"Python\",\"C++\",\"Web Ontology Language\",\"HTML\",\"Jupyter Notebook\"],\"ticktext\":[\"Procfile\",\"Mercury\",\"Crystal\",\"Cap'n Proto\",\"Gnuplot\",\"D\",\"Mermaid\",\"Lex\",\"SQLPL\",\"Emacs Lisp\",\"Raku\",\"Julia\",\"Ren'Py\",\"NASL\",\"Mako\",\"Rebol\",\"Scheme\",\"SystemVerilog\",\"Liquid\",\"WDL\",\"Starlark\",\"Vim Snippet\",\"ANTLR\",\"Groff\",\"Scilab\",\"M4\",\"PowerShell\",\"LLVM\",\"DIGITAL Command Language\",\"M\",\"Logos\",\"C#\",\"Cuda\",\"PLSQL\",\"PostScript\",\"PHP\",\"SourcePawn\",\"Batchfile\",\"Jinja\",\"XSLT\",\"Rich Text Format\",\"HCL\",\"Awk\",\"Zig\",\"CUE\",\"Gherkin\",\"Haxe\",\"PLpgSQL\",\"Scala\",\"Stata\",\"Smarty\",\"Nextflow\",\"Arduino\",\"Lua\",\"Cython\",\"Dockerfile\",\"TSQL\",\"Groovy\",\"CMake\",\"Vim Script\",\"SCSS\",\"TypeScript\",\"Vue\",\"Fortran\",\"SAS\",\"Perl\",\"Roff\",\"Objective-C\",\"Makefile\",\"Mathematica\",\"MATLAB\",\"Assembly\",\"CSS\",\"Rust\",\"AMPL\",\"Prolog\",\"Ruby\",\"TeX\",\"Shell\",\"Clojure\",\"Nim\",\"Go\",\"JavaScript\",\"R\",\"Java\",\"C\",\"Python\",\"C++\",\"Web Ontology Language\",\"HTML\",\"Jupyter Notebook\"]},\"legend\":{\"tracegroupgap\":0},\"title\":{\"text\":\"Repository Language Line Counts Total\"},\"barmode\":\"relative\",\"height\":1200,\"width\":1200},                        {\"responsive\": true}                    ).then(function(){\n",
       "                            \n",
       "var gd = document.getElementById('66718b18-43f9-4771-b051-b91511efd8f0');\n",
       "var x = new MutationObserver(function (mutations, observer) {{\n",
       "        var display = window.getComputedStyle(gd).display;\n",
       "        if (!display || display === 'none') {{\n",
       "            console.log([gd, 'removed!']);\n",
       "            Plotly.purge(gd);\n",
       "            observer.disconnect();\n",
       "        }}\n",
       "}});\n",
       "\n",
       "// Listen for the removal of the full notebook cells\n",
       "var notebookContainer = gd.closest('#notebook-container');\n",
       "if (notebookContainer) {{\n",
       "    x.observe(notebookContainer, {childList: true});\n",
       "}}\n",
       "\n",
       "// Listen for the clearing of the current output cell\n",
       "var outputEl = gd.closest('.output');\n",
       "if (outputEl) {{\n",
       "    x.observe(outputEl, {childList: true});\n",
       "}}\n",
       "\n",
       "                        })                };                });            </script>        </div>"
      ]
     },
     "metadata": {},
     "output_type": "display_data"
    }
   ],
   "source": [
    "# Create a horizontal bar chart for language line count totals\n",
    "fig_languages = px.bar(\n",
    "    data_frame=df_total_language_line_counts.sort_values(by=\"line_count\"),\n",
    "    title=f\"Repository Language Line Counts Total\",\n",
    "    y=\"language\",\n",
    "    x=\"line_count\",\n",
    "    color_discrete_sequence=[color_seq[2]],\n",
    "    text=\"line_count\",\n",
    "    orientation=\"h\",\n",
    "    width=1200,\n",
    "    height=1200,\n",
    ")\n",
    "\n",
    "# Customize layout to display count labels properly\n",
    "fig_languages.update_traces(\n",
    "    texttemplate=\"%{text}\",\n",
    "    textposition=\"inside\",\n",
    ")\n",
    "fig_languages.update_layout(\n",
    "    xaxis_title=\"Lines of Code (Total)\",\n",
    "    yaxis_title=\"Language\",\n",
    "    # ensure all y axis labels appear\n",
    "    yaxis=dict(\n",
    "        tickmode=\"array\",\n",
    "        tickvals=df_total_language_line_counts[\"language\"].tolist(),\n",
    "        ticktext=df_total_language_line_counts[\"language\"].tolist(),\n",
    "    ),\n",
    ")\n",
    "\n",
    "fig_languages.write_image(\"images/software-landscape-language-line-counts-total.png\")\n",
    "fig_languages.show()"
   ]
  },
  {
   "cell_type": "code",
   "execution_count": 14,
   "id": "f4a2575f-cb67-4872-9d77-121af32211af",
   "metadata": {
    "tags": []
   },
   "outputs": [
    {
     "data": {
      "application/vnd.plotly.v1+json": {
       "config": {
        "plotlyServerURL": "https://plot.ly"
       },
       "data": [
        {
         "alignmentgroup": "True",
         "hovertemplate": "line_count_log=%{text}<br>language=%{y}<extra></extra>",
         "legendgroup": "",
         "marker": {
          "color": "rgb(117,112,179)",
          "pattern": {
           "shape": ""
          }
         },
         "name": "",
         "offsetgroup": "",
         "orientation": "h",
         "showlegend": false,
         "text": [
          4.07753744390572,
          4.0943445622221,
          5.424950017481403,
          5.739792912179234,
          5.8664680569332965,
          6.1092475827643655,
          6.570882962339584,
          6.6052979209482015,
          6.648984550024776,
          6.651571873589727,
          6.784457062637643,
          6.928537818164665,
          6.9726062513017535,
          7.022868086082641,
          7.362645270417825,
          7.385851078125209,
          7.694392802629421,
          8.141189793457691,
          8.161375023197486,
          8.390949464841986,
          8.424200324567073,
          8.45807992692373,
          8.541495483939203,
          8.707152175339404,
          8.847503625923641,
          9.099408811268901,
          9.27058845232154,
          9.459697330106296,
          9.490544554572004,
          9.519147726042911,
          9.57373270366244,
          9.737551024991497,
          9.831454349636296,
          10.03828064887766,
          10.169690593310785,
          10.540593342212448,
          10.609674346603876,
          10.775220152546073,
          10.808130714060667,
          10.845290073579006,
          10.85013288642403,
          10.909070391889045,
          10.910715279402385,
          10.958409152579504,
          11.04928554431096,
          11.124818823158211,
          11.128071480766174,
          11.211009232490623,
          11.265834960492546,
          11.354328247263073,
          11.628457079189447,
          11.934309852938382,
          12.107124857644537,
          12.146975294341985,
          12.155568513356405,
          12.222654405121851,
          12.232943372111977,
          12.32854688249688,
          12.592599552618088,
          12.769919469993413,
          13.015421612230172,
          13.225679604928326,
          13.600413298247643,
          13.667328364566552,
          13.745227568919145,
          13.779628425543123,
          13.847724085728904,
          13.989953661084453,
          14.202033388569214,
          14.352382804064844,
          14.612685716748263,
          15.04631300687341,
          15.101020859900709,
          15.209727700798563,
          15.373535379361808,
          15.37959455555598,
          15.57215912385597,
          15.575533715897803,
          15.840447338222656,
          16.088657571429497,
          16.15125098761815,
          16.39416692824878,
          16.528107606471213,
          16.64926681344094,
          16.96826076826147,
          18.45815407555411,
          18.511904184401537,
          18.615023217479337,
          19.147791994733666,
          20.500028627496416,
          21.353525085396917
         ],
         "textposition": "inside",
         "texttemplate": "%{text}",
         "type": "bar",
         "x": [
          4.07753744390572,
          4.0943445622221,
          5.424950017481403,
          5.739792912179234,
          5.8664680569332965,
          6.1092475827643655,
          6.570882962339584,
          6.6052979209482015,
          6.648984550024776,
          6.651571873589727,
          6.784457062637643,
          6.928537818164665,
          6.9726062513017535,
          7.022868086082641,
          7.362645270417825,
          7.385851078125209,
          7.694392802629421,
          8.141189793457691,
          8.161375023197486,
          8.390949464841986,
          8.424200324567073,
          8.45807992692373,
          8.541495483939203,
          8.707152175339404,
          8.847503625923641,
          9.099408811268901,
          9.27058845232154,
          9.459697330106296,
          9.490544554572004,
          9.519147726042911,
          9.57373270366244,
          9.737551024991497,
          9.831454349636296,
          10.03828064887766,
          10.169690593310785,
          10.540593342212448,
          10.609674346603876,
          10.775220152546073,
          10.808130714060667,
          10.845290073579006,
          10.85013288642403,
          10.909070391889045,
          10.910715279402385,
          10.958409152579504,
          11.04928554431096,
          11.124818823158211,
          11.128071480766174,
          11.211009232490623,
          11.265834960492546,
          11.354328247263073,
          11.628457079189447,
          11.934309852938382,
          12.107124857644537,
          12.146975294341985,
          12.155568513356405,
          12.222654405121851,
          12.232943372111977,
          12.32854688249688,
          12.592599552618088,
          12.769919469993413,
          13.015421612230172,
          13.225679604928326,
          13.600413298247643,
          13.667328364566552,
          13.745227568919145,
          13.779628425543123,
          13.847724085728904,
          13.989953661084453,
          14.202033388569214,
          14.352382804064844,
          14.612685716748263,
          15.04631300687341,
          15.101020859900709,
          15.209727700798563,
          15.373535379361808,
          15.37959455555598,
          15.57215912385597,
          15.575533715897803,
          15.840447338222656,
          16.088657571429497,
          16.15125098761815,
          16.39416692824878,
          16.528107606471213,
          16.64926681344094,
          16.96826076826147,
          18.45815407555411,
          18.511904184401537,
          18.615023217479337,
          19.147791994733666,
          20.500028627496416,
          21.353525085396917
         ],
         "xaxis": "x",
         "y": [
          "Procfile",
          "Mercury",
          "Crystal",
          "Cap'n Proto",
          "Gnuplot",
          "D",
          "Mermaid",
          "Lex",
          "SQLPL",
          "Emacs Lisp",
          "Raku",
          "Julia",
          "Ren'Py",
          "NASL",
          "Mako",
          "Rebol",
          "Scheme",
          "SystemVerilog",
          "Liquid",
          "WDL",
          "Starlark",
          "Vim Snippet",
          "ANTLR",
          "Groff",
          "Scilab",
          "M4",
          "PowerShell",
          "LLVM",
          "DIGITAL Command Language",
          "M",
          "Logos",
          "C#",
          "Cuda",
          "PLSQL",
          "PostScript",
          "PHP",
          "SourcePawn",
          "Batchfile",
          "Jinja",
          "XSLT",
          "Rich Text Format",
          "HCL",
          "Awk",
          "Zig",
          "CUE",
          "Gherkin",
          "Haxe",
          "PLpgSQL",
          "Scala",
          "Stata",
          "Smarty",
          "Nextflow",
          "Arduino",
          "Lua",
          "Cython",
          "Dockerfile",
          "TSQL",
          "Groovy",
          "CMake",
          "Vim Script",
          "SCSS",
          "TypeScript",
          "Vue",
          "Fortran",
          "SAS",
          "Perl",
          "Roff",
          "Objective-C",
          "Makefile",
          "Mathematica",
          "MATLAB",
          "Assembly",
          "CSS",
          "Rust",
          "AMPL",
          "Prolog",
          "Ruby",
          "TeX",
          "Shell",
          "Clojure",
          "Nim",
          "Go",
          "JavaScript",
          "R",
          "Java",
          "C",
          "Python",
          "C++",
          "Web Ontology Language",
          "HTML",
          "Jupyter Notebook"
         ],
         "yaxis": "y"
        }
       ],
       "layout": {
        "barmode": "relative",
        "height": 1200,
        "legend": {
         "tracegroupgap": 0
        },
        "template": {
         "data": {
          "bar": [
           {
            "error_x": {
             "color": "rgb(36,36,36)"
            },
            "error_y": {
             "color": "rgb(36,36,36)"
            },
            "marker": {
             "line": {
              "color": "white",
              "width": 0.5
             },
             "pattern": {
              "fillmode": "overlay",
              "size": 10,
              "solidity": 0.2
             }
            },
            "type": "bar"
           }
          ],
          "barpolar": [
           {
            "marker": {
             "line": {
              "color": "white",
              "width": 0.5
             },
             "pattern": {
              "fillmode": "overlay",
              "size": 10,
              "solidity": 0.2
             }
            },
            "type": "barpolar"
           }
          ],
          "carpet": [
           {
            "aaxis": {
             "endlinecolor": "rgb(36,36,36)",
             "gridcolor": "white",
             "linecolor": "white",
             "minorgridcolor": "white",
             "startlinecolor": "rgb(36,36,36)"
            },
            "baxis": {
             "endlinecolor": "rgb(36,36,36)",
             "gridcolor": "white",
             "linecolor": "white",
             "minorgridcolor": "white",
             "startlinecolor": "rgb(36,36,36)"
            },
            "type": "carpet"
           }
          ],
          "choropleth": [
           {
            "colorbar": {
             "outlinewidth": 1,
             "tickcolor": "rgb(36,36,36)",
             "ticks": "outside"
            },
            "type": "choropleth"
           }
          ],
          "contour": [
           {
            "colorbar": {
             "outlinewidth": 1,
             "tickcolor": "rgb(36,36,36)",
             "ticks": "outside"
            },
            "colorscale": [
             [
              0,
              "#440154"
             ],
             [
              0.1111111111111111,
              "#482878"
             ],
             [
              0.2222222222222222,
              "#3e4989"
             ],
             [
              0.3333333333333333,
              "#31688e"
             ],
             [
              0.4444444444444444,
              "#26828e"
             ],
             [
              0.5555555555555556,
              "#1f9e89"
             ],
             [
              0.6666666666666666,
              "#35b779"
             ],
             [
              0.7777777777777778,
              "#6ece58"
             ],
             [
              0.8888888888888888,
              "#b5de2b"
             ],
             [
              1,
              "#fde725"
             ]
            ],
            "type": "contour"
           }
          ],
          "contourcarpet": [
           {
            "colorbar": {
             "outlinewidth": 1,
             "tickcolor": "rgb(36,36,36)",
             "ticks": "outside"
            },
            "type": "contourcarpet"
           }
          ],
          "heatmap": [
           {
            "colorbar": {
             "outlinewidth": 1,
             "tickcolor": "rgb(36,36,36)",
             "ticks": "outside"
            },
            "colorscale": [
             [
              0,
              "#440154"
             ],
             [
              0.1111111111111111,
              "#482878"
             ],
             [
              0.2222222222222222,
              "#3e4989"
             ],
             [
              0.3333333333333333,
              "#31688e"
             ],
             [
              0.4444444444444444,
              "#26828e"
             ],
             [
              0.5555555555555556,
              "#1f9e89"
             ],
             [
              0.6666666666666666,
              "#35b779"
             ],
             [
              0.7777777777777778,
              "#6ece58"
             ],
             [
              0.8888888888888888,
              "#b5de2b"
             ],
             [
              1,
              "#fde725"
             ]
            ],
            "type": "heatmap"
           }
          ],
          "heatmapgl": [
           {
            "colorbar": {
             "outlinewidth": 1,
             "tickcolor": "rgb(36,36,36)",
             "ticks": "outside"
            },
            "colorscale": [
             [
              0,
              "#440154"
             ],
             [
              0.1111111111111111,
              "#482878"
             ],
             [
              0.2222222222222222,
              "#3e4989"
             ],
             [
              0.3333333333333333,
              "#31688e"
             ],
             [
              0.4444444444444444,
              "#26828e"
             ],
             [
              0.5555555555555556,
              "#1f9e89"
             ],
             [
              0.6666666666666666,
              "#35b779"
             ],
             [
              0.7777777777777778,
              "#6ece58"
             ],
             [
              0.8888888888888888,
              "#b5de2b"
             ],
             [
              1,
              "#fde725"
             ]
            ],
            "type": "heatmapgl"
           }
          ],
          "histogram": [
           {
            "marker": {
             "line": {
              "color": "white",
              "width": 0.6
             }
            },
            "type": "histogram"
           }
          ],
          "histogram2d": [
           {
            "colorbar": {
             "outlinewidth": 1,
             "tickcolor": "rgb(36,36,36)",
             "ticks": "outside"
            },
            "colorscale": [
             [
              0,
              "#440154"
             ],
             [
              0.1111111111111111,
              "#482878"
             ],
             [
              0.2222222222222222,
              "#3e4989"
             ],
             [
              0.3333333333333333,
              "#31688e"
             ],
             [
              0.4444444444444444,
              "#26828e"
             ],
             [
              0.5555555555555556,
              "#1f9e89"
             ],
             [
              0.6666666666666666,
              "#35b779"
             ],
             [
              0.7777777777777778,
              "#6ece58"
             ],
             [
              0.8888888888888888,
              "#b5de2b"
             ],
             [
              1,
              "#fde725"
             ]
            ],
            "type": "histogram2d"
           }
          ],
          "histogram2dcontour": [
           {
            "colorbar": {
             "outlinewidth": 1,
             "tickcolor": "rgb(36,36,36)",
             "ticks": "outside"
            },
            "colorscale": [
             [
              0,
              "#440154"
             ],
             [
              0.1111111111111111,
              "#482878"
             ],
             [
              0.2222222222222222,
              "#3e4989"
             ],
             [
              0.3333333333333333,
              "#31688e"
             ],
             [
              0.4444444444444444,
              "#26828e"
             ],
             [
              0.5555555555555556,
              "#1f9e89"
             ],
             [
              0.6666666666666666,
              "#35b779"
             ],
             [
              0.7777777777777778,
              "#6ece58"
             ],
             [
              0.8888888888888888,
              "#b5de2b"
             ],
             [
              1,
              "#fde725"
             ]
            ],
            "type": "histogram2dcontour"
           }
          ],
          "mesh3d": [
           {
            "colorbar": {
             "outlinewidth": 1,
             "tickcolor": "rgb(36,36,36)",
             "ticks": "outside"
            },
            "type": "mesh3d"
           }
          ],
          "parcoords": [
           {
            "line": {
             "colorbar": {
              "outlinewidth": 1,
              "tickcolor": "rgb(36,36,36)",
              "ticks": "outside"
             }
            },
            "type": "parcoords"
           }
          ],
          "pie": [
           {
            "automargin": true,
            "type": "pie"
           }
          ],
          "scatter": [
           {
            "fillpattern": {
             "fillmode": "overlay",
             "size": 10,
             "solidity": 0.2
            },
            "type": "scatter"
           }
          ],
          "scatter3d": [
           {
            "line": {
             "colorbar": {
              "outlinewidth": 1,
              "tickcolor": "rgb(36,36,36)",
              "ticks": "outside"
             }
            },
            "marker": {
             "colorbar": {
              "outlinewidth": 1,
              "tickcolor": "rgb(36,36,36)",
              "ticks": "outside"
             }
            },
            "type": "scatter3d"
           }
          ],
          "scattercarpet": [
           {
            "marker": {
             "colorbar": {
              "outlinewidth": 1,
              "tickcolor": "rgb(36,36,36)",
              "ticks": "outside"
             }
            },
            "type": "scattercarpet"
           }
          ],
          "scattergeo": [
           {
            "marker": {
             "colorbar": {
              "outlinewidth": 1,
              "tickcolor": "rgb(36,36,36)",
              "ticks": "outside"
             }
            },
            "type": "scattergeo"
           }
          ],
          "scattergl": [
           {
            "marker": {
             "colorbar": {
              "outlinewidth": 1,
              "tickcolor": "rgb(36,36,36)",
              "ticks": "outside"
             }
            },
            "type": "scattergl"
           }
          ],
          "scattermapbox": [
           {
            "marker": {
             "colorbar": {
              "outlinewidth": 1,
              "tickcolor": "rgb(36,36,36)",
              "ticks": "outside"
             }
            },
            "type": "scattermapbox"
           }
          ],
          "scatterpolar": [
           {
            "marker": {
             "colorbar": {
              "outlinewidth": 1,
              "tickcolor": "rgb(36,36,36)",
              "ticks": "outside"
             }
            },
            "type": "scatterpolar"
           }
          ],
          "scatterpolargl": [
           {
            "marker": {
             "colorbar": {
              "outlinewidth": 1,
              "tickcolor": "rgb(36,36,36)",
              "ticks": "outside"
             }
            },
            "type": "scatterpolargl"
           }
          ],
          "scatterternary": [
           {
            "marker": {
             "colorbar": {
              "outlinewidth": 1,
              "tickcolor": "rgb(36,36,36)",
              "ticks": "outside"
             }
            },
            "type": "scatterternary"
           }
          ],
          "surface": [
           {
            "colorbar": {
             "outlinewidth": 1,
             "tickcolor": "rgb(36,36,36)",
             "ticks": "outside"
            },
            "colorscale": [
             [
              0,
              "#440154"
             ],
             [
              0.1111111111111111,
              "#482878"
             ],
             [
              0.2222222222222222,
              "#3e4989"
             ],
             [
              0.3333333333333333,
              "#31688e"
             ],
             [
              0.4444444444444444,
              "#26828e"
             ],
             [
              0.5555555555555556,
              "#1f9e89"
             ],
             [
              0.6666666666666666,
              "#35b779"
             ],
             [
              0.7777777777777778,
              "#6ece58"
             ],
             [
              0.8888888888888888,
              "#b5de2b"
             ],
             [
              1,
              "#fde725"
             ]
            ],
            "type": "surface"
           }
          ],
          "table": [
           {
            "cells": {
             "fill": {
              "color": "rgb(237,237,237)"
             },
             "line": {
              "color": "white"
             }
            },
            "header": {
             "fill": {
              "color": "rgb(217,217,217)"
             },
             "line": {
              "color": "white"
             }
            },
            "type": "table"
           }
          ]
         },
         "layout": {
          "annotationdefaults": {
           "arrowhead": 0,
           "arrowwidth": 1
          },
          "autotypenumbers": "strict",
          "coloraxis": {
           "colorbar": {
            "outlinewidth": 1,
            "tickcolor": "rgb(36,36,36)",
            "ticks": "outside"
           }
          },
          "colorscale": {
           "diverging": [
            [
             0,
             "rgb(103,0,31)"
            ],
            [
             0.1,
             "rgb(178,24,43)"
            ],
            [
             0.2,
             "rgb(214,96,77)"
            ],
            [
             0.3,
             "rgb(244,165,130)"
            ],
            [
             0.4,
             "rgb(253,219,199)"
            ],
            [
             0.5,
             "rgb(247,247,247)"
            ],
            [
             0.6,
             "rgb(209,229,240)"
            ],
            [
             0.7,
             "rgb(146,197,222)"
            ],
            [
             0.8,
             "rgb(67,147,195)"
            ],
            [
             0.9,
             "rgb(33,102,172)"
            ],
            [
             1,
             "rgb(5,48,97)"
            ]
           ],
           "sequential": [
            [
             0,
             "#440154"
            ],
            [
             0.1111111111111111,
             "#482878"
            ],
            [
             0.2222222222222222,
             "#3e4989"
            ],
            [
             0.3333333333333333,
             "#31688e"
            ],
            [
             0.4444444444444444,
             "#26828e"
            ],
            [
             0.5555555555555556,
             "#1f9e89"
            ],
            [
             0.6666666666666666,
             "#35b779"
            ],
            [
             0.7777777777777778,
             "#6ece58"
            ],
            [
             0.8888888888888888,
             "#b5de2b"
            ],
            [
             1,
             "#fde725"
            ]
           ],
           "sequentialminus": [
            [
             0,
             "#440154"
            ],
            [
             0.1111111111111111,
             "#482878"
            ],
            [
             0.2222222222222222,
             "#3e4989"
            ],
            [
             0.3333333333333333,
             "#31688e"
            ],
            [
             0.4444444444444444,
             "#26828e"
            ],
            [
             0.5555555555555556,
             "#1f9e89"
            ],
            [
             0.6666666666666666,
             "#35b779"
            ],
            [
             0.7777777777777778,
             "#6ece58"
            ],
            [
             0.8888888888888888,
             "#b5de2b"
            ],
            [
             1,
             "#fde725"
            ]
           ]
          },
          "colorway": [
           "#1F77B4",
           "#FF7F0E",
           "#2CA02C",
           "#D62728",
           "#9467BD",
           "#8C564B",
           "#E377C2",
           "#7F7F7F",
           "#BCBD22",
           "#17BECF"
          ],
          "font": {
           "color": "rgb(36,36,36)"
          },
          "geo": {
           "bgcolor": "white",
           "lakecolor": "white",
           "landcolor": "white",
           "showlakes": true,
           "showland": true,
           "subunitcolor": "white"
          },
          "hoverlabel": {
           "align": "left"
          },
          "hovermode": "closest",
          "mapbox": {
           "style": "light"
          },
          "paper_bgcolor": "white",
          "plot_bgcolor": "white",
          "polar": {
           "angularaxis": {
            "gridcolor": "rgb(232,232,232)",
            "linecolor": "rgb(36,36,36)",
            "showgrid": false,
            "showline": true,
            "ticks": "outside"
           },
           "bgcolor": "white",
           "radialaxis": {
            "gridcolor": "rgb(232,232,232)",
            "linecolor": "rgb(36,36,36)",
            "showgrid": false,
            "showline": true,
            "ticks": "outside"
           }
          },
          "scene": {
           "xaxis": {
            "backgroundcolor": "white",
            "gridcolor": "rgb(232,232,232)",
            "gridwidth": 2,
            "linecolor": "rgb(36,36,36)",
            "showbackground": true,
            "showgrid": false,
            "showline": true,
            "ticks": "outside",
            "zeroline": false,
            "zerolinecolor": "rgb(36,36,36)"
           },
           "yaxis": {
            "backgroundcolor": "white",
            "gridcolor": "rgb(232,232,232)",
            "gridwidth": 2,
            "linecolor": "rgb(36,36,36)",
            "showbackground": true,
            "showgrid": false,
            "showline": true,
            "ticks": "outside",
            "zeroline": false,
            "zerolinecolor": "rgb(36,36,36)"
           },
           "zaxis": {
            "backgroundcolor": "white",
            "gridcolor": "rgb(232,232,232)",
            "gridwidth": 2,
            "linecolor": "rgb(36,36,36)",
            "showbackground": true,
            "showgrid": false,
            "showline": true,
            "ticks": "outside",
            "zeroline": false,
            "zerolinecolor": "rgb(36,36,36)"
           }
          },
          "shapedefaults": {
           "fillcolor": "black",
           "line": {
            "width": 0
           },
           "opacity": 0.3
          },
          "ternary": {
           "aaxis": {
            "gridcolor": "rgb(232,232,232)",
            "linecolor": "rgb(36,36,36)",
            "showgrid": false,
            "showline": true,
            "ticks": "outside"
           },
           "baxis": {
            "gridcolor": "rgb(232,232,232)",
            "linecolor": "rgb(36,36,36)",
            "showgrid": false,
            "showline": true,
            "ticks": "outside"
           },
           "bgcolor": "white",
           "caxis": {
            "gridcolor": "rgb(232,232,232)",
            "linecolor": "rgb(36,36,36)",
            "showgrid": false,
            "showline": true,
            "ticks": "outside"
           }
          },
          "title": {
           "x": 0.05
          },
          "xaxis": {
           "automargin": true,
           "gridcolor": "rgb(232,232,232)",
           "linecolor": "rgb(36,36,36)",
           "showgrid": false,
           "showline": true,
           "ticks": "outside",
           "title": {
            "standoff": 15
           },
           "zeroline": false,
           "zerolinecolor": "rgb(36,36,36)"
          },
          "yaxis": {
           "automargin": true,
           "gridcolor": "rgb(232,232,232)",
           "linecolor": "rgb(36,36,36)",
           "showgrid": false,
           "showline": true,
           "ticks": "outside",
           "title": {
            "standoff": 15
           },
           "zeroline": false,
           "zerolinecolor": "rgb(36,36,36)"
          }
         }
        },
        "title": {
         "text": "Repository Language Line Counts Total"
        },
        "width": 1200,
        "xaxis": {
         "anchor": "y",
         "autorange": true,
         "domain": [
          0,
          1
         ],
         "range": [
          0,
          22.477394826733597
         ],
         "title": {
          "text": "Lines of Code (Total)(log)"
         },
         "type": "linear"
        },
        "yaxis": {
         "anchor": "x",
         "autorange": true,
         "domain": [
          0,
          1
         ],
         "range": [
          -0.5,
          90.5
         ],
         "tickmode": "array",
         "ticktext": [
          "Procfile",
          "Mercury",
          "Crystal",
          "Cap'n Proto",
          "Gnuplot",
          "D",
          "Mermaid",
          "Lex",
          "SQLPL",
          "Emacs Lisp",
          "Raku",
          "Julia",
          "Ren'Py",
          "NASL",
          "Mako",
          "Rebol",
          "Scheme",
          "SystemVerilog",
          "Liquid",
          "WDL",
          "Starlark",
          "Vim Snippet",
          "ANTLR",
          "Groff",
          "Scilab",
          "M4",
          "PowerShell",
          "LLVM",
          "DIGITAL Command Language",
          "M",
          "Logos",
          "C#",
          "Cuda",
          "PLSQL",
          "PostScript",
          "PHP",
          "SourcePawn",
          "Batchfile",
          "Jinja",
          "XSLT",
          "Rich Text Format",
          "HCL",
          "Awk",
          "Zig",
          "CUE",
          "Gherkin",
          "Haxe",
          "PLpgSQL",
          "Scala",
          "Stata",
          "Smarty",
          "Nextflow",
          "Arduino",
          "Lua",
          "Cython",
          "Dockerfile",
          "TSQL",
          "Groovy",
          "CMake",
          "Vim Script",
          "SCSS",
          "TypeScript",
          "Vue",
          "Fortran",
          "SAS",
          "Perl",
          "Roff",
          "Objective-C",
          "Makefile",
          "Mathematica",
          "MATLAB",
          "Assembly",
          "CSS",
          "Rust",
          "AMPL",
          "Prolog",
          "Ruby",
          "TeX",
          "Shell",
          "Clojure",
          "Nim",
          "Go",
          "JavaScript",
          "R",
          "Java",
          "C",
          "Python",
          "C++",
          "Web Ontology Language",
          "HTML",
          "Jupyter Notebook"
         ],
         "tickvals": [
          "Procfile",
          "Mercury",
          "Crystal",
          "Cap'n Proto",
          "Gnuplot",
          "D",
          "Mermaid",
          "Lex",
          "SQLPL",
          "Emacs Lisp",
          "Raku",
          "Julia",
          "Ren'Py",
          "NASL",
          "Mako",
          "Rebol",
          "Scheme",
          "SystemVerilog",
          "Liquid",
          "WDL",
          "Starlark",
          "Vim Snippet",
          "ANTLR",
          "Groff",
          "Scilab",
          "M4",
          "PowerShell",
          "LLVM",
          "DIGITAL Command Language",
          "M",
          "Logos",
          "C#",
          "Cuda",
          "PLSQL",
          "PostScript",
          "PHP",
          "SourcePawn",
          "Batchfile",
          "Jinja",
          "XSLT",
          "Rich Text Format",
          "HCL",
          "Awk",
          "Zig",
          "CUE",
          "Gherkin",
          "Haxe",
          "PLpgSQL",
          "Scala",
          "Stata",
          "Smarty",
          "Nextflow",
          "Arduino",
          "Lua",
          "Cython",
          "Dockerfile",
          "TSQL",
          "Groovy",
          "CMake",
          "Vim Script",
          "SCSS",
          "TypeScript",
          "Vue",
          "Fortran",
          "SAS",
          "Perl",
          "Roff",
          "Objective-C",
          "Makefile",
          "Mathematica",
          "MATLAB",
          "Assembly",
          "CSS",
          "Rust",
          "AMPL",
          "Prolog",
          "Ruby",
          "TeX",
          "Shell",
          "Clojure",
          "Nim",
          "Go",
          "JavaScript",
          "R",
          "Java",
          "C",
          "Python",
          "C++",
          "Web Ontology Language",
          "HTML",
          "Jupyter Notebook"
         ],
         "title": {
          "text": "Language"
         },
         "type": "category"
        }
       }
      },
      "image/png": "[encoded data removed]",
      "text/html": [
       "<div>                            <div id=\"b7b1bf71-09a5-47fa-b411-a329d6887f1b\" class=\"plotly-graph-div\" style=\"height:1200px; width:1200px;\"></div>            <script type=\"text/javascript\">                require([\"plotly\"], function(Plotly) {                    window.PLOTLYENV=window.PLOTLYENV || {};                                    if (document.getElementById(\"b7b1bf71-09a5-47fa-b411-a329d6887f1b\")) {                    Plotly.newPlot(                        \"b7b1bf71-09a5-47fa-b411-a329d6887f1b\",                        [{\"alignmentgroup\":\"True\",\"hovertemplate\":\"line_count_log=%{text}\\u003cbr\\u003elanguage=%{y}\\u003cextra\\u003e\\u003c\\u002fextra\\u003e\",\"legendgroup\":\"\",\"marker\":{\"color\":\"rgb(117,112,179)\",\"pattern\":{\"shape\":\"\"}},\"name\":\"\",\"offsetgroup\":\"\",\"orientation\":\"h\",\"showlegend\":false,\"text\":[4.07753744390572,4.0943445622221,5.424950017481403,5.739792912179234,5.8664680569332965,6.1092475827643655,6.570882962339584,6.6052979209482015,6.648984550024776,6.651571873589727,6.784457062637643,6.928537818164665,6.9726062513017535,7.022868086082641,7.362645270417825,7.385851078125209,7.694392802629421,8.141189793457691,8.161375023197486,8.390949464841986,8.424200324567073,8.45807992692373,8.541495483939203,8.707152175339404,8.847503625923641,9.099408811268901,9.27058845232154,9.459697330106296,9.490544554572004,9.519147726042911,9.57373270366244,9.737551024991497,9.831454349636296,10.03828064887766,10.169690593310785,10.540593342212448,10.609674346603876,10.775220152546073,10.808130714060667,10.845290073579006,10.85013288642403,10.909070391889045,10.910715279402385,10.958409152579504,11.04928554431096,11.124818823158211,11.128071480766174,11.211009232490623,11.265834960492546,11.354328247263073,11.628457079189447,11.934309852938382,12.107124857644537,12.146975294341985,12.155568513356405,12.222654405121851,12.232943372111977,12.32854688249688,12.592599552618088,12.769919469993413,13.015421612230172,13.225679604928326,13.600413298247643,13.667328364566552,13.745227568919145,13.779628425543123,13.847724085728904,13.989953661084453,14.202033388569214,14.352382804064844,14.612685716748263,15.04631300687341,15.101020859900709,15.209727700798563,15.373535379361808,15.37959455555598,15.57215912385597,15.575533715897803,15.840447338222656,16.088657571429497,16.15125098761815,16.39416692824878,16.528107606471213,16.64926681344094,16.96826076826147,18.45815407555411,18.511904184401537,18.615023217479337,19.147791994733666,20.500028627496416,21.353525085396917],\"textposition\":\"inside\",\"x\":[4.07753744390572,4.0943445622221,5.424950017481403,5.739792912179234,5.8664680569332965,6.1092475827643655,6.570882962339584,6.6052979209482015,6.648984550024776,6.651571873589727,6.784457062637643,6.928537818164665,6.9726062513017535,7.022868086082641,7.362645270417825,7.385851078125209,7.694392802629421,8.141189793457691,8.161375023197486,8.390949464841986,8.424200324567073,8.45807992692373,8.541495483939203,8.707152175339404,8.847503625923641,9.099408811268901,9.27058845232154,9.459697330106296,9.490544554572004,9.519147726042911,9.57373270366244,9.737551024991497,9.831454349636296,10.03828064887766,10.169690593310785,10.540593342212448,10.609674346603876,10.775220152546073,10.808130714060667,10.845290073579006,10.85013288642403,10.909070391889045,10.910715279402385,10.958409152579504,11.04928554431096,11.124818823158211,11.128071480766174,11.211009232490623,11.265834960492546,11.354328247263073,11.628457079189447,11.934309852938382,12.107124857644537,12.146975294341985,12.155568513356405,12.222654405121851,12.232943372111977,12.32854688249688,12.592599552618088,12.769919469993413,13.015421612230172,13.225679604928326,13.600413298247643,13.667328364566552,13.745227568919145,13.779628425543123,13.847724085728904,13.989953661084453,14.202033388569214,14.352382804064844,14.612685716748263,15.04631300687341,15.101020859900709,15.209727700798563,15.373535379361808,15.37959455555598,15.57215912385597,15.575533715897803,15.840447338222656,16.088657571429497,16.15125098761815,16.39416692824878,16.528107606471213,16.64926681344094,16.96826076826147,18.45815407555411,18.511904184401537,18.615023217479337,19.147791994733666,20.500028627496416,21.353525085396917],\"xaxis\":\"x\",\"y\":[\"Procfile\",\"Mercury\",\"Crystal\",\"Cap'n Proto\",\"Gnuplot\",\"D\",\"Mermaid\",\"Lex\",\"SQLPL\",\"Emacs Lisp\",\"Raku\",\"Julia\",\"Ren'Py\",\"NASL\",\"Mako\",\"Rebol\",\"Scheme\",\"SystemVerilog\",\"Liquid\",\"WDL\",\"Starlark\",\"Vim Snippet\",\"ANTLR\",\"Groff\",\"Scilab\",\"M4\",\"PowerShell\",\"LLVM\",\"DIGITAL Command Language\",\"M\",\"Logos\",\"C#\",\"Cuda\",\"PLSQL\",\"PostScript\",\"PHP\",\"SourcePawn\",\"Batchfile\",\"Jinja\",\"XSLT\",\"Rich Text Format\",\"HCL\",\"Awk\",\"Zig\",\"CUE\",\"Gherkin\",\"Haxe\",\"PLpgSQL\",\"Scala\",\"Stata\",\"Smarty\",\"Nextflow\",\"Arduino\",\"Lua\",\"Cython\",\"Dockerfile\",\"TSQL\",\"Groovy\",\"CMake\",\"Vim Script\",\"SCSS\",\"TypeScript\",\"Vue\",\"Fortran\",\"SAS\",\"Perl\",\"Roff\",\"Objective-C\",\"Makefile\",\"Mathematica\",\"MATLAB\",\"Assembly\",\"CSS\",\"Rust\",\"AMPL\",\"Prolog\",\"Ruby\",\"TeX\",\"Shell\",\"Clojure\",\"Nim\",\"Go\",\"JavaScript\",\"R\",\"Java\",\"C\",\"Python\",\"C++\",\"Web Ontology Language\",\"HTML\",\"Jupyter Notebook\"],\"yaxis\":\"y\",\"type\":\"bar\",\"texttemplate\":\"%{text}\"}],                        {\"template\":{\"data\":{\"histogram2dcontour\":[{\"type\":\"histogram2dcontour\",\"colorbar\":{\"outlinewidth\":1,\"tickcolor\":\"rgb(36,36,36)\",\"ticks\":\"outside\"},\"colorscale\":[[0.0,\"#440154\"],[0.1111111111111111,\"#482878\"],[0.2222222222222222,\"#3e4989\"],[0.3333333333333333,\"#31688e\"],[0.4444444444444444,\"#26828e\"],[0.5555555555555556,\"#1f9e89\"],[0.6666666666666666,\"#35b779\"],[0.7777777777777778,\"#6ece58\"],[0.8888888888888888,\"#b5de2b\"],[1.0,\"#fde725\"]]}],\"choropleth\":[{\"type\":\"choropleth\",\"colorbar\":{\"outlinewidth\":1,\"tickcolor\":\"rgb(36,36,36)\",\"ticks\":\"outside\"}}],\"histogram2d\":[{\"type\":\"histogram2d\",\"colorbar\":{\"outlinewidth\":1,\"tickcolor\":\"rgb(36,36,36)\",\"ticks\":\"outside\"},\"colorscale\":[[0.0,\"#440154\"],[0.1111111111111111,\"#482878\"],[0.2222222222222222,\"#3e4989\"],[0.3333333333333333,\"#31688e\"],[0.4444444444444444,\"#26828e\"],[0.5555555555555556,\"#1f9e89\"],[0.6666666666666666,\"#35b779\"],[0.7777777777777778,\"#6ece58\"],[0.8888888888888888,\"#b5de2b\"],[1.0,\"#fde725\"]]}],\"heatmap\":[{\"type\":\"heatmap\",\"colorbar\":{\"outlinewidth\":1,\"tickcolor\":\"rgb(36,36,36)\",\"ticks\":\"outside\"},\"colorscale\":[[0.0,\"#440154\"],[0.1111111111111111,\"#482878\"],[0.2222222222222222,\"#3e4989\"],[0.3333333333333333,\"#31688e\"],[0.4444444444444444,\"#26828e\"],[0.5555555555555556,\"#1f9e89\"],[0.6666666666666666,\"#35b779\"],[0.7777777777777778,\"#6ece58\"],[0.8888888888888888,\"#b5de2b\"],[1.0,\"#fde725\"]]}],\"heatmapgl\":[{\"type\":\"heatmapgl\",\"colorbar\":{\"outlinewidth\":1,\"tickcolor\":\"rgb(36,36,36)\",\"ticks\":\"outside\"},\"colorscale\":[[0.0,\"#440154\"],[0.1111111111111111,\"#482878\"],[0.2222222222222222,\"#3e4989\"],[0.3333333333333333,\"#31688e\"],[0.4444444444444444,\"#26828e\"],[0.5555555555555556,\"#1f9e89\"],[0.6666666666666666,\"#35b779\"],[0.7777777777777778,\"#6ece58\"],[0.8888888888888888,\"#b5de2b\"],[1.0,\"#fde725\"]]}],\"contourcarpet\":[{\"type\":\"contourcarpet\",\"colorbar\":{\"outlinewidth\":1,\"tickcolor\":\"rgb(36,36,36)\",\"ticks\":\"outside\"}}],\"contour\":[{\"type\":\"contour\",\"colorbar\":{\"outlinewidth\":1,\"tickcolor\":\"rgb(36,36,36)\",\"ticks\":\"outside\"},\"colorscale\":[[0.0,\"#440154\"],[0.1111111111111111,\"#482878\"],[0.2222222222222222,\"#3e4989\"],[0.3333333333333333,\"#31688e\"],[0.4444444444444444,\"#26828e\"],[0.5555555555555556,\"#1f9e89\"],[0.6666666666666666,\"#35b779\"],[0.7777777777777778,\"#6ece58\"],[0.8888888888888888,\"#b5de2b\"],[1.0,\"#fde725\"]]}],\"surface\":[{\"type\":\"surface\",\"colorbar\":{\"outlinewidth\":1,\"tickcolor\":\"rgb(36,36,36)\",\"ticks\":\"outside\"},\"colorscale\":[[0.0,\"#440154\"],[0.1111111111111111,\"#482878\"],[0.2222222222222222,\"#3e4989\"],[0.3333333333333333,\"#31688e\"],[0.4444444444444444,\"#26828e\"],[0.5555555555555556,\"#1f9e89\"],[0.6666666666666666,\"#35b779\"],[0.7777777777777778,\"#6ece58\"],[0.8888888888888888,\"#b5de2b\"],[1.0,\"#fde725\"]]}],\"mesh3d\":[{\"type\":\"mesh3d\",\"colorbar\":{\"outlinewidth\":1,\"tickcolor\":\"rgb(36,36,36)\",\"ticks\":\"outside\"}}],\"scatter\":[{\"fillpattern\":{\"fillmode\":\"overlay\",\"size\":10,\"solidity\":0.2},\"type\":\"scatter\"}],\"parcoords\":[{\"type\":\"parcoords\",\"line\":{\"colorbar\":{\"outlinewidth\":1,\"tickcolor\":\"rgb(36,36,36)\",\"ticks\":\"outside\"}}}],\"scatterpolargl\":[{\"type\":\"scatterpolargl\",\"marker\":{\"colorbar\":{\"outlinewidth\":1,\"tickcolor\":\"rgb(36,36,36)\",\"ticks\":\"outside\"}}}],\"bar\":[{\"error_x\":{\"color\":\"rgb(36,36,36)\"},\"error_y\":{\"color\":\"rgb(36,36,36)\"},\"marker\":{\"line\":{\"color\":\"white\",\"width\":0.5},\"pattern\":{\"fillmode\":\"overlay\",\"size\":10,\"solidity\":0.2}},\"type\":\"bar\"}],\"scattergeo\":[{\"type\":\"scattergeo\",\"marker\":{\"colorbar\":{\"outlinewidth\":1,\"tickcolor\":\"rgb(36,36,36)\",\"ticks\":\"outside\"}}}],\"scatterpolar\":[{\"type\":\"scatterpolar\",\"marker\":{\"colorbar\":{\"outlinewidth\":1,\"tickcolor\":\"rgb(36,36,36)\",\"ticks\":\"outside\"}}}],\"histogram\":[{\"marker\":{\"line\":{\"color\":\"white\",\"width\":0.6}},\"type\":\"histogram\"}],\"scattergl\":[{\"type\":\"scattergl\",\"marker\":{\"colorbar\":{\"outlinewidth\":1,\"tickcolor\":\"rgb(36,36,36)\",\"ticks\":\"outside\"}}}],\"scatter3d\":[{\"type\":\"scatter3d\",\"line\":{\"colorbar\":{\"outlinewidth\":1,\"tickcolor\":\"rgb(36,36,36)\",\"ticks\":\"outside\"}},\"marker\":{\"colorbar\":{\"outlinewidth\":1,\"tickcolor\":\"rgb(36,36,36)\",\"ticks\":\"outside\"}}}],\"scattermapbox\":[{\"type\":\"scattermapbox\",\"marker\":{\"colorbar\":{\"outlinewidth\":1,\"tickcolor\":\"rgb(36,36,36)\",\"ticks\":\"outside\"}}}],\"scatterternary\":[{\"type\":\"scatterternary\",\"marker\":{\"colorbar\":{\"outlinewidth\":1,\"tickcolor\":\"rgb(36,36,36)\",\"ticks\":\"outside\"}}}],\"scattercarpet\":[{\"type\":\"scattercarpet\",\"marker\":{\"colorbar\":{\"outlinewidth\":1,\"tickcolor\":\"rgb(36,36,36)\",\"ticks\":\"outside\"}}}],\"carpet\":[{\"aaxis\":{\"endlinecolor\":\"rgb(36,36,36)\",\"gridcolor\":\"white\",\"linecolor\":\"white\",\"minorgridcolor\":\"white\",\"startlinecolor\":\"rgb(36,36,36)\"},\"baxis\":{\"endlinecolor\":\"rgb(36,36,36)\",\"gridcolor\":\"white\",\"linecolor\":\"white\",\"minorgridcolor\":\"white\",\"startlinecolor\":\"rgb(36,36,36)\"},\"type\":\"carpet\"}],\"table\":[{\"cells\":{\"fill\":{\"color\":\"rgb(237,237,237)\"},\"line\":{\"color\":\"white\"}},\"header\":{\"fill\":{\"color\":\"rgb(217,217,217)\"},\"line\":{\"color\":\"white\"}},\"type\":\"table\"}],\"barpolar\":[{\"marker\":{\"line\":{\"color\":\"white\",\"width\":0.5},\"pattern\":{\"fillmode\":\"overlay\",\"size\":10,\"solidity\":0.2}},\"type\":\"barpolar\"}],\"pie\":[{\"automargin\":true,\"type\":\"pie\"}]},\"layout\":{\"autotypenumbers\":\"strict\",\"colorway\":[\"#1F77B4\",\"#FF7F0E\",\"#2CA02C\",\"#D62728\",\"#9467BD\",\"#8C564B\",\"#E377C2\",\"#7F7F7F\",\"#BCBD22\",\"#17BECF\"],\"font\":{\"color\":\"rgb(36,36,36)\"},\"hovermode\":\"closest\",\"hoverlabel\":{\"align\":\"left\"},\"paper_bgcolor\":\"white\",\"plot_bgcolor\":\"white\",\"polar\":{\"bgcolor\":\"white\",\"angularaxis\":{\"gridcolor\":\"rgb(232,232,232)\",\"linecolor\":\"rgb(36,36,36)\",\"showgrid\":false,\"showline\":true,\"ticks\":\"outside\"},\"radialaxis\":{\"gridcolor\":\"rgb(232,232,232)\",\"linecolor\":\"rgb(36,36,36)\",\"showgrid\":false,\"showline\":true,\"ticks\":\"outside\"}},\"ternary\":{\"bgcolor\":\"white\",\"aaxis\":{\"gridcolor\":\"rgb(232,232,232)\",\"linecolor\":\"rgb(36,36,36)\",\"showgrid\":false,\"showline\":true,\"ticks\":\"outside\"},\"baxis\":{\"gridcolor\":\"rgb(232,232,232)\",\"linecolor\":\"rgb(36,36,36)\",\"showgrid\":false,\"showline\":true,\"ticks\":\"outside\"},\"caxis\":{\"gridcolor\":\"rgb(232,232,232)\",\"linecolor\":\"rgb(36,36,36)\",\"showgrid\":false,\"showline\":true,\"ticks\":\"outside\"}},\"coloraxis\":{\"colorbar\":{\"outlinewidth\":1,\"tickcolor\":\"rgb(36,36,36)\",\"ticks\":\"outside\"}},\"colorscale\":{\"sequential\":[[0.0,\"#440154\"],[0.1111111111111111,\"#482878\"],[0.2222222222222222,\"#3e4989\"],[0.3333333333333333,\"#31688e\"],[0.4444444444444444,\"#26828e\"],[0.5555555555555556,\"#1f9e89\"],[0.6666666666666666,\"#35b779\"],[0.7777777777777778,\"#6ece58\"],[0.8888888888888888,\"#b5de2b\"],[1.0,\"#fde725\"]],\"sequentialminus\":[[0.0,\"#440154\"],[0.1111111111111111,\"#482878\"],[0.2222222222222222,\"#3e4989\"],[0.3333333333333333,\"#31688e\"],[0.4444444444444444,\"#26828e\"],[0.5555555555555556,\"#1f9e89\"],[0.6666666666666666,\"#35b779\"],[0.7777777777777778,\"#6ece58\"],[0.8888888888888888,\"#b5de2b\"],[1.0,\"#fde725\"]],\"diverging\":[[0.0,\"rgb(103,0,31)\"],[0.1,\"rgb(178,24,43)\"],[0.2,\"rgb(214,96,77)\"],[0.3,\"rgb(244,165,130)\"],[0.4,\"rgb(253,219,199)\"],[0.5,\"rgb(247,247,247)\"],[0.6,\"rgb(209,229,240)\"],[0.7,\"rgb(146,197,222)\"],[0.8,\"rgb(67,147,195)\"],[0.9,\"rgb(33,102,172)\"],[1.0,\"rgb(5,48,97)\"]]},\"xaxis\":{\"gridcolor\":\"rgb(232,232,232)\",\"linecolor\":\"rgb(36,36,36)\",\"showgrid\":false,\"showline\":true,\"ticks\":\"outside\",\"title\":{\"standoff\":15},\"zerolinecolor\":\"rgb(36,36,36)\",\"automargin\":true,\"zeroline\":false},\"yaxis\":{\"gridcolor\":\"rgb(232,232,232)\",\"linecolor\":\"rgb(36,36,36)\",\"showgrid\":false,\"showline\":true,\"ticks\":\"outside\",\"title\":{\"standoff\":15},\"zerolinecolor\":\"rgb(36,36,36)\",\"automargin\":true,\"zeroline\":false},\"scene\":{\"xaxis\":{\"backgroundcolor\":\"white\",\"gridcolor\":\"rgb(232,232,232)\",\"linecolor\":\"rgb(36,36,36)\",\"showbackground\":true,\"showgrid\":false,\"showline\":true,\"ticks\":\"outside\",\"zerolinecolor\":\"rgb(36,36,36)\",\"gridwidth\":2,\"zeroline\":false},\"yaxis\":{\"backgroundcolor\":\"white\",\"gridcolor\":\"rgb(232,232,232)\",\"linecolor\":\"rgb(36,36,36)\",\"showbackground\":true,\"showgrid\":false,\"showline\":true,\"ticks\":\"outside\",\"zerolinecolor\":\"rgb(36,36,36)\",\"gridwidth\":2,\"zeroline\":false},\"zaxis\":{\"backgroundcolor\":\"white\",\"gridcolor\":\"rgb(232,232,232)\",\"linecolor\":\"rgb(36,36,36)\",\"showbackground\":true,\"showgrid\":false,\"showline\":true,\"ticks\":\"outside\",\"zerolinecolor\":\"rgb(36,36,36)\",\"gridwidth\":2,\"zeroline\":false}},\"shapedefaults\":{\"fillcolor\":\"black\",\"line\":{\"width\":0},\"opacity\":0.3},\"annotationdefaults\":{\"arrowhead\":0,\"arrowwidth\":1},\"geo\":{\"bgcolor\":\"white\",\"landcolor\":\"white\",\"subunitcolor\":\"white\",\"showland\":true,\"showlakes\":true,\"lakecolor\":\"white\"},\"title\":{\"x\":0.05},\"mapbox\":{\"style\":\"light\"}}},\"xaxis\":{\"anchor\":\"y\",\"domain\":[0.0,1.0],\"title\":{\"text\":\"Lines of Code (Total)(log)\"}},\"yaxis\":{\"anchor\":\"x\",\"domain\":[0.0,1.0],\"title\":{\"text\":\"Language\"},\"tickmode\":\"array\",\"tickvals\":[\"Procfile\",\"Mercury\",\"Crystal\",\"Cap'n Proto\",\"Gnuplot\",\"D\",\"Mermaid\",\"Lex\",\"SQLPL\",\"Emacs Lisp\",\"Raku\",\"Julia\",\"Ren'Py\",\"NASL\",\"Mako\",\"Rebol\",\"Scheme\",\"SystemVerilog\",\"Liquid\",\"WDL\",\"Starlark\",\"Vim Snippet\",\"ANTLR\",\"Groff\",\"Scilab\",\"M4\",\"PowerShell\",\"LLVM\",\"DIGITAL Command Language\",\"M\",\"Logos\",\"C#\",\"Cuda\",\"PLSQL\",\"PostScript\",\"PHP\",\"SourcePawn\",\"Batchfile\",\"Jinja\",\"XSLT\",\"Rich Text Format\",\"HCL\",\"Awk\",\"Zig\",\"CUE\",\"Gherkin\",\"Haxe\",\"PLpgSQL\",\"Scala\",\"Stata\",\"Smarty\",\"Nextflow\",\"Arduino\",\"Lua\",\"Cython\",\"Dockerfile\",\"TSQL\",\"Groovy\",\"CMake\",\"Vim Script\",\"SCSS\",\"TypeScript\",\"Vue\",\"Fortran\",\"SAS\",\"Perl\",\"Roff\",\"Objective-C\",\"Makefile\",\"Mathematica\",\"MATLAB\",\"Assembly\",\"CSS\",\"Rust\",\"AMPL\",\"Prolog\",\"Ruby\",\"TeX\",\"Shell\",\"Clojure\",\"Nim\",\"Go\",\"JavaScript\",\"R\",\"Java\",\"C\",\"Python\",\"C++\",\"Web Ontology Language\",\"HTML\",\"Jupyter Notebook\"],\"ticktext\":[\"Procfile\",\"Mercury\",\"Crystal\",\"Cap'n Proto\",\"Gnuplot\",\"D\",\"Mermaid\",\"Lex\",\"SQLPL\",\"Emacs Lisp\",\"Raku\",\"Julia\",\"Ren'Py\",\"NASL\",\"Mako\",\"Rebol\",\"Scheme\",\"SystemVerilog\",\"Liquid\",\"WDL\",\"Starlark\",\"Vim Snippet\",\"ANTLR\",\"Groff\",\"Scilab\",\"M4\",\"PowerShell\",\"LLVM\",\"DIGITAL Command Language\",\"M\",\"Logos\",\"C#\",\"Cuda\",\"PLSQL\",\"PostScript\",\"PHP\",\"SourcePawn\",\"Batchfile\",\"Jinja\",\"XSLT\",\"Rich Text Format\",\"HCL\",\"Awk\",\"Zig\",\"CUE\",\"Gherkin\",\"Haxe\",\"PLpgSQL\",\"Scala\",\"Stata\",\"Smarty\",\"Nextflow\",\"Arduino\",\"Lua\",\"Cython\",\"Dockerfile\",\"TSQL\",\"Groovy\",\"CMake\",\"Vim Script\",\"SCSS\",\"TypeScript\",\"Vue\",\"Fortran\",\"SAS\",\"Perl\",\"Roff\",\"Objective-C\",\"Makefile\",\"Mathematica\",\"MATLAB\",\"Assembly\",\"CSS\",\"Rust\",\"AMPL\",\"Prolog\",\"Ruby\",\"TeX\",\"Shell\",\"Clojure\",\"Nim\",\"Go\",\"JavaScript\",\"R\",\"Java\",\"C\",\"Python\",\"C++\",\"Web Ontology Language\",\"HTML\",\"Jupyter Notebook\"]},\"legend\":{\"tracegroupgap\":0},\"title\":{\"text\":\"Repository Language Line Counts Total\"},\"barmode\":\"relative\",\"height\":1200,\"width\":1200},                        {\"responsive\": true}                    ).then(function(){\n",
       "                            \n",
       "var gd = document.getElementById('b7b1bf71-09a5-47fa-b411-a329d6887f1b');\n",
       "var x = new MutationObserver(function (mutations, observer) {{\n",
       "        var display = window.getComputedStyle(gd).display;\n",
       "        if (!display || display === 'none') {{\n",
       "            console.log([gd, 'removed!']);\n",
       "            Plotly.purge(gd);\n",
       "            observer.disconnect();\n",
       "        }}\n",
       "}});\n",
       "\n",
       "// Listen for the removal of the full notebook cells\n",
       "var notebookContainer = gd.closest('#notebook-container');\n",
       "if (notebookContainer) {{\n",
       "    x.observe(notebookContainer, {childList: true});\n",
       "}}\n",
       "\n",
       "// Listen for the clearing of the current output cell\n",
       "var outputEl = gd.closest('.output');\n",
       "if (outputEl) {{\n",
       "    x.observe(outputEl, {childList: true});\n",
       "}}\n",
       "\n",
       "                        })                };                });            </script>        </div>"
      ]
     },
     "metadata": {},
     "output_type": "display_data"
    }
   ],
   "source": [
    "df_total_language_line_counts[\"line_count_log\"] = np.log(\n",
    "    df_total_language_line_counts[\"line_count\"]\n",
    ")\n",
    "\n",
    "# Create a horizontal bar chart for language line count totals\n",
    "fig_languages = px.bar(\n",
    "    data_frame=df_total_language_line_counts.sort_values(by=\"line_count_log\"),\n",
    "    title=f\"Repository Language Line Counts Total\",\n",
    "    y=\"language\",\n",
    "    x=\"line_count_log\",\n",
    "    color_discrete_sequence=[color_seq[2]],\n",
    "    text=\"line_count_log\",\n",
    "    orientation=\"h\",\n",
    "    width=1200,\n",
    "    height=1200,\n",
    ")\n",
    "\n",
    "# Customize layout to display count labels properly\n",
    "fig_languages.update_traces(\n",
    "    texttemplate=\"%{text}\",\n",
    "    textposition=\"inside\",\n",
    ")\n",
    "fig_languages.update_layout(\n",
    "    xaxis_title=\"Lines of Code (Total)(log)\",\n",
    "    yaxis_title=\"Language\",\n",
    "    # ensure all y axis labels appear\n",
    "    yaxis=dict(\n",
    "        tickmode=\"array\",\n",
    "        tickvals=df_total_language_line_counts[\"language\"].tolist(),\n",
    "        ticktext=df_total_language_line_counts[\"language\"].tolist(),\n",
    "    ),\n",
    ")\n",
    "\n",
    "fig_languages.write_image(\n",
    "    \"images/software-landscape-language-line-counts-total-log.png\"\n",
    ")\n",
    "fig_languages.show()"
   ]
  },
  {
   "cell_type": "code",
   "execution_count": null,
   "id": "ecf762d8-0632-406c-8b8e-226e8df358e7",
   "metadata": {},
   "outputs": [],
   "source": []
  }
 ],
 "metadata": {
  "kernelspec": {
   "display_name": "Python 3 (ipykernel)",
   "language": "python",
   "name": "python3"
  },
  "language_info": {
   "codemirror_mode": {
    "name": "ipython",
    "version": 3
   },
   "file_extension": ".py",
   "mimetype": "text/x-python",
   "name": "python",
   "nbconvert_exporter": "python",
   "pygments_lexer": "ipython3",
   "version": "3.9.16"
  }
 },
 "nbformat": 4,
 "nbformat_minor": 5
}
