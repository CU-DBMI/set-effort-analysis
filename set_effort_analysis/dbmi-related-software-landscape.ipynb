{
 "cells": [
  {
   "cell_type": "markdown",
   "id": "cc345272-c4db-48c4-a97d-49fc7c5c6689",
   "metadata": {
    "tags": []
   },
   "source": [
    "# DBMI Related Software Landscape Analysis\n",
    "\n",
    "This notebook explores the existing software landscape of DBMI or DBMI related software projects (including collaborations and general CU Anschutz ecosystem).\n",
    "\n",
    "## Setup\n",
    "\n",
    "Set an environment variable named `LANDSCAPE_ANALYSIS_GH_TOKEN` to a [GitHub access token](https://docs.github.com/en/authentication/keeping-your-account-and-data-secure/managing-your-personal-access-tokens). E.g.: `export LANDSCAPE_ANALYSIS_GH_TOKEN=token_here`"
   ]
  },
  {
   "cell_type": "code",
   "execution_count": 1,
   "id": "aa4b4f3a-543e-4be5-a7f6-90fca76fec1e",
   "metadata": {
    "tags": []
   },
   "outputs": [],
   "source": [
    "import json\n",
    "import os\n",
    "import pathlib\n",
    "import statistics\n",
    "import subprocess\n",
    "from datetime import datetime, timedelta\n",
    "from typing import Dict, Optional, Union\n",
    "\n",
    "import awkward as ak\n",
    "import duckdb\n",
    "import github\n",
    "import pandas as pd\n",
    "import plotly.colors as pc\n",
    "import plotly.express as px\n",
    "import plotly.graph_objects as go\n",
    "import plotly.io as pio\n",
    "import pytz\n",
    "from box import Box\n",
    "from github import Auth, Github, Repository\n",
    "\n",
    "# set predefined path for data\n",
    "data_dir = \"../data\"\n",
    "\n",
    "# set github authorization and client\n",
    "github_client = Github(\n",
    "    auth=Auth.Token(os.environ.get(\"LANDSCAPE_ANALYSIS_GH_TOKEN\")), per_page=100\n",
    ")\n",
    "\n",
    "# set plotly default theme\n",
    "pio.templates.default = \"simple_white\"\n",
    "\n",
    "# define a color sequence to use\n",
    "color_seq = pc.qualitative.Dark2"
   ]
  },
  {
   "cell_type": "code",
   "execution_count": 2,
   "id": "89262308-3688-48c4-8c5e-03f754afb530",
   "metadata": {
    "tags": []
   },
   "outputs": [
    {
     "data": {
      "text/plain": [
       "36"
      ]
     },
     "execution_count": 2,
     "metadata": {},
     "output_type": "execute_result"
    }
   ],
   "source": [
    "# gather org data\n",
    "org_names = Box.from_yaml(\n",
    "    filename=f\"{data_dir}/software-landscape/github-orgs.yaml\"\n",
    ").organizations\n",
    "\n",
    "# show how many orgs we need to gather data from\n",
    "len(org_names)"
   ]
  },
  {
   "cell_type": "code",
   "execution_count": 3,
   "id": "c4766e46-563c-431c-81d9-91113eb4e30f",
   "metadata": {
    "tags": []
   },
   "outputs": [],
   "source": [
    "def get_github_org_or_user(\n",
    "    name: str,\n",
    ") -> Union[github.NamedUser.NamedUser, github.Organization.Organization]:\n",
    "    \"\"\"\n",
    "    Convenience function to gather pygithub orgs or users similarly\n",
    "    using only a name as a reference point to simplify data gathering.\n",
    "    \"\"\"\n",
    "\n",
    "    try:\n",
    "        # attempt to find github org\n",
    "        return github_client.get_organization(name)\n",
    "    except github.UnknownObjectException:\n",
    "        # if we failed to find the org, try as a user instead\n",
    "        return github_client.get_user(name)\n",
    "\n",
    "\n",
    "def safe_get_readme(repo: github.Repository.Repository) -> Optional[str]:\n",
    "    \"\"\"\n",
    "    Safely retrieve GitHub repo readme data as a string,\n",
    "    returning a None where no readme is found.\n",
    "    \"\"\"\n",
    "\n",
    "    try:\n",
    "        repo.get_readme().content\n",
    "    except github.UnknownObjectException:\n",
    "        return None\n",
    "\n",
    "\n",
    "def safe_detect_license(repo: github.Repository.Repository) -> Optional[str]:\n",
    "    \"\"\"\n",
    "    Safely retrieve detect the license type ID,\n",
    "    returning a None where no readme is found\n",
    "    \"\"\"\n",
    "\n",
    "    try:\n",
    "        return repo.get_license().license.spdx_id\n",
    "    except:\n",
    "        return None"
   ]
  },
  {
   "cell_type": "code",
   "execution_count": null,
   "id": "9b02b733-3075-460e-b3e0-aa0f6bfa042f",
   "metadata": {
    "tags": []
   },
   "outputs": [],
   "source": [
    "# gather targeted data from GitHub\n",
    "github_metrics = [\n",
    "    {\n",
    "        \"GitHub Org Name\": org_name,\n",
    "        \"Repo Name\": repo.name,\n",
    "        \"GitHub Repo Full Name\": repo.full_name,\n",
    "        \"GitHub Repository ID\": repo.id,\n",
    "        \"Repository Size (KB)\": repo.size,\n",
    "        \"GitHub Repo Archived\": repo.archived,\n",
    "        \"GitHub Repo Created Month\": repo.created_at.strftime(\"%Y-%m-%d\"),\n",
    "        \"GitHub Stars\": repo.stargazers_count,\n",
    "        \"GitHub Network Count\": repo.network_count,\n",
    "        \"GitHub Forks\": repo.forks_count,\n",
    "        \"GitHub Subscribers\": repo.subscribers_count,\n",
    "        \"GitHub Open Issues\": repo.get_issues(state=\"open\").totalCount,\n",
    "        \"GitHub Contributors\": repo.get_contributors().totalCount,\n",
    "        \"GitHub License Type\": safe_detect_license(repo),\n",
    "        \"GitHub Topics\": repo.topics,\n",
    "        \"GitHub Description\": repo.description,\n",
    "        \"GitHub Readme\": safe_get_readme(repo),\n",
    "        \"GitHub Detected Languages\": repo.get_languages(),\n",
    "    }\n",
    "    # make a request for github org data with pygithub\n",
    "    for org_name, repo in [\n",
    "        (\n",
    "            org_name,\n",
    "            repo,\n",
    "        )\n",
    "        for org_name in org_names\n",
    "        for repo in get_github_org_or_user(org_name).get_repos()\n",
    "    ]\n",
    "]\n",
    "ak.Array(github_metrics)"
   ]
  },
  {
   "cell_type": "code",
   "execution_count": null,
   "id": "9941b5ce-f395-44bb-95a0-a3725ec7105d",
   "metadata": {
    "tags": []
   },
   "outputs": [],
   "source": [
    "df_github_metrics = pd.DataFrame(github_metrics)\n",
    "df_github_metrics.info()"
   ]
  },
  {
   "cell_type": "code",
   "execution_count": null,
   "id": "b59fc71d-d69c-45e4-8036-4845899fa5b9",
   "metadata": {
    "tags": []
   },
   "outputs": [],
   "source": [
    "# Function to find the top language for each row\n",
    "def find_top_language(languages):\n",
    "    if isinstance(languages, dict):\n",
    "        non_empty_languages = {\n",
    "            key: value for key, value in languages.items() if value is not None\n",
    "        }\n",
    "        if non_empty_languages:\n",
    "            return max(non_empty_languages, key=non_empty_languages.get)\n",
    "    return None\n",
    "\n",
    "\n",
    "# gather the number of lines of code\n",
    "df_github_metrics[\"Total lines of GitHub detected code\"] = (\n",
    "    df_github_metrics[\"GitHub Detected Languages\"]\n",
    "    .dropna()\n",
    "    .apply(lambda x: sum(value if value is not None else 0 for value in x.values()))\n",
    ")\n",
    "\n",
    "# Apply the function to the \"GitHub Detected Languages\" column and create a new column \"Primary programming language\"\n",
    "df_github_metrics[\"Primary language\"] = df_github_metrics[\n",
    "    \"GitHub Detected Languages\"\n",
    "].apply(find_top_language)\n",
    "df_github_metrics.info()"
   ]
  },
  {
   "cell_type": "code",
   "execution_count": null,
   "id": "f6b25ee9-9ca6-47fb-a8c3-cacd2bb3a2cb",
   "metadata": {
    "tags": []
   },
   "outputs": [],
   "source": [
    "# prep for creating an hbar chart for primary languages\n",
    "grouped_data = (\n",
    "    df_github_metrics.groupby([\"Primary language\"]).size().reset_index(name=\"Count\")\n",
    ")\n",
    "\n",
    "# Group by \"Primary programming language\" and calculate the sum of counts for each programming language\n",
    "programming_language_counts = (\n",
    "    grouped_data.groupby(\"Primary language\")[\"Count\"].sum().reset_index()\n",
    ")\n",
    "\n",
    "# Sort programming languages by the sum of counts in descending order\n",
    "programming_language_counts = programming_language_counts.sort_values(\n",
    "    by=\"Count\", ascending=False\n",
    ")\n",
    "programming_language_counts"
   ]
  },
  {
   "cell_type": "code",
   "execution_count": null,
   "id": "bcdd1db5-6c55-41eb-bdc3-d4a02bcdf791",
   "metadata": {
    "tags": []
   },
   "outputs": [],
   "source": [
    "# Create a horizontal bar chart for primary language counts\n",
    "fig_languages = px.bar(\n",
    "    data_frame=grouped_data.sort_values(by=\"Count\"),\n",
    "    title=f\"Repository Primary Language Count\",\n",
    "    y=\"Primary language\",\n",
    "    x=\"Count\",\n",
    "    color_discrete_sequence=[color_seq[0]],\n",
    "    text=\"Count\",\n",
    "    orientation=\"h\",\n",
    "    width=1200,\n",
    "    height=700,\n",
    ")\n",
    "\n",
    "# Customize layout to display count labels properly\n",
    "fig_languages.update_traces(\n",
    "    texttemplate=\"%{text}\",\n",
    "    textposition=\"inside\",\n",
    ")\n",
    "fig_languages.update_layout(\n",
    "    # ensure all y axis labels appear\n",
    "    yaxis=dict(\n",
    "        tickmode=\"array\",\n",
    "        tickvals=programming_language_counts[\"Primary language\"].tolist(),\n",
    "        ticktext=programming_language_counts[\"Primary language\"].tolist(),\n",
    "    ),\n",
    ")"
   ]
  },
  {
   "cell_type": "code",
   "execution_count": null,
   "id": "cabce8d5-a6a0-42ca-a444-f8058578791f",
   "metadata": {
    "tags": []
   },
   "outputs": [],
   "source": [
    "# gather total lines of code for all repos by language\n",
    "total_language_line_counts = [\n",
    "    total_language_line_counts.append(\n",
    "        {\n",
    "            \"language\": language,\n",
    "            \"line_count\": ak.sum(\n",
    "                ak.Array(github_metrics)[\"GitHub Detected Languages\"][language]\n",
    "            ),\n",
    "        }\n",
    "    )\n",
    "    for language in ak.Array(github_metrics)[\"GitHub Detected Languages\"].fields\n",
    "]\n",
    "\n",
    "df_total_language_line_counts = pd.DataFrame.from_records(\n",
    "    total_language_line_counts\n",
    ").sort_values(by=\"line_count\")\n",
    "\n",
    "df_total_language_line_counts"
   ]
  },
  {
   "cell_type": "code",
   "execution_count": null,
   "id": "f7a91d38-ae25-403f-9367-1e91702cdab9",
   "metadata": {
    "tags": []
   },
   "outputs": [],
   "source": [
    "# Create a horizontal bar chart for language line count totals\n",
    "fig_languages = px.bar(\n",
    "    data_frame=df_total_language_line_counts.sort_values(by=\"line_count\"),\n",
    "    title=f\"Repository Language Line Counts Total\",\n",
    "    y=\"language\",\n",
    "    x=\"line_count\",\n",
    "    color_discrete_sequence=[color_seq[2]],\n",
    "    text=\"line_count\",\n",
    "    orientation=\"h\",\n",
    "    width=1200,\n",
    "    height=700,\n",
    ")\n",
    "\n",
    "# Customize layout to display count labels properly\n",
    "fig_languages.update_traces(\n",
    "    texttemplate=\"%{text}\",\n",
    "    textposition=\"inside\",\n",
    ")\n",
    "fig_languages.update_layout(\n",
    "    xaxis_title=\"Lines of Code (Total)\",\n",
    "    yaxis_title=\"Language\",\n",
    "    # ensure all y axis labels appear\n",
    "    yaxis=dict(\n",
    "        tickmode=\"array\",\n",
    "        tickvals=df_total_language_line_counts[\"language\"].tolist(),\n",
    "        ticktext=df_total_language_line_counts[\"language\"].tolist(),\n",
    "    ),\n",
    ")"
   ]
  }
 ],
 "metadata": {
  "kernelspec": {
   "display_name": "Python 3 (ipykernel)",
   "language": "python",
   "name": "python3"
  },
  "language_info": {
   "codemirror_mode": {
    "name": "ipython",
    "version": 3
   },
   "file_extension": ".py",
   "mimetype": "text/x-python",
   "name": "python",
   "nbconvert_exporter": "python",
   "pygments_lexer": "ipython3",
   "version": "3.9.16"
  }
 },
 "nbformat": 4,
 "nbformat_minor": 5
}
