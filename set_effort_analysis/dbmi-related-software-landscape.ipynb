{
 "cells": [
  {
   "cell_type": "markdown",
   "id": "cc345272-c4db-48c4-a97d-49fc7c5c6689",
   "metadata": {
    "tags": []
   },
   "source": [
    "# DBMI Related Software Landscape Analysis\n",
    "\n",
    "This notebook explores the existing software landscape of DBMI or DBMI related software projects (including collaborations and general CU Anschutz ecosystem).\n",
    "\n",
    "## Setup\n",
    "\n",
    "Set an environment variable named `LANDSCAPE_ANALYSIS_GH_TOKEN` to a [GitHub access token](https://docs.github.com/en/authentication/keeping-your-account-and-data-secure/managing-your-personal-access-tokens). E.g.: `export LANDSCAPE_ANALYSIS_GH_TOKEN=token_here`"
   ]
  },
  {
   "cell_type": "code",
   "execution_count": 3,
   "id": "aa4b4f3a-543e-4be5-a7f6-90fca76fec1e",
   "metadata": {
    "tags": []
   },
   "outputs": [],
   "source": [
    "import json\n",
    "import os\n",
    "import pathlib\n",
    "import statistics\n",
    "import subprocess\n",
    "from datetime import datetime, timedelta\n",
    "from typing import Dict, Optional\n",
    "\n",
    "import awkward as ak\n",
    "import duckdb\n",
    "import pandas as pd\n",
    "import pytz\n",
    "from box import Box\n",
    "from github import Auth, Github, Repository\n",
    "\n",
    "# set predefined path for data\n",
    "data_dir = \"../data\"\n",
    "\n",
    "# set github authorization and client\n",
    "github_client = Github(\n",
    "    auth=Auth.Token(os.environ.get(\"LANDSCAPE_ANALYSIS_GH_TOKEN\")), per_page=100\n",
    ")"
   ]
  },
  {
   "cell_type": "code",
   "execution_count": 4,
   "id": "89262308-3688-48c4-8c5e-03f754afb530",
   "metadata": {
    "tags": []
   },
   "outputs": [
    {
     "data": {
      "text/plain": [
       "35"
      ]
     },
     "execution_count": 4,
     "metadata": {},
     "output_type": "execute_result"
    }
   ],
   "source": [
    "# gather org data\n",
    "org_names = Box.from_yaml(\n",
    "    filename=f\"{data_dir}/software-landscape/github-orgs.yaml\"\n",
    ").organizations\n",
    "\n",
    "# show how many orgs we need to gather data from\n",
    "len(org_names)"
   ]
  },
  {
   "cell_type": "code",
   "execution_count": null,
   "id": "9b02b733-3075-460e-b3e0-aa0f6bfa042f",
   "metadata": {},
   "outputs": [],
   "source": []
  }
 ],
 "metadata": {
  "kernelspec": {
   "display_name": "Python 3 (ipykernel)",
   "language": "python",
   "name": "python3"
  },
  "language_info": {
   "codemirror_mode": {
    "name": "ipython",
    "version": 3
   },
   "file_extension": ".py",
   "mimetype": "text/x-python",
   "name": "python",
   "nbconvert_exporter": "python",
   "pygments_lexer": "ipython3",
   "version": "3.9.16"
  }
 },
 "nbformat": 4,
 "nbformat_minor": 5
}
