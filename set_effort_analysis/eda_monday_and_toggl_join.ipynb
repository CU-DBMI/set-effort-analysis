{
 "cells": [
  {
   "cell_type": "markdown",
   "id": "66efaf66-6e56-4bdc-8610-ca6a360cad58",
   "metadata": {
    "tags": []
   },
   "source": [
    "# DBMI SET Effort Analysis - Data Exploration - Monday.com and Toggl.com Data Joins"
   ]
  },
  {
   "cell_type": "code",
   "execution_count": null,
   "id": "9cdd1b0b-e37f-4c10-a2e1-77b96cd424c4",
   "metadata": {
    "tags": []
   },
   "outputs": [],
   "source": [
    "import pathlib\n",
    "import zipfile\n",
    "\n",
    "import duckdb\n",
    "import pandas as pd"
   ]
  },
  {
   "cell_type": "code",
   "execution_count": null,
   "id": "ed7fcc40-4824-4fb8-8de5-be63f89ebbc3",
   "metadata": {
    "tags": []
   },
   "outputs": [],
   "source": [
    "# pull data from dvc remote\n",
    "!dvc pull"
   ]
  },
  {
   "cell_type": "code",
   "execution_count": null,
   "id": "d04d1a04-dada-4457-9743-3e5c7d5ada04",
   "metadata": {
    "tags": []
   },
   "outputs": [],
   "source": [
    "# setting some paths for later reference\n",
    "monday_data = \"../data/monday.com/datadbmi-set-monday-acct-project-tasks.parquet\"\n",
    "toggl_data = list(\n",
    "    pathlib.Path(\"../data/toggl.com/\").glob(\"DB-Toggl_Track_summary_report_*.csv\")\n",
    ")"
   ]
  },
  {
   "cell_type": "code",
   "execution_count": null,
   "id": "8492ca01-cae4-4a79-bf09-9130bd3ea5f2",
   "metadata": {
    "tags": []
   },
   "outputs": [],
   "source": [
    "# read monday data into df\n",
    "df_monday = pd.read_parquet(monday_data)\n",
    "print(df_monday.info())\n",
    "df_monday.head()"
   ]
  },
  {
   "cell_type": "code",
   "execution_count": null,
   "id": "daa18c3b-3a7f-41aa-8ef0-eefcace9dc06",
   "metadata": {
    "tags": []
   },
   "outputs": [],
   "source": [
    "df_monday[\"Acct_Name\"].unique()"
   ]
  },
  {
   "cell_type": "code",
   "execution_count": null,
   "id": "29a87bf7-24f4-49db-a408-8c3c755bd506",
   "metadata": {
    "tags": []
   },
   "outputs": [],
   "source": [
    "# read toggl data into df\n",
    "df_toggl = pd.concat([pd.read_csv(filepath) for filepath in toggl_data])\n",
    "print(df_toggl.info())\n",
    "df_toggl.head()"
   ]
  },
  {
   "cell_type": "code",
   "execution_count": null,
   "id": "3c7bd94e-4927-4002-9cc0-a01566417f12",
   "metadata": {
    "tags": []
   },
   "outputs": [],
   "source": [
    "df_toggl[\"Client\"].unique()"
   ]
  },
  {
   "cell_type": "code",
   "execution_count": null,
   "id": "6cffd9df-d593-47b3-bbd3-4730580ee520",
   "metadata": {
    "tags": []
   },
   "outputs": [],
   "source": [
    "# rename columns for join clarity\n",
    "df_monday = df_monday.rename(\n",
    "    columns={\"Acct_Name\": \"Client\", \"Task_Actual Time\": \"Duration\"}\n",
    ")\n",
    "df_toggl = df_toggl.rename(columns={\"Description\": \"Task_Name\"})"
   ]
  },
  {
   "cell_type": "code",
   "execution_count": null,
   "id": "6dbcda23-8758-469d-a4b3-0d7c3d4c495e",
   "metadata": {
    "tags": []
   },
   "outputs": [],
   "source": [
    "# relabel clients from monday for dataset clarity\n",
    "df_monday[\"Client\"] = (\n",
    "    df_monday[\"Client\"]\n",
    "    .str.replace(\"HealthAI: Way Lab\", \"Way Lab\")\n",
    "    .replace(\"HealthAI: Admin & Operations\", \"DBMI Administration\")\n",
    ")"
   ]
  },
  {
   "cell_type": "code",
   "execution_count": null,
   "id": "93ddd30e-4128-44b0-bcfd-f43b51a43175",
   "metadata": {
    "tags": []
   },
   "outputs": [],
   "source": [
    "column_subset = [\"Client\", \"Task_Name\", \"Duration\"]\n",
    "df_combined = pd.concat([df_monday[column_subset], df_toggl[column_subset]]).dropna()\n",
    "df_combined.head()"
   ]
  },
  {
   "cell_type": "code",
   "execution_count": null,
   "id": "dc1b5600-75dd-4d9f-8c73-fb5f27043b5e",
   "metadata": {
    "tags": []
   },
   "outputs": [],
   "source": [
    "# cast duration as a datetime and as separate minutes column\n",
    "df_combined[\"Duration\"] = pd.to_timedelta(df_combined[\"Duration\"], errors=\"ignore\")\n",
    "df_combined[\"Duration_Minutes\"] = (\n",
    "    df_combined[\"Duration\"].dt.total_seconds().div(60).astype(int)\n",
    ")"
   ]
  },
  {
   "cell_type": "code",
   "execution_count": null,
   "id": "1ffd0aa1-159c-4b16-b55e-3df34807b23b",
   "metadata": {
    "tags": []
   },
   "outputs": [],
   "source": [
    "df_combined.groupby(\"Client\")[\"Duration_Minutes\"].sum().sort_values().plot(kind=\"barh\")"
   ]
  },
  {
   "cell_type": "code",
   "execution_count": null,
   "id": "f1225663-db30-4988-b2ff-711580442adf",
   "metadata": {
    "tags": []
   },
   "outputs": [],
   "source": [
    "# export for potential later use\n",
    "df_combined.to_parquet(\"../data/analysis/monday_and_toggl_task_analysis.parquet\")"
   ]
  },
  {
   "cell_type": "code",
   "execution_count": null,
   "id": "1a3adb8c-8257-4abd-a39d-7f0765080770",
   "metadata": {},
   "outputs": [],
   "source": [
    "!dvc add ../data/analysis/monday_and_toggl_task_analysis.parquet\n",
    "!git add ../data/analysis/monday_and_toggl_task_analysis.parquet.dvc\n",
    "!dvc push"
   ]
  }
 ],
 "metadata": {
  "kernelspec": {
   "display_name": "Python 3 (ipykernel)",
   "language": "python",
   "name": "python3"
  },
  "language_info": {
   "codemirror_mode": {
    "name": "ipython",
    "version": 3
   },
   "file_extension": ".py",
   "mimetype": "text/x-python",
   "name": "python",
   "nbconvert_exporter": "python",
   "pygments_lexer": "ipython3",
   "version": "3.9.12"
  }
 },
 "nbformat": 4,
 "nbformat_minor": 5
}
